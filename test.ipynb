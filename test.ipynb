{
 "cells": [
  {
   "cell_type": "code",
   "execution_count": 4,
   "metadata": {},
   "outputs": [
    {
     "name": "stderr",
     "output_type": "stream",
     "text": [
      "/opt/anaconda3/lib/python3.7/site-packages/dask/dataframe/utils.py:14: FutureWarning: pandas.util.testing is deprecated. Use the functions in the public API at pandas.testing instead.\n",
      "  import pandas.util.testing as tm\n"
     ]
    }
   ],
   "source": [
    "from xgboost import XGBClassifier \n",
    "import numpy as np\n",
    "from sklearn.model_selection import train_test_split\n",
    "from sklearn.metrics import accuracy_score\n",
    "from sklearn.metrics import confusion_matrix\n",
    "from sklearn.metrics import classification_report"
   ]
  },
  {
   "cell_type": "code",
   "execution_count": 5,
   "metadata": {},
   "outputs": [
    {
     "data": {
      "text/plain": [
       "array(['Defacement', 'benign', 'malware', 'phishing', 'spam'],\n",
       "      dtype=object)"
      ]
     },
     "execution_count": 5,
     "metadata": {},
     "output_type": "execute_result"
    }
   ],
   "source": [
    "import pandas as pd\n",
    "df = pd.read_csv('./All.csv')\n",
    "df = df.sample(frac=1)\n",
    "np.unique(df['URL_Type_obf_Type'])"
   ]
  },
  {
   "cell_type": "code",
   "execution_count": 6,
   "metadata": {},
   "outputs": [],
   "source": [
    "df['URL_Type_obf_Type'] = pd.Categorical(df['URL_Type_obf_Type'])\n",
    "df['URL_Type_obf_Type'] = df['URL_Type_obf_Type'].cat.codes\n",
    "X = df.drop(['URL_Type_obf_Type'], axis=1)\n",
    "y = df['URL_Type_obf_Type']"
   ]
  },
  {
   "cell_type": "code",
   "execution_count": 7,
   "metadata": {},
   "outputs": [
    {
     "data": {
      "text/plain": [
       "(36707, 79)"
      ]
     },
     "execution_count": 7,
     "metadata": {},
     "output_type": "execute_result"
    }
   ],
   "source": [
    "X.shape"
   ]
  },
  {
   "cell_type": "code",
   "execution_count": 8,
   "metadata": {},
   "outputs": [],
   "source": [
    "X_train, X_test, y_train, y_test = train_test_split(X, y, test_size=0.2, random_state=42) \n",
    "X_train, X_val, y_train, y_val = train_test_split(X_train, y_train, test_size=0.1, random_state=1)"
   ]
  },
  {
   "cell_type": "code",
   "execution_count": null,
   "metadata": {},
   "outputs": [
    {
     "name": "stdout",
     "output_type": "stream",
     "text": [
      "[11:13:28] WARNING: /Users/travis/build/dmlc/xgboost/src/learner.cc:480: \n",
      "Parameters: { use_label_encoder } might not be used.\n",
      "\n",
      "  This may not be accurate due to some parameters are only used in language bindings but\n",
      "  passed down to XGBoost core.  Or some parameters are not used but slip through this\n",
      "  verification. Please open an issue if you find above cases.\n",
      "\n",
      "\n",
      "[0]\tvalidation_0-mlogloss:1.52425\tvalidation_1-mlogloss:1.52489\n",
      "Multiple eval metrics have been passed: 'validation_1-mlogloss' will be used for early stopping.\n",
      "\n",
      "Will train until validation_1-mlogloss hasn't improved in 10 rounds.\n",
      "[1]\tvalidation_0-mlogloss:1.45092\tvalidation_1-mlogloss:1.45222\n",
      "[2]\tvalidation_0-mlogloss:1.38367\tvalidation_1-mlogloss:1.38539\n",
      "[3]\tvalidation_0-mlogloss:1.32165\tvalidation_1-mlogloss:1.32401\n",
      "[4]\tvalidation_0-mlogloss:1.26374\tvalidation_1-mlogloss:1.26692\n",
      "[5]\tvalidation_0-mlogloss:1.21208\tvalidation_1-mlogloss:1.21580\n",
      "[6]\tvalidation_0-mlogloss:1.16401\tvalidation_1-mlogloss:1.16853\n",
      "[7]\tvalidation_0-mlogloss:1.11845\tvalidation_1-mlogloss:1.12332\n",
      "[8]\tvalidation_0-mlogloss:1.07694\tvalidation_1-mlogloss:1.08225\n",
      "[9]\tvalidation_0-mlogloss:1.03724\tvalidation_1-mlogloss:1.04300\n",
      "[10]\tvalidation_0-mlogloss:1.00171\tvalidation_1-mlogloss:1.00772\n",
      "[11]\tvalidation_0-mlogloss:0.96662\tvalidation_1-mlogloss:0.97323\n",
      "[12]\tvalidation_0-mlogloss:0.93376\tvalidation_1-mlogloss:0.94072\n",
      "[13]\tvalidation_0-mlogloss:0.90270\tvalidation_1-mlogloss:0.90989\n",
      "[14]\tvalidation_0-mlogloss:0.87425\tvalidation_1-mlogloss:0.88187\n",
      "[15]\tvalidation_0-mlogloss:0.84650\tvalidation_1-mlogloss:0.85440\n",
      "[16]\tvalidation_0-mlogloss:0.82013\tvalidation_1-mlogloss:0.82793\n",
      "[17]\tvalidation_0-mlogloss:0.79476\tvalidation_1-mlogloss:0.80273\n",
      "[18]\tvalidation_0-mlogloss:0.77049\tvalidation_1-mlogloss:0.77843\n",
      "[19]\tvalidation_0-mlogloss:0.74696\tvalidation_1-mlogloss:0.75494\n",
      "[20]\tvalidation_0-mlogloss:0.72440\tvalidation_1-mlogloss:0.73265\n",
      "[21]\tvalidation_0-mlogloss:0.70408\tvalidation_1-mlogloss:0.71244\n",
      "[22]\tvalidation_0-mlogloss:0.68360\tvalidation_1-mlogloss:0.69168\n",
      "[23]\tvalidation_0-mlogloss:0.66436\tvalidation_1-mlogloss:0.67288\n",
      "[24]\tvalidation_0-mlogloss:0.64635\tvalidation_1-mlogloss:0.65490\n",
      "[25]\tvalidation_0-mlogloss:0.62828\tvalidation_1-mlogloss:0.63706\n",
      "[26]\tvalidation_0-mlogloss:0.61099\tvalidation_1-mlogloss:0.62011\n",
      "[27]\tvalidation_0-mlogloss:0.59426\tvalidation_1-mlogloss:0.60380\n",
      "[28]\tvalidation_0-mlogloss:0.57861\tvalidation_1-mlogloss:0.58821\n",
      "[29]\tvalidation_0-mlogloss:0.56347\tvalidation_1-mlogloss:0.57346\n",
      "[30]\tvalidation_0-mlogloss:0.54919\tvalidation_1-mlogloss:0.55935\n",
      "[31]\tvalidation_0-mlogloss:0.53558\tvalidation_1-mlogloss:0.54593\n",
      "[32]\tvalidation_0-mlogloss:0.52216\tvalidation_1-mlogloss:0.53277\n",
      "[33]\tvalidation_0-mlogloss:0.51011\tvalidation_1-mlogloss:0.52058\n",
      "[34]\tvalidation_0-mlogloss:0.49845\tvalidation_1-mlogloss:0.50896\n",
      "[35]\tvalidation_0-mlogloss:0.48698\tvalidation_1-mlogloss:0.49774\n",
      "[36]\tvalidation_0-mlogloss:0.47618\tvalidation_1-mlogloss:0.48726\n",
      "[37]\tvalidation_0-mlogloss:0.46520\tvalidation_1-mlogloss:0.47640\n",
      "[38]\tvalidation_0-mlogloss:0.45503\tvalidation_1-mlogloss:0.46640\n",
      "[39]\tvalidation_0-mlogloss:0.44474\tvalidation_1-mlogloss:0.45653\n",
      "[40]\tvalidation_0-mlogloss:0.43494\tvalidation_1-mlogloss:0.44709\n",
      "[41]\tvalidation_0-mlogloss:0.42492\tvalidation_1-mlogloss:0.43740\n",
      "[42]\tvalidation_0-mlogloss:0.41606\tvalidation_1-mlogloss:0.42885\n",
      "[43]\tvalidation_0-mlogloss:0.40750\tvalidation_1-mlogloss:0.42068\n",
      "[44]\tvalidation_0-mlogloss:0.39835\tvalidation_1-mlogloss:0.41186\n",
      "[45]\tvalidation_0-mlogloss:0.39038\tvalidation_1-mlogloss:0.40394\n",
      "[46]\tvalidation_0-mlogloss:0.38282\tvalidation_1-mlogloss:0.39667\n",
      "[47]\tvalidation_0-mlogloss:0.37532\tvalidation_1-mlogloss:0.38938\n",
      "[48]\tvalidation_0-mlogloss:0.36825\tvalidation_1-mlogloss:0.38257\n",
      "[49]\tvalidation_0-mlogloss:0.36073\tvalidation_1-mlogloss:0.37532\n",
      "[50]\tvalidation_0-mlogloss:0.35447\tvalidation_1-mlogloss:0.36939\n",
      "[51]\tvalidation_0-mlogloss:0.34776\tvalidation_1-mlogloss:0.36315\n",
      "[52]\tvalidation_0-mlogloss:0.34160\tvalidation_1-mlogloss:0.35705\n",
      "[53]\tvalidation_0-mlogloss:0.33547\tvalidation_1-mlogloss:0.35111\n",
      "[54]\tvalidation_0-mlogloss:0.32928\tvalidation_1-mlogloss:0.34508\n",
      "[55]\tvalidation_0-mlogloss:0.32266\tvalidation_1-mlogloss:0.33867\n",
      "[56]\tvalidation_0-mlogloss:0.31722\tvalidation_1-mlogloss:0.33336\n",
      "[57]\tvalidation_0-mlogloss:0.31167\tvalidation_1-mlogloss:0.32797\n",
      "[58]\tvalidation_0-mlogloss:0.30637\tvalidation_1-mlogloss:0.32258\n",
      "[59]\tvalidation_0-mlogloss:0.30108\tvalidation_1-mlogloss:0.31736\n",
      "[60]\tvalidation_0-mlogloss:0.29581\tvalidation_1-mlogloss:0.31230\n",
      "[61]\tvalidation_0-mlogloss:0.29109\tvalidation_1-mlogloss:0.30769\n",
      "[62]\tvalidation_0-mlogloss:0.28651\tvalidation_1-mlogloss:0.30319\n",
      "[63]\tvalidation_0-mlogloss:0.28201\tvalidation_1-mlogloss:0.29870\n",
      "[64]\tvalidation_0-mlogloss:0.27759\tvalidation_1-mlogloss:0.29439\n",
      "[65]\tvalidation_0-mlogloss:0.27354\tvalidation_1-mlogloss:0.29054\n",
      "[66]\tvalidation_0-mlogloss:0.26910\tvalidation_1-mlogloss:0.28622\n",
      "[67]\tvalidation_0-mlogloss:0.26497\tvalidation_1-mlogloss:0.28226\n"
     ]
    }
   ],
   "source": [
    "weights = pd.Series(y_train).value_counts().values / y_train.size\n",
    "all_weights = np.zeros(y_train.size)\n",
    "for label in np.unique(y_train):\n",
    "    all_weights[y_train == label] = weights[label]\n",
    "xgb = XGBClassifier(n_estimators=5000, learning_rate=0.05, gamma=0, subsample=0.7,\n",
    "                            objective=\"multi:softprob\",\n",
    "                            num_class=len(np.unique(y_train)),\n",
    "                            eval_metric=\"mlogloss\", random_state=93, use_label_encoder=False)\n",
    "xgb = xgb.fit(X_train, y_train, eval_set=[(X_train, y_train), (X_val, y_val)],\n",
    "                        early_stopping_rounds=10,\n",
    "                        sample_weight=all_weights)"
   ]
  },
  {
   "cell_type": "code",
   "execution_count": null,
   "metadata": {},
   "outputs": [],
   "source": [
    "# predict classification report\n",
    "y_pred = xgb.predict(X_test)\n",
    "# print classification report\n",
    "print(classification_report(y_test, y_pred))"
   ]
  },
  {
   "cell_type": "code",
   "execution_count": null,
   "metadata": {},
   "outputs": [],
   "source": [
    "import pickle\n",
    "with open(\"xgb_good\", \"wb\") as file:\n",
    "    pickle.dump(xgb, file)"
   ]
  },
  {
   "cell_type": "code",
   "execution_count": null,
   "metadata": {},
   "outputs": [],
   "source": [
    "# strategy = tf.distribute.MirroredStrategy()\n",
    "import tensorflow as tf\n",
    "from tensorflow.keras.models import Sequential,Model\n",
    "from tensorflow.keras.layers import Dense,Dropout\n",
    "model = Sequential()\n",
    "model.add(Dense(40, activation=\"relu\",input_shape=(79,1)))\n",
    "model.add(Dropout(0.3))\n",
    "model.add(Dense(20, activation=\"relu\"))\n",
    "model.add(Dense(10, activation=\"relu\"))\n",
    "model.add(Dense(1, activation=\"sigmoid\"))\n",
    "model.compile(loss=tf.keras.losses.CategoricalCrossentropy(), optimizer=tf.keras.optimizers.Adam(learning_rate=0.001),metrics=[\"accuracy\",tf.keras.metrics.Recall(),tf.keras.metrics.Precision()])\n",
    "model.summary()"
   ]
  },
  {
   "cell_type": "code",
   "execution_count": null,
   "metadata": {},
   "outputs": [],
   "source": [
    "callback = tf.keras.callbacks.EarlyStopping(monitor='loss', patience=20)\n",
    "history = model.fit(X_train,y_train,batch_size=200,epochs=500,\n",
    "                    validation_split=0.05,class_weight=weights,\n",
    "                    use_multiprocessing=True,workers=8,callbacks=[callback])"
   ]
  },
  {
   "cell_type": "code",
   "execution_count": null,
   "metadata": {},
   "outputs": [],
   "source": [
    "history"
   ]
  },
  {
   "cell_type": "code",
   "execution_count": null,
   "metadata": {},
   "outputs": [],
   "source": []
  }
 ],
 "metadata": {
  "interpreter": {
   "hash": "40d3a090f54c6569ab1632332b64b2c03c39dcf918b08424e98f38b5ae0af88f"
  },
  "kernelspec": {
   "display_name": "Python 3.7.4 64-bit ('base': conda)",
   "language": "python",
   "name": "python374jvsc74a57bd040d3a090f54c6569ab1632332b64b2c03c39dcf918b08424e98f38b5ae0af88f"
  },
  "language_info": {
   "codemirror_mode": {
    "name": "ipython",
    "version": 3
   },
   "file_extension": ".py",
   "mimetype": "text/x-python",
   "name": "python",
   "nbconvert_exporter": "python",
   "pygments_lexer": "ipython3",
   "version": "3.7.4"
  }
 },
 "nbformat": 4,
 "nbformat_minor": 2
}
