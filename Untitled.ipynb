{
 "cells": [
  {
   "cell_type": "code",
   "execution_count": 5,
   "id": "7928c66c",
   "metadata": {
    "ExecuteTime": {
     "end_time": "2021-12-26T12:07:53.972646Z",
     "start_time": "2021-12-26T12:07:44.975832Z"
    }
   },
   "outputs": [],
   "source": [
    "import pandas as pd\n",
    "import numpy as np\n",
    "import matplotlib.pyplot as plt\n",
    "from Helpers.preprocess.main import *\n",
    "from Helpers.models.simple_ml import *\n",
    "from Helpers.preprocess.content_based_features import get_content_based_features\n",
    "from Helpers.preprocess.host_based_features import get_host_based_features\n",
    "from Helpers.preprocess.lexical_url_features import get_lexical_url_features"
   ]
  },
  {
   "cell_type": "code",
   "execution_count": 7,
   "id": "410e2a19",
   "metadata": {
    "ExecuteTime": {
     "end_time": "2021-12-26T12:09:22.426578Z",
     "start_time": "2021-12-26T12:09:19.989633Z"
    }
   },
   "outputs": [],
   "source": [
    "df = pd.read_csv(\"Data/malicious_phish.csv\").sample(50000)\n",
    "df.to_csv(\"small.csv\")"
   ]
  },
  {
   "cell_type": "code",
   "execution_count": 8,
   "id": "cb465667",
   "metadata": {
    "ExecuteTime": {
     "end_time": "2021-12-26T12:10:51.442652Z",
     "start_time": "2021-12-26T12:09:40.807646Z"
    }
   },
   "outputs": [
    {
     "data": {
      "application/vnd.jupyter.widget-view+json": {
       "model_id": "9d04fd0c8d5a48469eac4c6289ac907d",
       "version_major": 2,
       "version_minor": 0
      },
      "text/plain": [
       "Pandas Apply:   0%|          | 0/50000 [00:00<?, ?it/s]"
      ]
     },
     "metadata": {},
     "output_type": "display_data"
    },
    {
     "data": {
      "application/vnd.jupyter.widget-view+json": {
       "model_id": "fbbbe34394cd406ab7664db9cc0d1704",
       "version_major": 2,
       "version_minor": 0
      },
      "text/plain": [
       "Pandas Apply:   0%|          | 0/50000 [00:00<?, ?it/s]"
      ]
     },
     "metadata": {},
     "output_type": "display_data"
    }
   ],
   "source": [
    "df = preprocess(cache=False,features_extractors=(get_lexical_url_features,),save_to_path=\"./small_clean.csv\",data_path=\"small.csv\")"
   ]
  },
  {
   "cell_type": "code",
   "execution_count": 9,
   "id": "f1c9a823",
   "metadata": {
    "ExecuteTime": {
     "end_time": "2021-12-26T12:11:18.031658Z",
     "start_time": "2021-12-26T12:11:15.609622Z"
    }
   },
   "outputs": [],
   "source": [
    "X_train, X_test, y_train, y_test = scale_data(df)"
   ]
  },
  {
   "cell_type": "code",
   "execution_count": 11,
   "id": "fd83ad0b",
   "metadata": {
    "ExecuteTime": {
     "end_time": "2021-12-26T12:14:43.134141Z",
     "start_time": "2021-12-26T12:14:15.344898Z"
    }
   },
   "outputs": [
    {
     "name": "stdout",
     "output_type": "stream",
     "text": [
      "Model: \"sequential\"\n",
      "_________________________________________________________________\n",
      "Layer (type)                 Output Shape              Param #   \n",
      "=================================================================\n",
      "dense (Dense)                (None, 697, 300)          600       \n",
      "_________________________________________________________________\n",
      "dropout (Dropout)            (None, 697, 300)          0         \n",
      "_________________________________________________________________\n",
      "dense_1 (Dense)              (None, 697, 150)          45150     \n",
      "_________________________________________________________________\n",
      "dense_2 (Dense)              (None, 697, 70)           10570     \n",
      "_________________________________________________________________\n",
      "dropout_1 (Dropout)          (None, 697, 70)           0         \n",
      "_________________________________________________________________\n",
      "dense_3 (Dense)              (None, 697, 20)           1420      \n",
      "_________________________________________________________________\n",
      "dense_4 (Dense)              (None, 697, 1)            21        \n",
      "=================================================================\n",
      "Total params: 57,761\n",
      "Trainable params: 57,761\n",
      "Non-trainable params: 0\n",
      "_________________________________________________________________\n"
     ]
    },
    {
     "ename": "NameError",
     "evalue": "name 'weights' is not defined",
     "output_type": "error",
     "traceback": [
      "\u001b[1;31m---------------------------------------------------------------------------\u001b[0m",
      "\u001b[1;31mNameError\u001b[0m                                 Traceback (most recent call last)",
      "\u001b[1;32m<ipython-input-11-26ae1884b396>\u001b[0m in \u001b[0;36m<module>\u001b[1;34m\u001b[0m\n\u001b[0;32m     15\u001b[0m \u001b[0mcallback\u001b[0m \u001b[1;33m=\u001b[0m \u001b[0mtf\u001b[0m\u001b[1;33m.\u001b[0m\u001b[0mkeras\u001b[0m\u001b[1;33m.\u001b[0m\u001b[0mcallbacks\u001b[0m\u001b[1;33m.\u001b[0m\u001b[0mEarlyStopping\u001b[0m\u001b[1;33m(\u001b[0m\u001b[0mmonitor\u001b[0m\u001b[1;33m=\u001b[0m\u001b[1;34m'loss'\u001b[0m\u001b[1;33m,\u001b[0m \u001b[0mpatience\u001b[0m\u001b[1;33m=\u001b[0m\u001b[1;36m20\u001b[0m\u001b[1;33m)\u001b[0m\u001b[1;33m\u001b[0m\u001b[1;33m\u001b[0m\u001b[0m\n\u001b[0;32m     16\u001b[0m history = model.fit(X_train,y_train,batch_size=200,epochs=500,\n\u001b[1;32m---> 17\u001b[1;33m                     \u001b[0mvalidation_split\u001b[0m\u001b[1;33m=\u001b[0m\u001b[1;36m0.05\u001b[0m\u001b[1;33m,\u001b[0m\u001b[0mclass_weight\u001b[0m\u001b[1;33m=\u001b[0m\u001b[0mweights\u001b[0m\u001b[1;33m,\u001b[0m\u001b[1;33m\u001b[0m\u001b[1;33m\u001b[0m\u001b[0m\n\u001b[0m\u001b[0;32m     18\u001b[0m                     use_multiprocessing=True,workers=8,callbacks=[callback])\n",
      "\u001b[1;31mNameError\u001b[0m: name 'weights' is not defined"
     ]
    }
   ],
   "source": [
    "import tensorflow as tf\n",
    "from tensorflow.keras.models import Sequential,Model\n",
    "from tensorflow.keras.layers import Dense,Dropout\n",
    "model = Sequential()\n",
    "model.add(Dense(300, activation=\"relu\",input_shape=(697,1)))\n",
    "model.add(Dropout(0.3))\n",
    "model.add(Dense(150, activation=\"relu\"))\n",
    "model.add(Dense(70, activation=\"relu\"))\n",
    "model.add(Dropout(0.3))\n",
    "model.add(Dense(20, activation=\"relu\"))\n",
    "model.add(Dense(1, activation=\"sigmoid\"))\n",
    "model.compile(loss=tf.keras.losses.CategoricalCrossentropy(), optimizer=tf.keras.optimizers.Adam(learning_rate=0.001),metrics=[\"accuracy\",tf.keras.metrics.Recall(),tf.keras.metrics.Precision()])\n",
    "model.summary()\n",
    "\n",
    "callback = tf.keras.callbacks.EarlyStopping(monitor='loss', patience=20)\n",
    "history = model.fit(X_train,y_train,batch_size=200,epochs=500,\n",
    "                    validation_split=0.05,class_weight=,\n",
    "                    use_multiprocessing=True,workers=8,callbacks=[callback])"
   ]
  },
  {
   "cell_type": "code",
   "execution_count": null,
   "id": "fd7d4f8f",
   "metadata": {},
   "outputs": [],
   "source": []
  }
 ],
 "metadata": {
  "kernelspec": {
   "display_name": "Python 3",
   "language": "python",
   "name": "python3"
  },
  "language_info": {
   "codemirror_mode": {
    "name": "ipython",
    "version": 3
   },
   "file_extension": ".py",
   "mimetype": "text/x-python",
   "name": "python",
   "nbconvert_exporter": "python",
   "pygments_lexer": "ipython3",
   "version": "3.8.8"
  },
  "toc": {
   "base_numbering": 1,
   "nav_menu": {},
   "number_sections": true,
   "sideBar": true,
   "skip_h1_title": false,
   "title_cell": "Table of Contents",
   "title_sidebar": "Contents",
   "toc_cell": false,
   "toc_position": {},
   "toc_section_display": true,
   "toc_window_display": false
  },
  "varInspector": {
   "cols": {
    "lenName": 16,
    "lenType": 16,
    "lenVar": 40
   },
   "kernels_config": {
    "python": {
     "delete_cmd_postfix": "",
     "delete_cmd_prefix": "del ",
     "library": "var_list.py",
     "varRefreshCmd": "print(var_dic_list())"
    },
    "r": {
     "delete_cmd_postfix": ") ",
     "delete_cmd_prefix": "rm(",
     "library": "var_list.r",
     "varRefreshCmd": "cat(var_dic_list()) "
    }
   },
   "types_to_exclude": [
    "module",
    "function",
    "builtin_function_or_method",
    "instance",
    "_Feature"
   ],
   "window_display": false
  }
 },
 "nbformat": 4,
 "nbformat_minor": 5
}
