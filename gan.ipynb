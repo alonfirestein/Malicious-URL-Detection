{
 "cells": [
  {
   "cell_type": "code",
   "execution_count": 5,
   "id": "a34015e5",
   "metadata": {
    "ExecuteTime": {
     "end_time": "2022-02-04T06:33:43.446380Z",
     "start_time": "2022-02-04T06:33:43.428388Z"
    }
   },
   "outputs": [],
   "source": [
    "import pandas as pd\n",
    "import numpy as np\n",
    "import matplotlib.pyplot as plt\n",
    "from Helpers.preprocess.main import *\n",
    "from Helpers.models.simple_ml import *\n",
    "from Helpers.preprocess.content_based_features import get_content_based_features\n",
    "from Helpers.preprocess.host_based_features import get_host_based_features\n",
    "from Helpers.preprocess.lexical_url_features import get_lexical_url_features\n",
    "from tensorflow.keras.layers import Dense,LSTM,Dropout\n",
    "from tensorflow.keras import layers\n",
    "from tensorflow.keras.models import Model\n",
    "import tensorflow as tf\n",
    "from tensorflow.keras.models import Sequential\n",
    "import sys\n",
    "from keras.callbacks import ModelCheckpoint\n",
    "from keras.utils import np_utils\n",
    "import string"
   ]
  },
  {
   "cell_type": "code",
   "execution_count": 18,
   "id": "7d4e46aa",
   "metadata": {
    "ExecuteTime": {
     "end_time": "2022-02-04T08:56:05.404165Z",
     "start_time": "2022-02-04T08:56:04.505472Z"
    }
   },
   "outputs": [],
   "source": [
    "df = pd.read_csv(\"Data/malicious_phish.csv\")"
   ]
  },
  {
   "cell_type": "code",
   "execution_count": 19,
   "id": "65ea59ab",
   "metadata": {
    "ExecuteTime": {
     "end_time": "2022-02-04T08:56:06.168269Z",
     "start_time": "2022-02-04T08:56:06.146285Z"
    }
   },
   "outputs": [
    {
     "data": {
      "text/html": [
       "<div>\n",
       "<style scoped>\n",
       "    .dataframe tbody tr th:only-of-type {\n",
       "        vertical-align: middle;\n",
       "    }\n",
       "\n",
       "    .dataframe tbody tr th {\n",
       "        vertical-align: top;\n",
       "    }\n",
       "\n",
       "    .dataframe thead th {\n",
       "        text-align: right;\n",
       "    }\n",
       "</style>\n",
       "<table border=\"1\" class=\"dataframe\">\n",
       "  <thead>\n",
       "    <tr style=\"text-align: right;\">\n",
       "      <th></th>\n",
       "      <th>url</th>\n",
       "      <th>type</th>\n",
       "    </tr>\n",
       "  </thead>\n",
       "  <tbody>\n",
       "    <tr>\n",
       "      <th>0</th>\n",
       "      <td>br-icloud.com.br</td>\n",
       "      <td>phishing</td>\n",
       "    </tr>\n",
       "    <tr>\n",
       "      <th>1</th>\n",
       "      <td>mp3raid.com/music/krizz_kaliko.html</td>\n",
       "      <td>benign</td>\n",
       "    </tr>\n",
       "    <tr>\n",
       "      <th>2</th>\n",
       "      <td>bopsecrets.org/rexroth/cr/1.htm</td>\n",
       "      <td>benign</td>\n",
       "    </tr>\n",
       "    <tr>\n",
       "      <th>3</th>\n",
       "      <td>http://www.garage-pirenne.be/index.php?option=...</td>\n",
       "      <td>defacement</td>\n",
       "    </tr>\n",
       "    <tr>\n",
       "      <th>4</th>\n",
       "      <td>http://adventure-nicaragua.net/index.php?optio...</td>\n",
       "      <td>defacement</td>\n",
       "    </tr>\n",
       "    <tr>\n",
       "      <th>...</th>\n",
       "      <td>...</td>\n",
       "      <td>...</td>\n",
       "    </tr>\n",
       "    <tr>\n",
       "      <th>651186</th>\n",
       "      <td>xbox360.ign.com/objects/850/850402.html</td>\n",
       "      <td>phishing</td>\n",
       "    </tr>\n",
       "    <tr>\n",
       "      <th>651187</th>\n",
       "      <td>games.teamxbox.com/xbox-360/1860/Dead-Space/</td>\n",
       "      <td>phishing</td>\n",
       "    </tr>\n",
       "    <tr>\n",
       "      <th>651188</th>\n",
       "      <td>www.gamespot.com/xbox360/action/deadspace/</td>\n",
       "      <td>phishing</td>\n",
       "    </tr>\n",
       "    <tr>\n",
       "      <th>651189</th>\n",
       "      <td>en.wikipedia.org/wiki/Dead_Space_(video_game)</td>\n",
       "      <td>phishing</td>\n",
       "    </tr>\n",
       "    <tr>\n",
       "      <th>651190</th>\n",
       "      <td>www.angelfire.com/goth/devilmaycrytonite/</td>\n",
       "      <td>phishing</td>\n",
       "    </tr>\n",
       "  </tbody>\n",
       "</table>\n",
       "<p>651191 rows × 2 columns</p>\n",
       "</div>"
      ],
      "text/plain": [
       "                                                      url        type\n",
       "0                                        br-icloud.com.br    phishing\n",
       "1                     mp3raid.com/music/krizz_kaliko.html      benign\n",
       "2                         bopsecrets.org/rexroth/cr/1.htm      benign\n",
       "3       http://www.garage-pirenne.be/index.php?option=...  defacement\n",
       "4       http://adventure-nicaragua.net/index.php?optio...  defacement\n",
       "...                                                   ...         ...\n",
       "651186            xbox360.ign.com/objects/850/850402.html    phishing\n",
       "651187       games.teamxbox.com/xbox-360/1860/Dead-Space/    phishing\n",
       "651188         www.gamespot.com/xbox360/action/deadspace/    phishing\n",
       "651189      en.wikipedia.org/wiki/Dead_Space_(video_game)    phishing\n",
       "651190          www.angelfire.com/goth/devilmaycrytonite/    phishing\n",
       "\n",
       "[651191 rows x 2 columns]"
      ]
     },
     "execution_count": 19,
     "metadata": {},
     "output_type": "execute_result"
    }
   ],
   "source": [
    "df"
   ]
  },
  {
   "cell_type": "code",
   "execution_count": 15,
   "id": "c89bc789",
   "metadata": {
    "ExecuteTime": {
     "end_time": "2022-02-04T08:10:31.434322Z",
     "start_time": "2022-02-04T08:10:31.419334Z"
    }
   },
   "outputs": [],
   "source": [
    "import seaborn as sns\n",
    "sns.set()"
   ]
  },
  {
   "cell_type": "code",
   "execution_count": 17,
   "id": "e352ec0b",
   "metadata": {
    "ExecuteTime": {
     "end_time": "2022-02-04T08:11:36.644996Z",
     "start_time": "2022-02-04T08:11:36.542007Z"
    }
   },
   "outputs": [
    {
     "data": {
      "image/png": "[encoded data removed]",
      "text/plain": [
       "<Figure size 720x432 with 1 Axes>"
      ]
     },
     "metadata": {},
     "output_type": "display_data"
    }
   ],
   "source": [
    "pie, ax = plt.subplots(figsize=[10,6])\n",
    "labels = df[\"type\"].unique()\n",
    "plt.pie(x=df[\"type\"].value_counts(), autopct=\"%.1f%%\", explode=[0.05]*4, labels=labels, pctdistance=0.5)\n",
    "plt.title(\"Data Balance\", fontsize=14);\n",
    "pie.savefig(\"databalance.png\")"
   ]
  },
  {
   "cell_type": "code",
   "execution_count": 25,
   "id": "aca8dcd4",
   "metadata": {
    "ExecuteTime": {
     "end_time": "2022-02-04T08:57:36.679472Z",
     "start_time": "2022-02-04T08:57:36.392251Z"
    }
   },
   "outputs": [
    {
     "data": {
      "text/plain": [
       "<AxesSubplot:>"
      ]
     },
     "execution_count": 25,
     "metadata": {},
     "output_type": "execute_result"
    },
    {
     "data": {
      "image/png": "[encoded data removed]",
      "text/plain": [
       "<Figure size 432x288 with 1 Axes>"
      ]
     },
     "metadata": {},
     "output_type": "display_data"
    }
   ],
   "source": [
    "# lens = df[\"url\"].swifter.apply(len)\n",
    "lens = lens.sort_values()\n",
    "plt.scatter"
   ]
  },
  {
   "cell_type": "code",
   "execution_count": null,
   "id": "d3abb12a",
   "metadata": {},
   "outputs": [],
   "source": [
    "# df = preprocess(cache=False,features_extractors=(get_lexical_url_features,),save_to_path=\"./small_clean.csv\",data_path=\"small.csv\")"
   ]
  },
  {
   "cell_type": "code",
   "execution_count": null,
   "id": "853afec1",
   "metadata": {},
   "outputs": [],
   "source": [
    "chars = sorted(list(set(string.printable)))\n",
    "char_to_int = dict((c, i) for i, c in enumerate(chars))\n",
    "int_to_char = dict((i, c) for i, c in enumerate(chars))\n",
    "n_chars = len(raw_text)\n",
    "n_vocab = len(chars)\n",
    "seq_length = 100\n",
    "dataX = []\n",
    "dataY = []\n",
    "for i in range(0, n_chars - seq_length, 1):\n",
    "    seq_in = raw_text[i:i + seq_length]\n",
    "    seq_out = raw_text[i + seq_length]\n",
    "    dataX.append([char_to_int[char] for char in seq_in])\n",
    "    dataY.append(char_to_int[seq_out])\n",
    "n_patterns = len(dataX)\n",
    "print \"Total Patterns: \", n_patterns\n",
    "# reshape X to be [samples, time steps, features]\n",
    "X = numpy.reshape(dataX, (n_patterns, seq_length, 1))\n",
    "# normalize\n",
    "X = X / float(n_vocab)\n",
    "# one hot encode the output variable\n",
    "y = np_utils.to_categorical(dataY)\n",
    "# define the LSTM model\n",
    "model = Sequential()\n",
    "model.add(LSTM(256, input_shape=(X.shape[1], X.shape[2]), return_sequences=True))\n",
    "model.add(Dropout(0.2))\n",
    "model.add(LSTM(256))\n",
    "model.add(Dropout(0.2))\n",
    "model.add(Dense(y.shape[1], activation='softmax'))"
   ]
  },
  {
   "cell_type": "code",
   "execution_count": null,
   "id": "4f334361",
   "metadata": {},
   "outputs": [],
   "source": [
    "filename = \"weights-improvement-47-1.2219-bigger.hdf5\"\n",
    "model.load_weights(filename)\n",
    "model.compile(loss='categorical_crossentropy', optimizer='adam')\n",
    "# pick a random seed\n",
    "start = numpy.random.randint(0, len(dataX)-1)\n",
    "pattern = dataX[start]\n",
    "print \"\\\"\", ''.join([int_to_char[value] for value in pattern]), \"\\\"\"\n",
    "# generate characters\n",
    "for i in range(1000):\n",
    "    x = numpy.reshape(pattern, (1, len(pattern), 1))\n",
    "    x = x / float(n_vocab)\n",
    "    prediction = model.predict(x, verbose=0)\n",
    "    index = numpy.argmax(prediction)\n",
    "    result = int_to_char[index]\n",
    "    seq_in = [int_to_char[value] for value in pattern]\n",
    "    sys.stdout.write(result)\n",
    "    pattern.append(index)\n",
    "    pattern = pattern[1:len(pattern)]\n",
    "print \"\\nDone.\""
   ]
  },
  {
   "cell_type": "code",
   "execution_count": null,
   "id": "c7f8c494",
   "metadata": {},
   "outputs": [],
   "source": [
    "X_train,X_test,y_train,y_test = train_test_split(X.values,y.values,test_size=0.2,random_state=42)\n",
    "X_train.shape,X_test.shape,y_train.shape,y_test.shape"
   ]
  },
  {
   "cell_type": "code",
   "execution_count": null,
   "id": "99648094",
   "metadata": {},
   "outputs": [],
   "source": [
    "df[\"type\"] = pd.Categorical(df[\"type\"]).codes\n",
    "X = df[\"url\"]\n",
    "y = df[\"type\"]"
   ]
  },
  {
   "cell_type": "markdown",
   "id": "35727c1d",
   "metadata": {},
   "source": [
    "## Gan"
   ]
  },
  {
   "cell_type": "code",
   "execution_count": null,
   "id": "b47ec3a8",
   "metadata": {},
   "outputs": [],
   "source": [
    "#!/usr/bin/python3\n",
    "\n",
    "from __future__ import print_function, division\n",
    "from tensorflow.contrib.keras.api.keras.layers import Input, Dense, Reshape, Flatten, Dropout\n",
    "from tensorflow.contrib.keras.api.keras.layers import BatchNormalization, Activation\n",
    "from tensorflow.contrib.keras.api.keras.layers import LeakyReLU, LSTM, SimpleRNN, GRU, Bidirectional\n",
    "from tensorflow.contrib.keras.api.keras.models import Sequential, Model\n",
    "from tensorflow.contrib.keras.api.keras.optimizers import Adam, RMSprop\n",
    "from tensorflow.contrib.keras.api.keras.backend import expand_dims\n",
    "from tensorflow.contrib.keras.api.keras.layers import UpSampling1D, Conv1D, LocallyConnected1D\n",
    "from tensorflow.contrib.keras.api.keras.activations import softmax\n",
    "import tensorflow as tf\n",
    "import argparse\n",
    "import string\n",
    "import sys\n",
    "import numpy as np\n",
    "\n",
    "# Disable Warnings\n",
    "tf.logging.set_verbosity(tf.logging.ERROR)\n",
    "\n",
    "# Constants\n",
    "save_interval = 100\n",
    "learning_rate=0.0002\n",
    "\n",
    "noise_shape=(8,)\n",
    "epochs = 1000\n",
    "input_data = \"\"\n",
    "print_size = 128\n",
    "batch_size = 200\n",
    "url_len = 200\n",
    "generator_layers = \"8:8\"\n",
    "discriminator_layers = \"8:4:2\"\n",
    "generator_activation = \"tanh\"\n",
    "discriminator_activation = \"tanh\"\n",
    "dropout_value = 0.8\n",
    "discriminator_savefile = \"discriminator_savefile\"\n",
    "generator_savefile = \"generator_savefile\"\n",
    "\n",
    "\n",
    "# Define Alphabet\n",
    "alphabet = string.ascii_lowercase + string.digits + \"/:._-()=;?&\" # MUST BE EVEN\n",
    "dictionary_size = len(alphabet) + 1\n",
    "url_shape = (url_len, dictionary_size)"
   ]
  },
  {
   "cell_type": "code",
   "execution_count": 9,
   "id": "33f62888",
   "metadata": {
    "ExecuteTime": {
     "end_time": "2022-02-04T06:52:54.483035Z",
     "start_time": "2022-02-04T06:52:54.470043Z"
    }
   },
   "outputs": [],
   "source": [
    "def build_generator_dense():\n",
    "    model = Sequential()\n",
    "    first = True\n",
    "    for size in generator_layers.split(\":\"):\n",
    "        size = int(size)\n",
    "        if first:\n",
    "            model.add(Dense(size, input_shape=noise_shape, activation=generator_activation))\n",
    "        else:\n",
    "            model.add(Dense(size, activation=generator_activation))\n",
    "\n",
    "        model.add(Dropout(dropout_value))\n",
    "        first = False\n",
    "    model.add(Dense(size, input_shape=noise_shape, activation=generator_activation))\n",
    "    model.add(Dense(size, activation=generator_activation))\n",
    "    model.add(Dropout(dropout_value))\n",
    "    model.add(Dense(size, activation=generator_activation))\n",
    "    model.add(Dense(  np.prod(url_shape) , activation=\"tanh\"))\n",
    "    model.add(Dropout(dropout_value))\n",
    "    model.add(Reshape(url_shape))\n",
    "    model.summary()\n",
    "\n",
    "    noise = Input(shape=noise_shape)\n",
    "    gen = model(noise)\n",
    "\n",
    "    return Model(noise, gen)\n",
    "\n",
    "def build_discriminator_dense():\n",
    "    model = Sequential()\n",
    "    model.add(Flatten(input_shape=url_shape))\n",
    "    # Add arbitrary layers\n",
    "    for size in discriminator_layers.split(\":\"):\n",
    "        size = int(size)\n",
    "        model.add(Dense(size, activation=discriminator_activation))\n",
    "        model.add(Dropout(dropout_value))\n",
    "    # Add the final layer, with a single output\n",
    "    model.add(Dense(1, activation='sigmoid'))\n",
    "    model.summary()\n",
    "    gen = Input(shape=url_shape)\n",
    "    validity = model(gen)\n",
    "    return Model(gen, validity)\n"
   ]
  },
  {
   "cell_type": "code",
   "execution_count": null,
   "id": "53f55c64",
   "metadata": {},
   "outputs": [],
   "source": [
    "build_generator = build_generator_dense\n",
    "build_discriminator = build_discriminator_dense\n",
    "\n",
    "dictionary = {}\n",
    "reverse_dictionary = {}\n",
    "for i, c in enumerate(alphabet):\n",
    "    dictionary[c]=i+1\n",
    "    reverse_dictionary[i+1]=c\n",
    "\n",
    "# Build Oprimizer\n",
    "optimizer = Adam(learning_rate, 0.5)\n",
    "\n",
    "print (\"*** BUILDING DISCRIMINATOR ***\")\n",
    "discriminator = build_discriminator()\n",
    "discriminator.compile(loss='binary_crossentropy', \n",
    "    optimizer=optimizer,\n",
    "    metrics=['accuracy'])\n",
    "\n",
    "print (\"*** BUILDING GENERATOR ***\")\n",
    "generator = build_generator()\n",
    "generator.compile(loss='binary_crossentropy', optimizer=optimizer)\n",
    "\n",
    "z = Input(shape=noise_shape)\n",
    "gen = generator(z)\n",
    "\n",
    "discriminator.trainable = False\n",
    "\n",
    "valid = discriminator(gen)\n",
    "\n",
    "combined = Model(z, valid)\n",
    "combined.compile(loss='binary_crossentropy', optimizer=optimizer)\n",
    "\n",
    "\n",
    "data = []   \n",
    "for line in open(input_data,\"r\").read().splitlines():\n",
    "    this_sample=np.zeros(url_shape)\n",
    "\n",
    "    line = line.lower()\n",
    "    if len ( set(line) - set(alphabet)) == 0 and len(line) < url_len:\n",
    "        for i, position in enumerate(this_sample):\n",
    "            this_sample[i][0]=1.0\n",
    "\n",
    "        for i, char in enumerate(line):\n",
    "            this_sample[i][0]=0.0\n",
    "            this_sample[i][dictionary[char]]=1.0\n",
    "        data.append(this_sample)\n",
    "    else:\n",
    "        print(\"Uncompatible line:\",  line)\n",
    "\n",
    "print(\"Data ready. Lines:\", len(data))\n",
    "X_train = np.array(data)\n",
    "print (\"Array Shape:\", X_train.shape)\n",
    "half_batch = int(batch_size / 2)\n"
   ]
  },
  {
   "cell_type": "code",
   "execution_count": null,
   "id": "e639d868",
   "metadata": {},
   "outputs": [],
   "source": [
    "# Start Training\n",
    "for epoch in range(epochs):\n",
    "    # Select a random half batch of data\n",
    "    idx = np.random.randint(0, X_train.shape[0], half_batch)\n",
    "    samples = X_train[idx]\n",
    "    noise_batch_shape = (half_batch,) + noise_shape\n",
    "    noise = np.random.normal(0, 1, noise_batch_shape)\n",
    "\n",
    "    # Generate a half batch of new data\n",
    "    gens = generator.predict(noise)\n",
    "\n",
    "    # Train the discriminator\n",
    "    d_loss_real = discriminator.train_on_batch(samples, np.ones((half_batch, 1)))\n",
    "    d_loss_fake = discriminator.train_on_batch(gens, np.zeros((half_batch, 1)))\n",
    "    d_loss = 0.5 * np.add(d_loss_real, d_loss_fake)\n",
    "\n",
    "    noise_batch_shape = (batch_size,) + noise_shape\n",
    "    noise = np.random.normal(0, 1, noise_batch_shape)\n",
    "\n",
    "    valid_y = np.array([1] * batch_size)\n",
    "\n",
    "    g_loss = combined.train_on_batch(noise, valid_y)\n",
    "\n",
    "    print (\"%d [D loss: %0.3f, acc.: %0.3f%%] [G loss: %0.3f]\" % (epoch, d_loss[0], 100*d_loss[1], g_loss))\n",
    "\n",
    "    if epoch % save_interval == 0:\n",
    "        generated_samples=[]\n",
    "        r, c = 5, 5\n",
    "        noise_batch_shape = (print_size,) + noise_shape\n",
    "        noise = np.random.normal(0, 1, noise_batch_shape)\n",
    "        gens = generator.predict(noise)\n",
    "\n",
    "        for url in gens:\n",
    "            this_url_gen = \"\"\n",
    "            for position in url:\n",
    "                this_index = np.argmax(position)\n",
    "                if this_index != 0:\n",
    "                    this_url_gen += reverse_dictionary[this_index]\n",
    "\n",
    "            print(this_url_gen)\n",
    "            generated_samples.append(this_url_gen)\n",
    "\n",
    "discriminator.save(discriminator_savefile)\n",
    "generator.save(generator_savefile)\n",
    "\n",
    "# Save Samples\n",
    "fo = open(generated_savefile, \"w\")\n",
    "for url in generated_samples:\n",
    "    print (url, file=fo)\n",
    "fo.close()"
   ]
  }
 ],
 "metadata": {
  "kernelspec": {
   "display_name": "Python 3 (ipykernel)",
   "language": "python",
   "name": "python3"
  },
  "language_info": {
   "codemirror_mode": {
    "name": "ipython",
    "version": 3
   },
   "file_extension": ".py",
   "mimetype": "text/x-python",
   "name": "python",
   "nbconvert_exporter": "python",
   "pygments_lexer": "ipython3",
   "version": "3.9.7"
  },
  "toc": {
   "base_numbering": 1,
   "nav_menu": {},
   "number_sections": true,
   "sideBar": true,
   "skip_h1_title": false,
   "title_cell": "Table of Contents",
   "title_sidebar": "Contents",
   "toc_cell": false,
   "toc_position": {},
   "toc_section_display": true,
   "toc_window_display": false
  },
  "varInspector": {
   "cols": {
    "lenName": 16,
    "lenType": 16,
    "lenVar": 40
   },
   "kernels_config": {
    "python": {
     "delete_cmd_postfix": "",
     "delete_cmd_prefix": "del ",
     "library": "var_list.py",
     "varRefreshCmd": "print(var_dic_list())"
    },
    "r": {
     "delete_cmd_postfix": ") ",
     "delete_cmd_prefix": "rm(",
     "library": "var_list.r",
     "varRefreshCmd": "cat(var_dic_list()) "
    }
   },
   "types_to_exclude": [
    "module",
    "function",
    "builtin_function_or_method",
    "instance",
    "_Feature"
   ],
   "window_display": false
  }
 },
 "nbformat": 4,
 "nbformat_minor": 5
}
