{
 "cells": [
  {
   "cell_type": "code",
   "execution_count": 2,
   "id": "e24cc875",
   "metadata": {
    "ExecuteTime": {
     "end_time": "2021-12-29T17:48:10.249758Z",
     "start_time": "2021-12-29T17:48:06.986288Z"
    }
   },
   "outputs": [],
   "source": [
    "import pandas as pd\n",
    "import numpy as np\n",
    "import matplotlib.pyplot as plt\n",
    "from Helpers.preprocess.main import *\n",
    "from Helpers.models.simple_ml import *\n",
    "from Helpers.preprocess.content_based_features import get_content_based_features\n",
    "from Helpers.preprocess.host_based_features import get_host_based_features\n",
    "from Helpers.preprocess.lexical_url_features import get_lexical_url_features\n",
    "from tensorflow.keras.layers import Dense,LSTM\n",
    "from tensorflow.keras import layers\n",
    "from tensorflow.keras.models import Model\n",
    "import tensorflow as tf\n",
    "from tensorflow.keras.models import Sequential"
   ]
  },
  {
   "cell_type": "markdown",
   "id": "7fa8c7b7",
   "metadata": {},
   "source": [
    "## Fully Connected with custom lexical features"
   ]
  },
  {
   "cell_type": "code",
   "execution_count": 7,
   "id": "61e75817",
   "metadata": {
    "ExecuteTime": {
     "end_time": "2021-12-26T12:09:22.426578Z",
     "start_time": "2021-12-26T12:09:19.989633Z"
    }
   },
   "outputs": [],
   "source": [
    "df = pd.read_csv(\"Data/malicious_phish.csv\").sample(50000)\n",
    "df.to_csv(\"small.csv\")"
   ]
  },
  {
   "cell_type": "code",
   "execution_count": 8,
   "id": "b0230610",
   "metadata": {
    "ExecuteTime": {
     "end_time": "2021-12-26T12:10:51.442652Z",
     "start_time": "2021-12-26T12:09:40.807646Z"
    }
   },
   "outputs": [
    {
     "data": {
      "application/vnd.jupyter.widget-view+json": {
       "model_id": "9d04fd0c8d5a48469eac4c6289ac907d",
       "version_major": 2,
       "version_minor": 0
      },
      "text/plain": [
       "Pandas Apply:   0%|          | 0/50000 [00:00<?, ?it/s]"
      ]
     },
     "metadata": {},
     "output_type": "display_data"
    },
    {
     "data": {
      "application/vnd.jupyter.widget-view+json": {
       "model_id": "fbbbe34394cd406ab7664db9cc0d1704",
       "version_major": 2,
       "version_minor": 0
      },
      "text/plain": [
       "Pandas Apply:   0%|          | 0/50000 [00:00<?, ?it/s]"
      ]
     },
     "metadata": {},
     "output_type": "display_data"
    }
   ],
   "source": [
    "df = preprocess(cache=False,features_extractors=(get_lexical_url_features,),save_to_path=\"./small_clean.csv\",data_path=\"small.csv\")"
   ]
  },
  {
   "cell_type": "code",
   "execution_count": 9,
   "id": "9e09afd1",
   "metadata": {
    "ExecuteTime": {
     "end_time": "2021-12-26T12:11:18.031658Z",
     "start_time": "2021-12-26T12:11:15.609622Z"
    }
   },
   "outputs": [],
   "source": [
    "X_train, X_test, y_train, y_test = scale_data(df)"
   ]
  },
  {
   "cell_type": "code",
   "execution_count": 21,
   "id": "f18ec839",
   "metadata": {
    "ExecuteTime": {
     "end_time": "2021-12-26T12:28:07.952137Z",
     "start_time": "2021-12-26T12:28:07.929146Z"
    }
   },
   "outputs": [],
   "source": [
    "weights = pd.Series(y_train).value_counts().values / y_train.size"
   ]
  },
  {
   "cell_type": "code",
   "execution_count": 22,
   "id": "5e6c0ed1",
   "metadata": {
    "ExecuteTime": {
     "end_time": "2021-12-26T12:28:08.278352Z",
     "start_time": "2021-12-26T12:28:08.258358Z"
    }
   },
   "outputs": [],
   "source": [
    "weights = {i : weight for i,weight in enumerate(weights)}"
   ]
  },
  {
   "cell_type": "code",
   "execution_count": 35,
   "id": "21d75eca",
   "metadata": {
    "ExecuteTime": {
     "end_time": "2021-12-26T12:33:23.321394Z",
     "start_time": "2021-12-26T12:33:23.304405Z"
    }
   },
   "outputs": [],
   "source": [
    "from sklearn.preprocessing import LabelEncoder\n",
    "from keras.utils import np_utils\n",
    "y_train = np_utils.to_categorical(LabelEncoder().fit_transform(y_train))\n",
    "y_test = np_utils.to_categorical(LabelEncoder().fit_transform(y_test))"
   ]
  },
  {
   "cell_type": "code",
   "execution_count": 38,
   "id": "21082ed2",
   "metadata": {
    "ExecuteTime": {
     "end_time": "2021-12-26T12:33:42.336533Z",
     "start_time": "2021-12-26T12:33:42.187407Z"
    }
   },
   "outputs": [
    {
     "name": "stdout",
     "output_type": "stream",
     "text": [
      "Model: \"sequential_8\"\n",
      "_________________________________________________________________\n",
      "Layer (type)                 Output Shape              Param #   \n",
      "=================================================================\n",
      "dense_37 (Dense)             (None, 300)               141900    \n",
      "_________________________________________________________________\n",
      "dropout_16 (Dropout)         (None, 300)               0         \n",
      "_________________________________________________________________\n",
      "dense_38 (Dense)             (None, 150)               45150     \n",
      "_________________________________________________________________\n",
      "dropout_17 (Dropout)         (None, 150)               0         \n",
      "_________________________________________________________________\n",
      "dense_39 (Dense)             (None, 50)                7550      \n",
      "_________________________________________________________________\n",
      "dense_40 (Dense)             (None, 4)                 204       \n",
      "=================================================================\n",
      "Total params: 194,804\n",
      "Trainable params: 194,804\n",
      "Non-trainable params: 0\n",
      "_________________________________________________________________\n"
     ]
    }
   ],
   "source": [
    "import tensorflow as tf\n",
    "from tensorflow.keras.models import Sequential,Model\n",
    "from tensorflow.keras.layers import Dense,Dropout\n",
    "model = Sequential()\n",
    "model.add(Dense(300, activation=\"relu\",input_shape=(472,)))\n",
    "model.add(Dropout(0.3))\n",
    "model.add(Dense(150, activation=\"relu\"))\n",
    "model.add(Dropout(0.3))\n",
    "model.add(Dense(50, activation=\"relu\"))\n",
    "model.add(Dense(4, activation=\"softmax\"))\n",
    "model.compile(loss=tf.keras.losses.CategoricalCrossentropy(), optimizer=tf.keras.optimizers.Adam(learning_rate=0.001),metrics=[\"accuracy\",tf.keras.metrics.Recall(),tf.keras.metrics.Precision()])\n",
    "model.summary()"
   ]
  },
  {
   "cell_type": "code",
   "execution_count": 37,
   "id": "88abe59b",
   "metadata": {
    "ExecuteTime": {
     "end_time": "2021-12-26T12:33:35.047925Z",
     "start_time": "2021-12-26T12:33:35.034845Z"
    }
   },
   "outputs": [
    {
     "data": {
      "text/plain": [
       "((39997, 472), (39997, 4))"
      ]
     },
     "execution_count": 37,
     "metadata": {},
     "output_type": "execute_result"
    }
   ],
   "source": [
    "X_train.shape,y_train.shape"
   ]
  },
  {
   "cell_type": "code",
   "execution_count": 40,
   "id": "3b75ac3d",
   "metadata": {
    "ExecuteTime": {
     "end_time": "2021-12-26T12:40:40.099063Z",
     "start_time": "2021-12-26T12:34:12.691426Z"
    }
   },
   "outputs": [
    {
     "name": "stdout",
     "output_type": "stream",
     "text": [
      "Epoch 1/500\n",
      "190/190 [==============================] - 4s 12ms/step - loss: 0.1421 - accuracy: 0.7053 - recall_8: 0.6712 - precision_8: 0.7270 - val_loss: 0.7895 - val_accuracy: 0.7590 - val_recall_8: 0.7525 - val_precision_8: 0.7640\n",
      "Epoch 2/500\n",
      "190/190 [==============================] - 1s 8ms/step - loss: 0.0921 - accuracy: 0.7578 - recall_8: 0.7504 - precision_8: 0.7644 - val_loss: 0.7378 - val_accuracy: 0.7625 - val_recall_8: 0.7575 - val_precision_8: 0.7679\n",
      "Epoch 3/500\n",
      "190/190 [==============================] - 1s 8ms/step - loss: 0.0831 - accuracy: 0.7756 - recall_8: 0.7686 - precision_8: 0.7809 - val_loss: 0.6431 - val_accuracy: 0.7940 - val_recall_8: 0.7895 - val_precision_8: 0.7975\n",
      "Epoch 4/500\n",
      "190/190 [==============================] - 1s 7ms/step - loss: 0.0773 - accuracy: 0.7921 - recall_8: 0.7858 - precision_8: 0.7971 - val_loss: 0.5690 - val_accuracy: 0.8170 - val_recall_8: 0.8125 - val_precision_8: 0.8232\n",
      "Epoch 5/500\n",
      "190/190 [==============================] - 2s 8ms/step - loss: 0.0718 - accuracy: 0.8105 - recall_8: 0.8051 - precision_8: 0.8156 - val_loss: 0.5478 - val_accuracy: 0.8305 - val_recall_8: 0.8265 - val_precision_8: 0.8374\n",
      "Epoch 6/500\n",
      "190/190 [==============================] - 1s 8ms/step - loss: 0.0673 - accuracy: 0.8323 - recall_8: 0.8271 - precision_8: 0.8387 - val_loss: 0.5137 - val_accuracy: 0.8545 - val_recall_8: 0.8485 - val_precision_8: 0.8592\n",
      "Epoch 7/500\n",
      "190/190 [==============================] - 1s 8ms/step - loss: 0.0651 - accuracy: 0.8431 - recall_8: 0.8388 - precision_8: 0.8482 - val_loss: 0.4940 - val_accuracy: 0.8545 - val_recall_8: 0.8510 - val_precision_8: 0.8605\n",
      "Epoch 8/500\n",
      "190/190 [==============================] - 1s 8ms/step - loss: 0.0635 - accuracy: 0.8521 - recall_8: 0.8476 - precision_8: 0.8576 - val_loss: 0.4824 - val_accuracy: 0.8540 - val_recall_8: 0.8515 - val_precision_8: 0.8588\n",
      "Epoch 9/500\n",
      "190/190 [==============================] - 1s 8ms/step - loss: 0.0617 - accuracy: 0.8558 - recall_8: 0.8510 - precision_8: 0.8610 - val_loss: 0.5956 - val_accuracy: 0.8530 - val_recall_8: 0.8490 - val_precision_8: 0.8558\n",
      "Epoch 10/500\n",
      "190/190 [==============================] - 1s 7ms/step - loss: 0.0607 - accuracy: 0.8600 - recall_8: 0.8558 - precision_8: 0.8650 - val_loss: 0.5315 - val_accuracy: 0.8690 - val_recall_8: 0.8625 - val_precision_8: 0.8725\n",
      "Epoch 11/500\n",
      "190/190 [==============================] - 1s 8ms/step - loss: 0.0589 - accuracy: 0.8652 - recall_8: 0.8608 - precision_8: 0.8699 - val_loss: 0.5090 - val_accuracy: 0.8740 - val_recall_8: 0.8690 - val_precision_8: 0.8769\n",
      "Epoch 12/500\n",
      "190/190 [==============================] - 1s 7ms/step - loss: 0.0582 - accuracy: 0.8685 - recall_8: 0.8644 - precision_8: 0.8728 - val_loss: 0.4966 - val_accuracy: 0.8670 - val_recall_8: 0.8625 - val_precision_8: 0.8686\n",
      "Epoch 13/500\n",
      "190/190 [==============================] - 2s 8ms/step - loss: 0.0572 - accuracy: 0.8706 - recall_8: 0.8661 - precision_8: 0.8754 - val_loss: 0.5164 - val_accuracy: 0.8680 - val_recall_8: 0.8660 - val_precision_8: 0.8704\n",
      "Epoch 14/500\n",
      "190/190 [==============================] - 1s 8ms/step - loss: 0.0556 - accuracy: 0.8745 - recall_8: 0.8709 - precision_8: 0.8787 - val_loss: 0.5332 - val_accuracy: 0.8720 - val_recall_8: 0.8700 - val_precision_8: 0.8744\n",
      "Epoch 15/500\n",
      "190/190 [==============================] - 2s 8ms/step - loss: 0.0556 - accuracy: 0.8751 - recall_8: 0.8711 - precision_8: 0.8787 - val_loss: 0.5199 - val_accuracy: 0.8765 - val_recall_8: 0.8735 - val_precision_8: 0.8788\n",
      "Epoch 16/500\n",
      "190/190 [==============================] - 2s 8ms/step - loss: 0.0544 - accuracy: 0.8767 - recall_8: 0.8731 - precision_8: 0.8810 - val_loss: 0.5189 - val_accuracy: 0.8720 - val_recall_8: 0.8705 - val_precision_8: 0.8758\n",
      "Epoch 17/500\n",
      "190/190 [==============================] - 1s 7ms/step - loss: 0.0541 - accuracy: 0.8786 - recall_8: 0.8752 - precision_8: 0.8825 - val_loss: 0.5505 - val_accuracy: 0.8790 - val_recall_8: 0.8740 - val_precision_8: 0.8819\n",
      "Epoch 18/500\n",
      "190/190 [==============================] - 1s 8ms/step - loss: 0.0536 - accuracy: 0.8808 - recall_8: 0.8771 - precision_8: 0.8842 - val_loss: 0.4808 - val_accuracy: 0.8850 - val_recall_8: 0.8835 - val_precision_8: 0.8875\n",
      "Epoch 19/500\n",
      "190/190 [==============================] - 1s 8ms/step - loss: 0.0527 - accuracy: 0.8827 - recall_8: 0.8793 - precision_8: 0.8861 - val_loss: 0.5129 - val_accuracy: 0.8890 - val_recall_8: 0.8865 - val_precision_8: 0.8919\n",
      "Epoch 20/500\n",
      "190/190 [==============================] - 2s 9ms/step - loss: 0.0524 - accuracy: 0.8828 - recall_8: 0.8796 - precision_8: 0.8860 - val_loss: 0.4535 - val_accuracy: 0.8870 - val_recall_8: 0.8830 - val_precision_8: 0.8901\n",
      "Epoch 21/500\n",
      "190/190 [==============================] - 1s 7ms/step - loss: 0.0517 - accuracy: 0.8847 - recall_8: 0.8810 - precision_8: 0.8885 - val_loss: 0.4878 - val_accuracy: 0.8865 - val_recall_8: 0.8830 - val_precision_8: 0.8874\n",
      "Epoch 22/500\n",
      "190/190 [==============================] - 1s 7ms/step - loss: 0.0511 - accuracy: 0.8856 - recall_8: 0.8826 - precision_8: 0.8891 - val_loss: 0.5005 - val_accuracy: 0.8840 - val_recall_8: 0.8825 - val_precision_8: 0.8869\n",
      "Epoch 23/500\n",
      "190/190 [==============================] - 1s 8ms/step - loss: 0.0504 - accuracy: 0.8869 - recall_8: 0.8840 - precision_8: 0.8900 - val_loss: 0.4708 - val_accuracy: 0.8950 - val_recall_8: 0.8935 - val_precision_8: 0.8980\n",
      "Epoch 24/500\n",
      "190/190 [==============================] - 1s 7ms/step - loss: 0.0509 - accuracy: 0.8856 - recall_8: 0.8828 - precision_8: 0.8895 - val_loss: 0.5559 - val_accuracy: 0.8915 - val_recall_8: 0.8890 - val_precision_8: 0.8948\n",
      "Epoch 25/500\n",
      "190/190 [==============================] - 1s 8ms/step - loss: 0.0500 - accuracy: 0.8881 - recall_8: 0.8855 - precision_8: 0.8917 - val_loss: 0.5646 - val_accuracy: 0.8880 - val_recall_8: 0.8840 - val_precision_8: 0.8893\n",
      "Epoch 26/500\n",
      "190/190 [==============================] - 2s 9ms/step - loss: 0.0487 - accuracy: 0.8904 - recall_8: 0.8875 - precision_8: 0.8931 - val_loss: 0.4620 - val_accuracy: 0.8880 - val_recall_8: 0.8875 - val_precision_8: 0.8920\n",
      "Epoch 27/500\n",
      "190/190 [==============================] - 2s 8ms/step - loss: 0.0487 - accuracy: 0.8916 - recall_8: 0.8881 - precision_8: 0.8945 - val_loss: 0.4698 - val_accuracy: 0.8920 - val_recall_8: 0.8890 - val_precision_8: 0.8944\n",
      "Epoch 28/500\n",
      "190/190 [==============================] - 1s 8ms/step - loss: 0.0486 - accuracy: 0.8910 - recall_8: 0.8887 - precision_8: 0.8935 - val_loss: 0.4795 - val_accuracy: 0.8895 - val_recall_8: 0.8845 - val_precision_8: 0.8921\n",
      "Epoch 29/500\n",
      "190/190 [==============================] - 2s 8ms/step - loss: 0.0474 - accuracy: 0.8932 - recall_8: 0.8906 - precision_8: 0.8967 - val_loss: 0.4801 - val_accuracy: 0.8875 - val_recall_8: 0.8860 - val_precision_8: 0.8913\n",
      "Epoch 30/500\n",
      "190/190 [==============================] - 1s 8ms/step - loss: 0.0471 - accuracy: 0.8945 - recall_8: 0.8923 - precision_8: 0.8974 - val_loss: 0.4431 - val_accuracy: 0.8945 - val_recall_8: 0.8910 - val_precision_8: 0.8968\n",
      "Epoch 31/500\n",
      "190/190 [==============================] - 2s 8ms/step - loss: 0.0474 - accuracy: 0.8933 - recall_8: 0.8904 - precision_8: 0.8961 - val_loss: 0.4513 - val_accuracy: 0.8940 - val_recall_8: 0.8925 - val_precision_8: 0.8965\n",
      "Epoch 32/500\n",
      "190/190 [==============================] - 2s 9ms/step - loss: 0.0471 - accuracy: 0.8936 - recall_8: 0.8913 - precision_8: 0.8970 - val_loss: 0.4411 - val_accuracy: 0.9025 - val_recall_8: 0.9010 - val_precision_8: 0.9055\n",
      "Epoch 33/500\n",
      "190/190 [==============================] - 2s 8ms/step - loss: 0.0465 - accuracy: 0.8966 - recall_8: 0.8939 - precision_8: 0.8995 - val_loss: 0.4631 - val_accuracy: 0.8965 - val_recall_8: 0.8935 - val_precision_8: 0.8980\n",
      "Epoch 34/500\n",
      "190/190 [==============================] - 1s 8ms/step - loss: 0.0457 - accuracy: 0.8975 - recall_8: 0.8954 - precision_8: 0.8998 - val_loss: 0.4613 - val_accuracy: 0.8940 - val_recall_8: 0.8920 - val_precision_8: 0.8951\n",
      "Epoch 35/500\n",
      "190/190 [==============================] - 2s 8ms/step - loss: 0.0458 - accuracy: 0.8967 - recall_8: 0.8943 - precision_8: 0.8991 - val_loss: 0.4575 - val_accuracy: 0.8970 - val_recall_8: 0.8930 - val_precision_8: 0.9007\n",
      "Epoch 36/500\n"
     ]
    },
    {
     "name": "stdout",
     "output_type": "stream",
     "text": [
      "190/190 [==============================] - 2s 8ms/step - loss: 0.0460 - accuracy: 0.8966 - recall_8: 0.8941 - precision_8: 0.8992 - val_loss: 0.4499 - val_accuracy: 0.8925 - val_recall_8: 0.8900 - val_precision_8: 0.8949\n",
      "Epoch 37/500\n",
      "190/190 [==============================] - 1s 8ms/step - loss: 0.0451 - accuracy: 0.8979 - recall_8: 0.8956 - precision_8: 0.9004 - val_loss: 0.5121 - val_accuracy: 0.8960 - val_recall_8: 0.8940 - val_precision_8: 0.8989\n",
      "Epoch 38/500\n",
      "190/190 [==============================] - 2s 8ms/step - loss: 0.0448 - accuracy: 0.8976 - recall_8: 0.8955 - precision_8: 0.9002 - val_loss: 0.5566 - val_accuracy: 0.8965 - val_recall_8: 0.8955 - val_precision_8: 0.8991\n",
      "Epoch 39/500\n",
      "190/190 [==============================] - 2s 9ms/step - loss: 0.0446 - accuracy: 0.8979 - recall_8: 0.8955 - precision_8: 0.9005 - val_loss: 0.4637 - val_accuracy: 0.8985 - val_recall_8: 0.8960 - val_precision_8: 0.9010\n",
      "Epoch 40/500\n",
      "190/190 [==============================] - 1s 7ms/step - loss: 0.0448 - accuracy: 0.9000 - recall_8: 0.8971 - precision_8: 0.9023 - val_loss: 0.4518 - val_accuracy: 0.8945 - val_recall_8: 0.8925 - val_precision_8: 0.8952\n",
      "Epoch 41/500\n",
      "190/190 [==============================] - 1s 7ms/step - loss: 0.0448 - accuracy: 0.8988 - recall_8: 0.8967 - precision_8: 0.9021 - val_loss: 0.4720 - val_accuracy: 0.8925 - val_recall_8: 0.8910 - val_precision_8: 0.8946\n",
      "Epoch 42/500\n",
      "190/190 [==============================] - 1s 7ms/step - loss: 0.0438 - accuracy: 0.9017 - recall_8: 0.8995 - precision_8: 0.9043 - val_loss: 0.5118 - val_accuracy: 0.8965 - val_recall_8: 0.8955 - val_precision_8: 0.8982\n",
      "Epoch 43/500\n",
      "190/190 [==============================] - 1s 7ms/step - loss: 0.0433 - accuracy: 0.9028 - recall_8: 0.9007 - precision_8: 0.9047 - val_loss: 0.4754 - val_accuracy: 0.8920 - val_recall_8: 0.8895 - val_precision_8: 0.8935\n",
      "Epoch 44/500\n",
      "190/190 [==============================] - 1s 8ms/step - loss: 0.0431 - accuracy: 0.9027 - recall_8: 0.9006 - precision_8: 0.9052 - val_loss: 0.4705 - val_accuracy: 0.8995 - val_recall_8: 0.8980 - val_precision_8: 0.9007\n",
      "Epoch 45/500\n",
      "190/190 [==============================] - 1s 7ms/step - loss: 0.0426 - accuracy: 0.9019 - recall_8: 0.9002 - precision_8: 0.9042 - val_loss: 0.5660 - val_accuracy: 0.8935 - val_recall_8: 0.8930 - val_precision_8: 0.8934\n",
      "Epoch 46/500\n",
      "190/190 [==============================] - 1s 7ms/step - loss: 0.0436 - accuracy: 0.9018 - recall_8: 0.8998 - precision_8: 0.9044 - val_loss: 0.4077 - val_accuracy: 0.8970 - val_recall_8: 0.8965 - val_precision_8: 0.9001\n",
      "Epoch 47/500\n",
      "190/190 [==============================] - 1s 7ms/step - loss: 0.0423 - accuracy: 0.9033 - recall_8: 0.9015 - precision_8: 0.9055 - val_loss: 0.4372 - val_accuracy: 0.8990 - val_recall_8: 0.8970 - val_precision_8: 0.9011\n",
      "Epoch 48/500\n",
      "190/190 [==============================] - 1s 7ms/step - loss: 0.0426 - accuracy: 0.9053 - recall_8: 0.9037 - precision_8: 0.9083 - val_loss: 0.4346 - val_accuracy: 0.9020 - val_recall_8: 0.9000 - val_precision_8: 0.9023\n",
      "Epoch 49/500\n",
      "190/190 [==============================] - 1s 8ms/step - loss: 0.0421 - accuracy: 0.9043 - recall_8: 0.9020 - precision_8: 0.9062 - val_loss: 0.4257 - val_accuracy: 0.8920 - val_recall_8: 0.8900 - val_precision_8: 0.8940\n",
      "Epoch 50/500\n",
      "190/190 [==============================] - 1s 8ms/step - loss: 0.0425 - accuracy: 0.9011 - recall_8: 0.8993 - precision_8: 0.9039 - val_loss: 0.4854 - val_accuracy: 0.8965 - val_recall_8: 0.8925 - val_precision_8: 0.8974\n",
      "Epoch 51/500\n",
      "190/190 [==============================] - 1s 7ms/step - loss: 0.0413 - accuracy: 0.9063 - recall_8: 0.9045 - precision_8: 0.9088 - val_loss: 0.4209 - val_accuracy: 0.8990 - val_recall_8: 0.8985 - val_precision_8: 0.9039\n",
      "Epoch 52/500\n",
      "190/190 [==============================] - 1s 7ms/step - loss: 0.0420 - accuracy: 0.9042 - recall_8: 0.9027 - precision_8: 0.9063 - val_loss: 0.4800 - val_accuracy: 0.8940 - val_recall_8: 0.8930 - val_precision_8: 0.8970\n",
      "Epoch 53/500\n",
      "190/190 [==============================] - 1s 7ms/step - loss: 0.0419 - accuracy: 0.9043 - recall_8: 0.9023 - precision_8: 0.9066 - val_loss: 0.4272 - val_accuracy: 0.8970 - val_recall_8: 0.8965 - val_precision_8: 0.8996\n",
      "Epoch 54/500\n",
      "190/190 [==============================] - 1s 7ms/step - loss: 0.0411 - accuracy: 0.9048 - recall_8: 0.9037 - precision_8: 0.9076 - val_loss: 0.4793 - val_accuracy: 0.8960 - val_recall_8: 0.8950 - val_precision_8: 0.8977\n",
      "Epoch 55/500\n",
      "190/190 [==============================] - 1s 7ms/step - loss: 0.0409 - accuracy: 0.9069 - recall_8: 0.9050 - precision_8: 0.9092 - val_loss: 0.4384 - val_accuracy: 0.8995 - val_recall_8: 0.8985 - val_precision_8: 0.9008\n",
      "Epoch 56/500\n",
      "190/190 [==============================] - 1s 7ms/step - loss: 0.0415 - accuracy: 0.9068 - recall_8: 0.9051 - precision_8: 0.9089 - val_loss: 0.4684 - val_accuracy: 0.9020 - val_recall_8: 0.9015 - val_precision_8: 0.9042\n",
      "Epoch 57/500\n",
      "190/190 [==============================] - 2s 8ms/step - loss: 0.0407 - accuracy: 0.9077 - recall_8: 0.9060 - precision_8: 0.9098 - val_loss: 0.4878 - val_accuracy: 0.9010 - val_recall_8: 0.8970 - val_precision_8: 0.9011\n",
      "Epoch 58/500\n",
      "190/190 [==============================] - 1s 7ms/step - loss: 0.0403 - accuracy: 0.9072 - recall_8: 0.9054 - precision_8: 0.9098 - val_loss: 0.4520 - val_accuracy: 0.9045 - val_recall_8: 0.9025 - val_precision_8: 0.9070\n",
      "Epoch 59/500\n",
      "190/190 [==============================] - 1s 7ms/step - loss: 0.0395 - accuracy: 0.9092 - recall_8: 0.9073 - precision_8: 0.9103 - val_loss: 0.5388 - val_accuracy: 0.8980 - val_recall_8: 0.8970 - val_precision_8: 0.8997\n",
      "Epoch 60/500\n",
      "190/190 [==============================] - 1s 7ms/step - loss: 0.0410 - accuracy: 0.9073 - recall_8: 0.9055 - precision_8: 0.9093 - val_loss: 0.4831 - val_accuracy: 0.8970 - val_recall_8: 0.8955 - val_precision_8: 0.8991\n",
      "Epoch 61/500\n",
      "190/190 [==============================] - 1s 7ms/step - loss: 0.0403 - accuracy: 0.9081 - recall_8: 0.9062 - precision_8: 0.9101 - val_loss: 0.4459 - val_accuracy: 0.9005 - val_recall_8: 0.8990 - val_precision_8: 0.9035\n",
      "Epoch 62/500\n",
      "190/190 [==============================] - 2s 8ms/step - loss: 0.0396 - accuracy: 0.9079 - recall_8: 0.9063 - precision_8: 0.9098 - val_loss: 0.5481 - val_accuracy: 0.9035 - val_recall_8: 0.9020 - val_precision_8: 0.9052\n",
      "Epoch 63/500\n",
      "190/190 [==============================] - 1s 7ms/step - loss: 0.0398 - accuracy: 0.9082 - recall_8: 0.9065 - precision_8: 0.9104 - val_loss: 0.4153 - val_accuracy: 0.9025 - val_recall_8: 0.9015 - val_precision_8: 0.9051\n",
      "Epoch 64/500\n",
      "190/190 [==============================] - 1s 8ms/step - loss: 0.0391 - accuracy: 0.9108 - recall_8: 0.9090 - precision_8: 0.9127 - val_loss: 0.4289 - val_accuracy: 0.9060 - val_recall_8: 0.9050 - val_precision_8: 0.9064\n",
      "Epoch 65/500\n",
      "190/190 [==============================] - 1s 7ms/step - loss: 0.0393 - accuracy: 0.9095 - recall_8: 0.9074 - precision_8: 0.9116 - val_loss: 0.4674 - val_accuracy: 0.9100 - val_recall_8: 0.9095 - val_precision_8: 0.9122\n",
      "Epoch 66/500\n",
      "190/190 [==============================] - 1s 7ms/step - loss: 0.0397 - accuracy: 0.9107 - recall_8: 0.9090 - precision_8: 0.9127 - val_loss: 0.4458 - val_accuracy: 0.9020 - val_recall_8: 0.9005 - val_precision_8: 0.9050\n",
      "Epoch 67/500\n",
      "190/190 [==============================] - 1s 7ms/step - loss: 0.0395 - accuracy: 0.9101 - recall_8: 0.9083 - precision_8: 0.9126 - val_loss: 0.4292 - val_accuracy: 0.9025 - val_recall_8: 0.9015 - val_precision_8: 0.9033\n",
      "Epoch 68/500\n",
      "190/190 [==============================] - 1s 7ms/step - loss: 0.0385 - accuracy: 0.9109 - recall_8: 0.9092 - precision_8: 0.9128 - val_loss: 0.4387 - val_accuracy: 0.9050 - val_recall_8: 0.9045 - val_precision_8: 0.9072\n",
      "Epoch 69/500\n",
      "190/190 [==============================] - 1s 7ms/step - loss: 0.0378 - accuracy: 0.9127 - recall_8: 0.9113 - precision_8: 0.9152 - val_loss: 0.4274 - val_accuracy: 0.9060 - val_recall_8: 0.9045 - val_precision_8: 0.9068\n",
      "Epoch 70/500\n",
      "190/190 [==============================] - 2s 8ms/step - loss: 0.0383 - accuracy: 0.9129 - recall_8: 0.9109 - precision_8: 0.9147 - val_loss: 0.4326 - val_accuracy: 0.9020 - val_recall_8: 0.9010 - val_precision_8: 0.9024\n",
      "Epoch 71/500\n",
      "190/190 [==============================] - 1s 8ms/step - loss: 0.0383 - accuracy: 0.9117 - recall_8: 0.9101 - precision_8: 0.9137 - val_loss: 0.4334 - val_accuracy: 0.9035 - val_recall_8: 0.9010 - val_precision_8: 0.9051\n",
      "Epoch 72/500\n",
      "190/190 [==============================] - 2s 8ms/step - loss: 0.0388 - accuracy: 0.9128 - recall_8: 0.9107 - precision_8: 0.9148 - val_loss: 0.4460 - val_accuracy: 0.9060 - val_recall_8: 0.9045 - val_precision_8: 0.9086\n",
      "Epoch 73/500\n",
      "190/190 [==============================] - 2s 9ms/step - loss: 0.0382 - accuracy: 0.9118 - recall_8: 0.9100 - precision_8: 0.9141 - val_loss: 0.4456 - val_accuracy: 0.9020 - val_recall_8: 0.9005 - val_precision_8: 0.9023\n",
      "Epoch 74/500\n",
      "190/190 [==============================] - 2s 9ms/step - loss: 0.0382 - accuracy: 0.9115 - recall_8: 0.9100 - precision_8: 0.9139 - val_loss: 0.3611 - val_accuracy: 0.9040 - val_recall_8: 0.9020 - val_precision_8: 0.9052\n",
      "Epoch 75/500\n",
      "190/190 [==============================] - 2s 9ms/step - loss: 0.0381 - accuracy: 0.9128 - recall_8: 0.9111 - precision_8: 0.9147 - val_loss: 0.3784 - val_accuracy: 0.9060 - val_recall_8: 0.9055 - val_precision_8: 0.9082\n",
      "Epoch 76/500\n",
      "190/190 [==============================] - 1s 7ms/step - loss: 0.0380 - accuracy: 0.9128 - recall_8: 0.9116 - precision_8: 0.9145 - val_loss: 0.4283 - val_accuracy: 0.9015 - val_recall_8: 0.9010 - val_precision_8: 0.9028\n",
      "Epoch 77/500\n",
      "190/190 [==============================] - 1s 7ms/step - loss: 0.0377 - accuracy: 0.9121 - recall_8: 0.9100 - precision_8: 0.9138 - val_loss: 0.4615 - val_accuracy: 0.9065 - val_recall_8: 0.9060 - val_precision_8: 0.9092\n",
      "Epoch 78/500\n",
      "190/190 [==============================] - 2s 8ms/step - loss: 0.0379 - accuracy: 0.9119 - recall_8: 0.9103 - precision_8: 0.9143 - val_loss: 0.5086 - val_accuracy: 0.9045 - val_recall_8: 0.9035 - val_precision_8: 0.9062\n",
      "Epoch 79/500\n",
      "190/190 [==============================] - 1s 8ms/step - loss: 0.0369 - accuracy: 0.9155 - recall_8: 0.9139 - precision_8: 0.9176 - val_loss: 0.4192 - val_accuracy: 0.9045 - val_recall_8: 0.9025 - val_precision_8: 0.9061\n",
      "Epoch 80/500\n",
      "190/190 [==============================] - 1s 8ms/step - loss: 0.0373 - accuracy: 0.9138 - recall_8: 0.9121 - precision_8: 0.9161 - val_loss: 0.3623 - val_accuracy: 0.9070 - val_recall_8: 0.9055 - val_precision_8: 0.9078\n",
      "Epoch 81/500\n",
      "190/190 [==============================] - 1s 7ms/step - loss: 0.0382 - accuracy: 0.9118 - recall_8: 0.9105 - precision_8: 0.9138 - val_loss: 0.4629 - val_accuracy: 0.9045 - val_recall_8: 0.9025 - val_precision_8: 0.9057\n",
      "Epoch 82/500\n",
      "190/190 [==============================] - 1s 7ms/step - loss: 0.0370 - accuracy: 0.9148 - recall_8: 0.9134 - precision_8: 0.9167 - val_loss: 0.4064 - val_accuracy: 0.9090 - val_recall_8: 0.9080 - val_precision_8: 0.9112\n",
      "Epoch 83/500\n",
      "190/190 [==============================] - 2s 8ms/step - loss: 0.0365 - accuracy: 0.9167 - recall_8: 0.9154 - precision_8: 0.9189 - val_loss: 0.3930 - val_accuracy: 0.9090 - val_recall_8: 0.9075 - val_precision_8: 0.9107\n",
      "Epoch 84/500\n",
      "190/190 [==============================] - 1s 7ms/step - loss: 0.0368 - accuracy: 0.9147 - recall_8: 0.9132 - precision_8: 0.9169 - val_loss: 0.3877 - val_accuracy: 0.9025 - val_recall_8: 0.9020 - val_precision_8: 0.9038\n",
      "Epoch 85/500\n",
      "190/190 [==============================] - 1s 8ms/step - loss: 0.0359 - accuracy: 0.9163 - recall_8: 0.9151 - precision_8: 0.9182 - val_loss: 0.4436 - val_accuracy: 0.9100 - val_recall_8: 0.9095 - val_precision_8: 0.9109\n",
      "Epoch 86/500\n",
      "190/190 [==============================] - 1s 7ms/step - loss: 0.0364 - accuracy: 0.9155 - recall_8: 0.9140 - precision_8: 0.9175 - val_loss: 0.4294 - val_accuracy: 0.9060 - val_recall_8: 0.9050 - val_precision_8: 0.9091\n",
      "Epoch 87/500\n",
      "190/190 [==============================] - 1s 7ms/step - loss: 0.0366 - accuracy: 0.9159 - recall_8: 0.9145 - precision_8: 0.9180 - val_loss: 0.4579 - val_accuracy: 0.9045 - val_recall_8: 0.9035 - val_precision_8: 0.9053\n",
      "Epoch 88/500\n",
      "190/190 [==============================] - 2s 9ms/step - loss: 0.0363 - accuracy: 0.9165 - recall_8: 0.9152 - precision_8: 0.9189 - val_loss: 0.4433 - val_accuracy: 0.9065 - val_recall_8: 0.9060 - val_precision_8: 0.9083\n",
      "Epoch 89/500\n",
      "190/190 [==============================] - 2s 9ms/step - loss: 0.0362 - accuracy: 0.9178 - recall_8: 0.9158 - precision_8: 0.9196 - val_loss: 0.3955 - val_accuracy: 0.9025 - val_recall_8: 0.9020 - val_precision_8: 0.9034\n",
      "Epoch 90/500\n",
      "190/190 [==============================] - 2s 8ms/step - loss: 0.0364 - accuracy: 0.9169 - recall_8: 0.9154 - precision_8: 0.9191 - val_loss: 0.3736 - val_accuracy: 0.9095 - val_recall_8: 0.9080 - val_precision_8: 0.9135\n",
      "Epoch 91/500\n",
      "190/190 [==============================] - 2s 8ms/step - loss: 0.0357 - accuracy: 0.9172 - recall_8: 0.9157 - precision_8: 0.9191 - val_loss: 0.4053 - val_accuracy: 0.9085 - val_recall_8: 0.9065 - val_precision_8: 0.9101\n",
      "Epoch 92/500\n",
      "190/190 [==============================] - 2s 9ms/step - loss: 0.0355 - accuracy: 0.9184 - recall_8: 0.9164 - precision_8: 0.9203 - val_loss: 0.4263 - val_accuracy: 0.9075 - val_recall_8: 0.9055 - val_precision_8: 0.9096\n",
      "Epoch 93/500\n",
      "190/190 [==============================] - 1s 8ms/step - loss: 0.0357 - accuracy: 0.9171 - recall_8: 0.9153 - precision_8: 0.9192 - val_loss: 0.4446 - val_accuracy: 0.9025 - val_recall_8: 0.9015 - val_precision_8: 0.9038\n",
      "Epoch 94/500\n",
      "190/190 [==============================] - 2s 8ms/step - loss: 0.0355 - accuracy: 0.9161 - recall_8: 0.9145 - precision_8: 0.9184 - val_loss: 0.4275 - val_accuracy: 0.9030 - val_recall_8: 0.9005 - val_precision_8: 0.9046\n",
      "Epoch 95/500\n",
      "190/190 [==============================] - 2s 8ms/step - loss: 0.0352 - accuracy: 0.9184 - recall_8: 0.9167 - precision_8: 0.9203 - val_loss: 0.3682 - val_accuracy: 0.9115 - val_recall_8: 0.9080 - val_precision_8: 0.9121\n",
      "Epoch 96/500\n",
      "190/190 [==============================] - 2s 8ms/step - loss: 0.0356 - accuracy: 0.9158 - recall_8: 0.9144 - precision_8: 0.9178 - val_loss: 0.4110 - val_accuracy: 0.9040 - val_recall_8: 0.9005 - val_precision_8: 0.9064\n",
      "Epoch 97/500\n",
      "190/190 [==============================] - 2s 8ms/step - loss: 0.0356 - accuracy: 0.9186 - recall_8: 0.9168 - precision_8: 0.9207 - val_loss: 0.4688 - val_accuracy: 0.9040 - val_recall_8: 0.9005 - val_precision_8: 0.9055\n",
      "Epoch 98/500\n",
      "190/190 [==============================] - 1s 8ms/step - loss: 0.0355 - accuracy: 0.9174 - recall_8: 0.9159 - precision_8: 0.9196 - val_loss: 0.4067 - val_accuracy: 0.9075 - val_recall_8: 0.9065 - val_precision_8: 0.9092\n",
      "Epoch 99/500\n",
      "190/190 [==============================] - 1s 8ms/step - loss: 0.0355 - accuracy: 0.9177 - recall_8: 0.9168 - precision_8: 0.9199 - val_loss: 0.4503 - val_accuracy: 0.9060 - val_recall_8: 0.9055 - val_precision_8: 0.9082\n",
      "Epoch 100/500\n",
      "190/190 [==============================] - 1s 8ms/step - loss: 0.0348 - accuracy: 0.9188 - recall_8: 0.9171 - precision_8: 0.9207 - val_loss: 0.3928 - val_accuracy: 0.9095 - val_recall_8: 0.9085 - val_precision_8: 0.9117\n",
      "Epoch 101/500\n",
      "190/190 [==============================] - 1s 7ms/step - loss: 0.0347 - accuracy: 0.9199 - recall_8: 0.9188 - precision_8: 0.9222 - val_loss: 0.4393 - val_accuracy: 0.8995 - val_recall_8: 0.8980 - val_precision_8: 0.9016\n",
      "Epoch 102/500\n",
      "190/190 [==============================] - 2s 9ms/step - loss: 0.0342 - accuracy: 0.9207 - recall_8: 0.9190 - precision_8: 0.9228 - val_loss: 0.3543 - val_accuracy: 0.9095 - val_recall_8: 0.9075 - val_precision_8: 0.9125\n",
      "Epoch 103/500\n",
      "190/190 [==============================] - 2s 8ms/step - loss: 0.0361 - accuracy: 0.9180 - recall_8: 0.9165 - precision_8: 0.9200 - val_loss: 0.3928 - val_accuracy: 0.9075 - val_recall_8: 0.9055 - val_precision_8: 0.9091\n",
      "Epoch 104/500\n",
      "190/190 [==============================] - 2s 8ms/step - loss: 0.0346 - accuracy: 0.9204 - recall_8: 0.9190 - precision_8: 0.9226 - val_loss: 0.3688 - val_accuracy: 0.9050 - val_recall_8: 0.9035 - val_precision_8: 0.9062\n",
      "Epoch 105/500\n",
      "190/190 [==============================] - 2s 8ms/step - loss: 0.0353 - accuracy: 0.9189 - recall_8: 0.9177 - precision_8: 0.9212 - val_loss: 0.3793 - val_accuracy: 0.9060 - val_recall_8: 0.9045 - val_precision_8: 0.9068\n",
      "Epoch 106/500\n"
     ]
    },
    {
     "name": "stdout",
     "output_type": "stream",
     "text": [
      "190/190 [==============================] - 1s 8ms/step - loss: 0.0347 - accuracy: 0.9190 - recall_8: 0.9173 - precision_8: 0.9214 - val_loss: 0.3584 - val_accuracy: 0.9100 - val_recall_8: 0.9095 - val_precision_8: 0.9127\n",
      "Epoch 107/500\n",
      "190/190 [==============================] - 2s 8ms/step - loss: 0.0339 - accuracy: 0.9219 - recall_8: 0.9204 - precision_8: 0.9241 - val_loss: 0.3971 - val_accuracy: 0.9030 - val_recall_8: 0.9025 - val_precision_8: 0.9039\n",
      "Epoch 108/500\n",
      "190/190 [==============================] - 1s 7ms/step - loss: 0.0336 - accuracy: 0.9213 - recall_8: 0.9202 - precision_8: 0.9234 - val_loss: 0.3856 - val_accuracy: 0.9070 - val_recall_8: 0.9060 - val_precision_8: 0.9087\n",
      "Epoch 109/500\n",
      "190/190 [==============================] - 1s 8ms/step - loss: 0.0339 - accuracy: 0.9200 - recall_8: 0.9184 - precision_8: 0.9222 - val_loss: 0.3736 - val_accuracy: 0.9050 - val_recall_8: 0.9030 - val_precision_8: 0.9075\n",
      "Epoch 110/500\n",
      "190/190 [==============================] - 1s 8ms/step - loss: 0.0340 - accuracy: 0.9202 - recall_8: 0.9188 - precision_8: 0.9227 - val_loss: 0.3720 - val_accuracy: 0.9050 - val_recall_8: 0.9030 - val_precision_8: 0.9062\n",
      "Epoch 111/500\n",
      "190/190 [==============================] - 2s 8ms/step - loss: 0.0340 - accuracy: 0.9218 - recall_8: 0.9205 - precision_8: 0.9235 - val_loss: 0.3507 - val_accuracy: 0.9125 - val_recall_8: 0.9120 - val_precision_8: 0.9129\n",
      "Epoch 112/500\n",
      "190/190 [==============================] - 2s 9ms/step - loss: 0.0340 - accuracy: 0.9226 - recall_8: 0.9214 - precision_8: 0.9249 - val_loss: 0.3629 - val_accuracy: 0.9130 - val_recall_8: 0.9120 - val_precision_8: 0.9157\n",
      "Epoch 113/500\n",
      "190/190 [==============================] - 2s 8ms/step - loss: 0.0341 - accuracy: 0.9203 - recall_8: 0.9187 - precision_8: 0.9223 - val_loss: 0.3711 - val_accuracy: 0.9070 - val_recall_8: 0.9055 - val_precision_8: 0.9096\n",
      "Epoch 114/500\n",
      "190/190 [==============================] - 2s 8ms/step - loss: 0.0339 - accuracy: 0.9203 - recall_8: 0.9194 - precision_8: 0.9221 - val_loss: 0.3952 - val_accuracy: 0.9080 - val_recall_8: 0.9060 - val_precision_8: 0.9096\n",
      "Epoch 115/500\n",
      "190/190 [==============================] - 1s 8ms/step - loss: 0.0335 - accuracy: 0.9223 - recall_8: 0.9208 - precision_8: 0.9241 - val_loss: 0.3639 - val_accuracy: 0.9105 - val_recall_8: 0.9100 - val_precision_8: 0.9118\n",
      "Epoch 116/500\n",
      "190/190 [==============================] - 1s 8ms/step - loss: 0.0338 - accuracy: 0.9230 - recall_8: 0.9217 - precision_8: 0.9249 - val_loss: 0.4300 - val_accuracy: 0.9070 - val_recall_8: 0.9070 - val_precision_8: 0.9111\n",
      "Epoch 117/500\n",
      "190/190 [==============================] - 1s 8ms/step - loss: 0.0331 - accuracy: 0.9233 - recall_8: 0.9221 - precision_8: 0.9251 - val_loss: 0.4086 - val_accuracy: 0.9135 - val_recall_8: 0.9110 - val_precision_8: 0.9165\n",
      "Epoch 118/500\n",
      "190/190 [==============================] - 1s 8ms/step - loss: 0.0337 - accuracy: 0.9222 - recall_8: 0.9210 - precision_8: 0.9239 - val_loss: 0.3728 - val_accuracy: 0.9095 - val_recall_8: 0.9085 - val_precision_8: 0.9112\n",
      "Epoch 119/500\n",
      "190/190 [==============================] - 2s 8ms/step - loss: 0.0340 - accuracy: 0.9228 - recall_8: 0.9216 - precision_8: 0.9243 - val_loss: 0.3899 - val_accuracy: 0.9130 - val_recall_8: 0.9125 - val_precision_8: 0.9166\n",
      "Epoch 120/500\n",
      "190/190 [==============================] - 2s 9ms/step - loss: 0.0339 - accuracy: 0.9219 - recall_8: 0.9203 - precision_8: 0.9240 - val_loss: 0.3860 - val_accuracy: 0.9115 - val_recall_8: 0.9105 - val_precision_8: 0.9132\n",
      "Epoch 121/500\n",
      "190/190 [==============================] - 2s 8ms/step - loss: 0.0334 - accuracy: 0.9233 - recall_8: 0.9219 - precision_8: 0.9250 - val_loss: 0.3487 - val_accuracy: 0.9120 - val_recall_8: 0.9095 - val_precision_8: 0.9136\n",
      "Epoch 122/500\n",
      "190/190 [==============================] - 1s 8ms/step - loss: 0.0333 - accuracy: 0.9230 - recall_8: 0.9215 - precision_8: 0.9250 - val_loss: 0.4352 - val_accuracy: 0.9160 - val_recall_8: 0.9150 - val_precision_8: 0.9178\n",
      "Epoch 123/500\n",
      "190/190 [==============================] - 2s 8ms/step - loss: 0.0340 - accuracy: 0.9215 - recall_8: 0.9206 - precision_8: 0.9234 - val_loss: 0.3696 - val_accuracy: 0.9120 - val_recall_8: 0.9100 - val_precision_8: 0.9141\n",
      "Epoch 124/500\n",
      "190/190 [==============================] - 2s 8ms/step - loss: 0.0332 - accuracy: 0.9225 - recall_8: 0.9210 - precision_8: 0.9245 - val_loss: 0.3817 - val_accuracy: 0.9145 - val_recall_8: 0.9130 - val_precision_8: 0.9162\n",
      "Epoch 125/500\n",
      "190/190 [==============================] - 1s 8ms/step - loss: 0.0330 - accuracy: 0.9237 - recall_8: 0.9221 - precision_8: 0.9255 - val_loss: 0.3914 - val_accuracy: 0.9100 - val_recall_8: 0.9085 - val_precision_8: 0.9121\n",
      "Epoch 126/500\n",
      "190/190 [==============================] - 1s 8ms/step - loss: 0.0328 - accuracy: 0.9238 - recall_8: 0.9218 - precision_8: 0.9256 - val_loss: 0.3675 - val_accuracy: 0.9125 - val_recall_8: 0.9100 - val_precision_8: 0.9160\n",
      "Epoch 127/500\n",
      "190/190 [==============================] - 1s 8ms/step - loss: 0.0330 - accuracy: 0.9236 - recall_8: 0.9224 - precision_8: 0.9256 - val_loss: 0.3746 - val_accuracy: 0.9080 - val_recall_8: 0.9065 - val_precision_8: 0.9111\n",
      "Epoch 128/500\n",
      "190/190 [==============================] - 1s 8ms/step - loss: 0.0326 - accuracy: 0.9240 - recall_8: 0.9225 - precision_8: 0.9256 - val_loss: 0.3932 - val_accuracy: 0.9085 - val_recall_8: 0.9065 - val_precision_8: 0.9115\n",
      "Epoch 129/500\n",
      "190/190 [==============================] - 1s 8ms/step - loss: 0.0333 - accuracy: 0.9239 - recall_8: 0.9224 - precision_8: 0.9255 - val_loss: 0.3624 - val_accuracy: 0.9110 - val_recall_8: 0.9105 - val_precision_8: 0.9137\n",
      "Epoch 130/500\n",
      "190/190 [==============================] - 2s 8ms/step - loss: 0.0325 - accuracy: 0.9243 - recall_8: 0.9225 - precision_8: 0.9262 - val_loss: 0.3566 - val_accuracy: 0.9125 - val_recall_8: 0.9115 - val_precision_8: 0.9152\n",
      "Epoch 131/500\n",
      "190/190 [==============================] - 1s 8ms/step - loss: 0.0322 - accuracy: 0.9256 - recall_8: 0.9243 - precision_8: 0.9273 - val_loss: 0.3501 - val_accuracy: 0.9145 - val_recall_8: 0.9125 - val_precision_8: 0.9166\n",
      "Epoch 132/500\n",
      "190/190 [==============================] - 1s 8ms/step - loss: 0.0325 - accuracy: 0.9251 - recall_8: 0.9233 - precision_8: 0.9267 - val_loss: 0.3598 - val_accuracy: 0.9165 - val_recall_8: 0.9150 - val_precision_8: 0.9191\n",
      "Epoch 133/500\n",
      "190/190 [==============================] - 2s 9ms/step - loss: 0.0319 - accuracy: 0.9264 - recall_8: 0.9248 - precision_8: 0.9280 - val_loss: 0.3481 - val_accuracy: 0.9180 - val_recall_8: 0.9150 - val_precision_8: 0.9196\n",
      "Epoch 134/500\n",
      "190/190 [==============================] - 2s 9ms/step - loss: 0.0323 - accuracy: 0.9261 - recall_8: 0.9248 - precision_8: 0.9276 - val_loss: 0.3888 - val_accuracy: 0.9125 - val_recall_8: 0.9105 - val_precision_8: 0.9155\n",
      "Epoch 135/500\n",
      "190/190 [==============================] - 2s 8ms/step - loss: 0.0321 - accuracy: 0.9263 - recall_8: 0.9248 - precision_8: 0.9282 - val_loss: 0.3579 - val_accuracy: 0.9135 - val_recall_8: 0.9120 - val_precision_8: 0.9161\n",
      "Epoch 136/500\n",
      "190/190 [==============================] - 2s 8ms/step - loss: 0.0325 - accuracy: 0.9246 - recall_8: 0.9235 - precision_8: 0.9261 - val_loss: 0.3484 - val_accuracy: 0.9115 - val_recall_8: 0.9105 - val_precision_8: 0.9146\n",
      "Epoch 137/500\n",
      "190/190 [==============================] - 1s 8ms/step - loss: 0.0323 - accuracy: 0.9252 - recall_8: 0.9239 - precision_8: 0.9271 - val_loss: 0.3579 - val_accuracy: 0.9175 - val_recall_8: 0.9160 - val_precision_8: 0.9215\n",
      "Epoch 138/500\n",
      "190/190 [==============================] - 2s 8ms/step - loss: 0.0320 - accuracy: 0.9266 - recall_8: 0.9253 - precision_8: 0.9283 - val_loss: 0.3701 - val_accuracy: 0.9165 - val_recall_8: 0.9160 - val_precision_8: 0.9201\n",
      "Epoch 139/500\n",
      "190/190 [==============================] - 2s 9ms/step - loss: 0.0311 - accuracy: 0.9277 - recall_8: 0.9265 - precision_8: 0.9294 - val_loss: 0.4236 - val_accuracy: 0.9105 - val_recall_8: 0.9090 - val_precision_8: 0.9122\n",
      "Epoch 140/500\n",
      "190/190 [==============================] - 2s 8ms/step - loss: 0.0320 - accuracy: 0.9242 - recall_8: 0.9230 - precision_8: 0.9264 - val_loss: 0.4226 - val_accuracy: 0.9140 - val_recall_8: 0.9125 - val_precision_8: 0.9157\n"
     ]
    },
    {
     "name": "stdout",
     "output_type": "stream",
     "text": [
      "Epoch 141/500\n",
      "190/190 [==============================] - 2s 8ms/step - loss: 0.0317 - accuracy: 0.9264 - recall_8: 0.9249 - precision_8: 0.9283 - val_loss: 0.4396 - val_accuracy: 0.9170 - val_recall_8: 0.9150 - val_precision_8: 0.9187\n",
      "Epoch 142/500\n",
      "190/190 [==============================] - 2s 8ms/step - loss: 0.0316 - accuracy: 0.9266 - recall_8: 0.9253 - precision_8: 0.9285 - val_loss: 0.4248 - val_accuracy: 0.9115 - val_recall_8: 0.9110 - val_precision_8: 0.9147\n",
      "Epoch 143/500\n",
      "190/190 [==============================] - 2s 8ms/step - loss: 0.0322 - accuracy: 0.9279 - recall_8: 0.9266 - precision_8: 0.9299 - val_loss: 0.3569 - val_accuracy: 0.9170 - val_recall_8: 0.9155 - val_precision_8: 0.9196\n",
      "Epoch 144/500\n",
      "190/190 [==============================] - 1s 8ms/step - loss: 0.0320 - accuracy: 0.9258 - recall_8: 0.9245 - precision_8: 0.9278 - val_loss: 0.3850 - val_accuracy: 0.9135 - val_recall_8: 0.9125 - val_precision_8: 0.9162\n",
      "Epoch 145/500\n",
      "190/190 [==============================] - 2s 8ms/step - loss: 0.0319 - accuracy: 0.9268 - recall_8: 0.9254 - precision_8: 0.9286 - val_loss: 0.3657 - val_accuracy: 0.9170 - val_recall_8: 0.9140 - val_precision_8: 0.9172\n",
      "Epoch 146/500\n",
      "190/190 [==============================] - 2s 8ms/step - loss: 0.0317 - accuracy: 0.9262 - recall_8: 0.9249 - precision_8: 0.9282 - val_loss: 0.3852 - val_accuracy: 0.9130 - val_recall_8: 0.9105 - val_precision_8: 0.9165\n",
      "Epoch 147/500\n",
      "190/190 [==============================] - 2s 8ms/step - loss: 0.0325 - accuracy: 0.9273 - recall_8: 0.9257 - precision_8: 0.9293 - val_loss: 0.3893 - val_accuracy: 0.9155 - val_recall_8: 0.9120 - val_precision_8: 0.9166\n",
      "Epoch 148/500\n",
      "190/190 [==============================] - 2s 8ms/step - loss: 0.0310 - accuracy: 0.9269 - recall_8: 0.9253 - precision_8: 0.9289 - val_loss: 0.3886 - val_accuracy: 0.9155 - val_recall_8: 0.9135 - val_precision_8: 0.9172\n",
      "Epoch 149/500\n",
      "190/190 [==============================] - 2s 9ms/step - loss: 0.0318 - accuracy: 0.9273 - recall_8: 0.9257 - precision_8: 0.9292 - val_loss: 0.3759 - val_accuracy: 0.9160 - val_recall_8: 0.9145 - val_precision_8: 0.9168\n",
      "Epoch 150/500\n",
      "190/190 [==============================] - 2s 8ms/step - loss: 0.0317 - accuracy: 0.9269 - recall_8: 0.9253 - precision_8: 0.9283 - val_loss: 0.3617 - val_accuracy: 0.9165 - val_recall_8: 0.9140 - val_precision_8: 0.9186\n",
      "Epoch 151/500\n",
      "190/190 [==============================] - 1s 8ms/step - loss: 0.0327 - accuracy: 0.9252 - recall_8: 0.9236 - precision_8: 0.9271 - val_loss: 0.3550 - val_accuracy: 0.9120 - val_recall_8: 0.9110 - val_precision_8: 0.9142\n",
      "Epoch 152/500\n",
      "190/190 [==============================] - 2s 8ms/step - loss: 0.0320 - accuracy: 0.9264 - recall_8: 0.9253 - precision_8: 0.9286 - val_loss: 0.3741 - val_accuracy: 0.9120 - val_recall_8: 0.9095 - val_precision_8: 0.9136\n",
      "Epoch 153/500\n",
      "190/190 [==============================] - 1s 7ms/step - loss: 0.0316 - accuracy: 0.9262 - recall_8: 0.9251 - precision_8: 0.9285 - val_loss: 0.3762 - val_accuracy: 0.9105 - val_recall_8: 0.9095 - val_precision_8: 0.9109\n",
      "Epoch 154/500\n",
      "190/190 [==============================] - 2s 8ms/step - loss: 0.0315 - accuracy: 0.9257 - recall_8: 0.9246 - precision_8: 0.9276 - val_loss: 0.3700 - val_accuracy: 0.9145 - val_recall_8: 0.9140 - val_precision_8: 0.9163\n",
      "Epoch 155/500\n",
      "190/190 [==============================] - 2s 8ms/step - loss: 0.0319 - accuracy: 0.9257 - recall_8: 0.9242 - precision_8: 0.9277 - val_loss: 0.4060 - val_accuracy: 0.9135 - val_recall_8: 0.9105 - val_precision_8: 0.9146\n",
      "Epoch 156/500\n",
      "190/190 [==============================] - 2s 8ms/step - loss: 0.0316 - accuracy: 0.9259 - recall_8: 0.9245 - precision_8: 0.9276 - val_loss: 0.3787 - val_accuracy: 0.9225 - val_recall_8: 0.9210 - val_precision_8: 0.9224\n",
      "Epoch 157/500\n",
      "190/190 [==============================] - 1s 8ms/step - loss: 0.0317 - accuracy: 0.9277 - recall_8: 0.9264 - precision_8: 0.9294 - val_loss: 0.4058 - val_accuracy: 0.9130 - val_recall_8: 0.9125 - val_precision_8: 0.9152\n",
      "Epoch 158/500\n",
      "190/190 [==============================] - 1s 8ms/step - loss: 0.0315 - accuracy: 0.9277 - recall_8: 0.9264 - precision_8: 0.9298 - val_loss: 0.3899 - val_accuracy: 0.9145 - val_recall_8: 0.9120 - val_precision_8: 0.9170\n",
      "Epoch 159/500\n",
      "190/190 [==============================] - 1s 8ms/step - loss: 0.0310 - accuracy: 0.9297 - recall_8: 0.9283 - precision_8: 0.9313 - val_loss: 0.3875 - val_accuracy: 0.9155 - val_recall_8: 0.9145 - val_precision_8: 0.9163\n",
      "Epoch 160/500\n",
      "190/190 [==============================] - 2s 8ms/step - loss: 0.0320 - accuracy: 0.9268 - recall_8: 0.9259 - precision_8: 0.9287 - val_loss: 0.3545 - val_accuracy: 0.9180 - val_recall_8: 0.9170 - val_precision_8: 0.9207\n",
      "Epoch 161/500\n",
      "190/190 [==============================] - 1s 8ms/step - loss: 0.0306 - accuracy: 0.9283 - recall_8: 0.9267 - precision_8: 0.9299 - val_loss: 0.3550 - val_accuracy: 0.9180 - val_recall_8: 0.9165 - val_precision_8: 0.9193\n",
      "Epoch 162/500\n",
      "190/190 [==============================] - 2s 8ms/step - loss: 0.0307 - accuracy: 0.9286 - recall_8: 0.9273 - precision_8: 0.9301 - val_loss: 0.3487 - val_accuracy: 0.9160 - val_recall_8: 0.9140 - val_precision_8: 0.9195\n",
      "Epoch 163/500\n",
      "190/190 [==============================] - 1s 8ms/step - loss: 0.0309 - accuracy: 0.9285 - recall_8: 0.9270 - precision_8: 0.9303 - val_loss: 0.3600 - val_accuracy: 0.9185 - val_recall_8: 0.9160 - val_precision_8: 0.9201\n",
      "Epoch 164/500\n",
      "190/190 [==============================] - 2s 8ms/step - loss: 0.0307 - accuracy: 0.9297 - recall_8: 0.9283 - precision_8: 0.9311 - val_loss: 0.3549 - val_accuracy: 0.9175 - val_recall_8: 0.9155 - val_precision_8: 0.9196\n",
      "Epoch 165/500\n",
      "190/190 [==============================] - 1s 8ms/step - loss: 0.0316 - accuracy: 0.9272 - recall_8: 0.9255 - precision_8: 0.9290 - val_loss: 0.3732 - val_accuracy: 0.9135 - val_recall_8: 0.9110 - val_precision_8: 0.9151\n",
      "Epoch 166/500\n",
      "190/190 [==============================] - 1s 8ms/step - loss: 0.0314 - accuracy: 0.9267 - recall_8: 0.9254 - precision_8: 0.9283 - val_loss: 0.3987 - val_accuracy: 0.9190 - val_recall_8: 0.9170 - val_precision_8: 0.9211\n",
      "Epoch 167/500\n",
      "190/190 [==============================] - 2s 8ms/step - loss: 0.0304 - accuracy: 0.9299 - recall_8: 0.9285 - precision_8: 0.9316 - val_loss: 0.4073 - val_accuracy: 0.9095 - val_recall_8: 0.9085 - val_precision_8: 0.9117\n",
      "Epoch 168/500\n",
      "190/190 [==============================] - 1s 7ms/step - loss: 0.0307 - accuracy: 0.9282 - recall_8: 0.9269 - precision_8: 0.9301 - val_loss: 0.4337 - val_accuracy: 0.9200 - val_recall_8: 0.9185 - val_precision_8: 0.9227\n",
      "Epoch 169/500\n",
      "190/190 [==============================] - 2s 8ms/step - loss: 0.0311 - accuracy: 0.9290 - recall_8: 0.9276 - precision_8: 0.9309 - val_loss: 0.3636 - val_accuracy: 0.9195 - val_recall_8: 0.9165 - val_precision_8: 0.9216\n",
      "Epoch 170/500\n",
      "190/190 [==============================] - 1s 7ms/step - loss: 0.0305 - accuracy: 0.9292 - recall_8: 0.9280 - precision_8: 0.9315 - val_loss: 0.4115 - val_accuracy: 0.9140 - val_recall_8: 0.9130 - val_precision_8: 0.9171\n",
      "Epoch 171/500\n",
      "190/190 [==============================] - 1s 8ms/step - loss: 0.0303 - accuracy: 0.9288 - recall_8: 0.9277 - precision_8: 0.9310 - val_loss: 0.3917 - val_accuracy: 0.9190 - val_recall_8: 0.9160 - val_precision_8: 0.9215\n",
      "Epoch 172/500\n",
      "190/190 [==============================] - 1s 8ms/step - loss: 0.0310 - accuracy: 0.9297 - recall_8: 0.9287 - precision_8: 0.9316 - val_loss: 0.4113 - val_accuracy: 0.9130 - val_recall_8: 0.9125 - val_precision_8: 0.9162\n",
      "Epoch 173/500\n",
      "190/190 [==============================] - 2s 8ms/step - loss: 0.0310 - accuracy: 0.9266 - recall_8: 0.9254 - precision_8: 0.9285 - val_loss: 0.3825 - val_accuracy: 0.9130 - val_recall_8: 0.9105 - val_precision_8: 0.9155\n",
      "Epoch 174/500\n",
      "190/190 [==============================] - 1s 8ms/step - loss: 0.0301 - accuracy: 0.9298 - recall_8: 0.9284 - precision_8: 0.9318 - val_loss: 0.3745 - val_accuracy: 0.9165 - val_recall_8: 0.9145 - val_precision_8: 0.9182\n",
      "Epoch 175/500\n",
      "190/190 [==============================] - 1s 8ms/step - loss: 0.0302 - accuracy: 0.9295 - recall_8: 0.9284 - precision_8: 0.9312 - val_loss: 0.3806 - val_accuracy: 0.9165 - val_recall_8: 0.9160 - val_precision_8: 0.9188\n"
     ]
    },
    {
     "name": "stdout",
     "output_type": "stream",
     "text": [
      "Epoch 176/500\n",
      "190/190 [==============================] - 1s 7ms/step - loss: 0.0313 - accuracy: 0.9288 - recall_8: 0.9274 - precision_8: 0.9307 - val_loss: 0.4327 - val_accuracy: 0.9100 - val_recall_8: 0.9075 - val_precision_8: 0.9111\n",
      "Epoch 177/500\n",
      "190/190 [==============================] - 1s 7ms/step - loss: 0.0302 - accuracy: 0.9307 - recall_8: 0.9296 - precision_8: 0.9325 - val_loss: 0.4475 - val_accuracy: 0.9130 - val_recall_8: 0.9110 - val_precision_8: 0.9151\n",
      "Epoch 178/500\n",
      "190/190 [==============================] - 1s 7ms/step - loss: 0.0301 - accuracy: 0.9307 - recall_8: 0.9296 - precision_8: 0.9325 - val_loss: 0.3902 - val_accuracy: 0.9160 - val_recall_8: 0.9145 - val_precision_8: 0.9159\n",
      "Epoch 179/500\n",
      "190/190 [==============================] - 1s 7ms/step - loss: 0.0300 - accuracy: 0.9316 - recall_8: 0.9302 - precision_8: 0.9332 - val_loss: 0.4089 - val_accuracy: 0.9220 - val_recall_8: 0.9210 - val_precision_8: 0.9224\n",
      "Epoch 180/500\n",
      "190/190 [==============================] - 2s 8ms/step - loss: 0.0303 - accuracy: 0.9302 - recall_8: 0.9290 - precision_8: 0.9318 - val_loss: 0.3866 - val_accuracy: 0.9175 - val_recall_8: 0.9155 - val_precision_8: 0.9196\n",
      "Epoch 181/500\n",
      "190/190 [==============================] - 2s 8ms/step - loss: 0.0302 - accuracy: 0.9297 - recall_8: 0.9285 - precision_8: 0.9315 - val_loss: 0.3885 - val_accuracy: 0.9185 - val_recall_8: 0.9160 - val_precision_8: 0.9206\n",
      "Epoch 182/500\n",
      "190/190 [==============================] - 1s 7ms/step - loss: 0.0306 - accuracy: 0.9293 - recall_8: 0.9281 - precision_8: 0.9309 - val_loss: 0.4035 - val_accuracy: 0.9145 - val_recall_8: 0.9130 - val_precision_8: 0.9171\n",
      "Epoch 183/500\n",
      "190/190 [==============================] - 2s 8ms/step - loss: 0.0303 - accuracy: 0.9307 - recall_8: 0.9296 - precision_8: 0.9322 - val_loss: 0.3542 - val_accuracy: 0.9155 - val_recall_8: 0.9130 - val_precision_8: 0.9176\n",
      "Epoch 184/500\n",
      "190/190 [==============================] - 1s 8ms/step - loss: 0.0299 - accuracy: 0.9297 - recall_8: 0.9283 - precision_8: 0.9314 - val_loss: 0.3500 - val_accuracy: 0.9130 - val_recall_8: 0.9110 - val_precision_8: 0.9151\n",
      "Epoch 185/500\n",
      "190/190 [==============================] - 1s 7ms/step - loss: 0.0297 - accuracy: 0.9305 - recall_8: 0.9293 - precision_8: 0.9321 - val_loss: 0.3418 - val_accuracy: 0.9205 - val_recall_8: 0.9190 - val_precision_8: 0.9227\n",
      "Epoch 186/500\n",
      "190/190 [==============================] - 2s 8ms/step - loss: 0.0301 - accuracy: 0.9312 - recall_8: 0.9298 - precision_8: 0.9331 - val_loss: 0.3533 - val_accuracy: 0.9220 - val_recall_8: 0.9180 - val_precision_8: 0.9235\n",
      "Epoch 187/500\n",
      "190/190 [==============================] - 1s 7ms/step - loss: 0.0298 - accuracy: 0.9311 - recall_8: 0.9296 - precision_8: 0.9328 - val_loss: 0.3468 - val_accuracy: 0.9200 - val_recall_8: 0.9180 - val_precision_8: 0.9217\n",
      "Epoch 188/500\n",
      "190/190 [==============================] - 1s 8ms/step - loss: 0.0289 - accuracy: 0.9329 - recall_8: 0.9319 - precision_8: 0.9344 - val_loss: 0.3754 - val_accuracy: 0.9155 - val_recall_8: 0.9145 - val_precision_8: 0.9173\n",
      "Epoch 189/500\n",
      "190/190 [==============================] - 1s 7ms/step - loss: 0.0298 - accuracy: 0.9320 - recall_8: 0.9310 - precision_8: 0.9337 - val_loss: 0.3834 - val_accuracy: 0.9115 - val_recall_8: 0.9095 - val_precision_8: 0.9127\n",
      "Epoch 190/500\n",
      "190/190 [==============================] - 1s 8ms/step - loss: 0.0297 - accuracy: 0.9313 - recall_8: 0.9298 - precision_8: 0.9331 - val_loss: 0.3581 - val_accuracy: 0.9220 - val_recall_8: 0.9205 - val_precision_8: 0.9233\n",
      "Epoch 191/500\n",
      "190/190 [==============================] - 1s 8ms/step - loss: 0.0292 - accuracy: 0.9313 - recall_8: 0.9301 - precision_8: 0.9328 - val_loss: 0.3977 - val_accuracy: 0.9195 - val_recall_8: 0.9180 - val_precision_8: 0.9208\n",
      "Epoch 192/500\n",
      "190/190 [==============================] - 2s 8ms/step - loss: 0.0304 - accuracy: 0.9322 - recall_8: 0.9313 - precision_8: 0.9338 - val_loss: 0.3749 - val_accuracy: 0.9185 - val_recall_8: 0.9165 - val_precision_8: 0.9183\n",
      "Epoch 193/500\n",
      "190/190 [==============================] - 1s 8ms/step - loss: 0.0299 - accuracy: 0.9309 - recall_8: 0.9296 - precision_8: 0.9327 - val_loss: 0.3492 - val_accuracy: 0.9210 - val_recall_8: 0.9200 - val_precision_8: 0.9223\n",
      "Epoch 194/500\n",
      "190/190 [==============================] - 1s 7ms/step - loss: 0.0292 - accuracy: 0.9319 - recall_8: 0.9306 - precision_8: 0.9339 - val_loss: 0.3381 - val_accuracy: 0.9185 - val_recall_8: 0.9160 - val_precision_8: 0.9188\n",
      "Epoch 195/500\n",
      "190/190 [==============================] - 1s 8ms/step - loss: 0.0295 - accuracy: 0.9322 - recall_8: 0.9309 - precision_8: 0.9341 - val_loss: 0.3543 - val_accuracy: 0.9175 - val_recall_8: 0.9165 - val_precision_8: 0.9197\n",
      "Epoch 196/500\n",
      "190/190 [==============================] - 1s 8ms/step - loss: 0.0305 - accuracy: 0.9299 - recall_8: 0.9286 - precision_8: 0.9316 - val_loss: 0.3913 - val_accuracy: 0.9140 - val_recall_8: 0.9130 - val_precision_8: 0.9157\n",
      "Epoch 197/500\n",
      "190/190 [==============================] - 1s 7ms/step - loss: 0.0295 - accuracy: 0.9329 - recall_8: 0.9315 - precision_8: 0.9341 - val_loss: 0.4048 - val_accuracy: 0.9185 - val_recall_8: 0.9175 - val_precision_8: 0.9193\n",
      "Epoch 198/500\n",
      "190/190 [==============================] - 1s 7ms/step - loss: 0.0294 - accuracy: 0.9319 - recall_8: 0.9308 - precision_8: 0.9342 - val_loss: 0.3665 - val_accuracy: 0.9185 - val_recall_8: 0.9175 - val_precision_8: 0.9198\n",
      "Epoch 199/500\n",
      "190/190 [==============================] - 1s 7ms/step - loss: 0.0292 - accuracy: 0.9314 - recall_8: 0.9303 - precision_8: 0.9331 - val_loss: 0.3752 - val_accuracy: 0.9175 - val_recall_8: 0.9150 - val_precision_8: 0.9187\n",
      "Epoch 200/500\n",
      "190/190 [==============================] - 1s 8ms/step - loss: 0.0296 - accuracy: 0.9325 - recall_8: 0.9312 - precision_8: 0.9338 - val_loss: 0.3892 - val_accuracy: 0.9160 - val_recall_8: 0.9140 - val_precision_8: 0.9168\n",
      "Epoch 201/500\n",
      "190/190 [==============================] - 1s 7ms/step - loss: 0.0285 - accuracy: 0.9330 - recall_8: 0.9319 - precision_8: 0.9345 - val_loss: 0.3858 - val_accuracy: 0.9145 - val_recall_8: 0.9125 - val_precision_8: 0.9157\n",
      "Epoch 202/500\n",
      "190/190 [==============================] - 1s 8ms/step - loss: 0.0292 - accuracy: 0.9317 - recall_8: 0.9305 - precision_8: 0.9332 - val_loss: 0.3737 - val_accuracy: 0.9190 - val_recall_8: 0.9155 - val_precision_8: 0.9215\n",
      "Epoch 203/500\n",
      "190/190 [==============================] - 1s 7ms/step - loss: 0.0290 - accuracy: 0.9334 - recall_8: 0.9323 - precision_8: 0.9346 - val_loss: 0.3468 - val_accuracy: 0.9145 - val_recall_8: 0.9135 - val_precision_8: 0.9162\n",
      "Epoch 204/500\n",
      "190/190 [==============================] - 1s 7ms/step - loss: 0.0290 - accuracy: 0.9337 - recall_8: 0.9327 - precision_8: 0.9349 - val_loss: 0.3720 - val_accuracy: 0.9225 - val_recall_8: 0.9195 - val_precision_8: 0.9232\n",
      "Epoch 205/500\n",
      "190/190 [==============================] - 1s 7ms/step - loss: 0.0291 - accuracy: 0.9340 - recall_8: 0.9328 - precision_8: 0.9355 - val_loss: 0.4083 - val_accuracy: 0.9140 - val_recall_8: 0.9115 - val_precision_8: 0.9156\n",
      "Epoch 206/500\n",
      "190/190 [==============================] - 1s 7ms/step - loss: 0.0296 - accuracy: 0.9320 - recall_8: 0.9309 - precision_8: 0.9340 - val_loss: 0.3388 - val_accuracy: 0.9195 - val_recall_8: 0.9165 - val_precision_8: 0.9202\n",
      "Epoch 207/500\n",
      "190/190 [==============================] - 1s 7ms/step - loss: 0.0288 - accuracy: 0.9336 - recall_8: 0.9323 - precision_8: 0.9350 - val_loss: 0.3693 - val_accuracy: 0.9180 - val_recall_8: 0.9175 - val_precision_8: 0.9193\n",
      "Epoch 208/500\n",
      "190/190 [==============================] - 1s 8ms/step - loss: 0.0288 - accuracy: 0.9324 - recall_8: 0.9318 - precision_8: 0.9340 - val_loss: 0.3787 - val_accuracy: 0.9175 - val_recall_8: 0.9175 - val_precision_8: 0.9184\n",
      "Epoch 209/500\n",
      "190/190 [==============================] - 1s 7ms/step - loss: 0.0295 - accuracy: 0.9318 - recall_8: 0.9306 - precision_8: 0.9332 - val_loss: 0.4186 - val_accuracy: 0.9175 - val_recall_8: 0.9160 - val_precision_8: 0.9183\n",
      "Epoch 210/500\n",
      "190/190 [==============================] - 1s 7ms/step - loss: 0.0287 - accuracy: 0.9344 - recall_8: 0.9333 - precision_8: 0.9361 - val_loss: 0.3948 - val_accuracy: 0.9200 - val_recall_8: 0.9200 - val_precision_8: 0.9228\n"
     ]
    },
    {
     "name": "stdout",
     "output_type": "stream",
     "text": [
      "Epoch 211/500\n",
      "190/190 [==============================] - 1s 7ms/step - loss: 0.0289 - accuracy: 0.9336 - recall_8: 0.9324 - precision_8: 0.9350 - val_loss: 0.4047 - val_accuracy: 0.9175 - val_recall_8: 0.9170 - val_precision_8: 0.9188\n",
      "Epoch 212/500\n",
      "190/190 [==============================] - 1s 8ms/step - loss: 0.0288 - accuracy: 0.9337 - recall_8: 0.9324 - precision_8: 0.9354 - val_loss: 0.3588 - val_accuracy: 0.9215 - val_recall_8: 0.9200 - val_precision_8: 0.9218\n",
      "Epoch 213/500\n",
      "190/190 [==============================] - 2s 8ms/step - loss: 0.0284 - accuracy: 0.9347 - recall_8: 0.9335 - precision_8: 0.9361 - val_loss: 0.3512 - val_accuracy: 0.9195 - val_recall_8: 0.9185 - val_precision_8: 0.9208\n",
      "Epoch 214/500\n",
      "190/190 [==============================] - 1s 8ms/step - loss: 0.0289 - accuracy: 0.9335 - recall_8: 0.9324 - precision_8: 0.9349 - val_loss: 0.3756 - val_accuracy: 0.9155 - val_recall_8: 0.9150 - val_precision_8: 0.9178\n",
      "Epoch 215/500\n",
      "190/190 [==============================] - 1s 8ms/step - loss: 0.0284 - accuracy: 0.9327 - recall_8: 0.9315 - precision_8: 0.9345 - val_loss: 0.3826 - val_accuracy: 0.9190 - val_recall_8: 0.9175 - val_precision_8: 0.9207\n",
      "Epoch 216/500\n",
      "190/190 [==============================] - 2s 8ms/step - loss: 0.0296 - accuracy: 0.9320 - recall_8: 0.9306 - precision_8: 0.9336 - val_loss: 0.3500 - val_accuracy: 0.9210 - val_recall_8: 0.9195 - val_precision_8: 0.9218\n",
      "Epoch 217/500\n",
      "190/190 [==============================] - 2s 8ms/step - loss: 0.0291 - accuracy: 0.9343 - recall_8: 0.9332 - precision_8: 0.9361 - val_loss: 0.3891 - val_accuracy: 0.9230 - val_recall_8: 0.9210 - val_precision_8: 0.9233\n",
      "Epoch 218/500\n",
      "190/190 [==============================] - 2s 8ms/step - loss: 0.0291 - accuracy: 0.9332 - recall_8: 0.9322 - precision_8: 0.9346 - val_loss: 0.3725 - val_accuracy: 0.9200 - val_recall_8: 0.9195 - val_precision_8: 0.9213\n",
      "Epoch 219/500\n",
      "190/190 [==============================] - 2s 8ms/step - loss: 0.0286 - accuracy: 0.9339 - recall_8: 0.9329 - precision_8: 0.9352 - val_loss: 0.3598 - val_accuracy: 0.9210 - val_recall_8: 0.9200 - val_precision_8: 0.9223\n",
      "Epoch 220/500\n",
      "190/190 [==============================] - 2s 8ms/step - loss: 0.0293 - accuracy: 0.9322 - recall_8: 0.9310 - precision_8: 0.9336 - val_loss: 0.3709 - val_accuracy: 0.9190 - val_recall_8: 0.9180 - val_precision_8: 0.9198\n",
      "Epoch 221/500\n",
      "190/190 [==============================] - 2s 8ms/step - loss: 0.0290 - accuracy: 0.9350 - recall_8: 0.9334 - precision_8: 0.9362 - val_loss: 0.3673 - val_accuracy: 0.9195 - val_recall_8: 0.9190 - val_precision_8: 0.9213\n",
      "Epoch 222/500\n",
      "190/190 [==============================] - 2s 8ms/step - loss: 0.0283 - accuracy: 0.9345 - recall_8: 0.9334 - precision_8: 0.9361 - val_loss: 0.3842 - val_accuracy: 0.9190 - val_recall_8: 0.9175 - val_precision_8: 0.9198\n",
      "Epoch 223/500\n",
      "190/190 [==============================] - 1s 7ms/step - loss: 0.0285 - accuracy: 0.9344 - recall_8: 0.9334 - precision_8: 0.9359 - val_loss: 0.3801 - val_accuracy: 0.9205 - val_recall_8: 0.9170 - val_precision_8: 0.9216\n",
      "Epoch 224/500\n",
      "190/190 [==============================] - 1s 8ms/step - loss: 0.0282 - accuracy: 0.9356 - recall_8: 0.9342 - precision_8: 0.9375 - val_loss: 0.4008 - val_accuracy: 0.9205 - val_recall_8: 0.9175 - val_precision_8: 0.9216\n",
      "Epoch 225/500\n",
      "190/190 [==============================] - 1s 7ms/step - loss: 0.0290 - accuracy: 0.9326 - recall_8: 0.9314 - precision_8: 0.9341 - val_loss: 0.3484 - val_accuracy: 0.9240 - val_recall_8: 0.9220 - val_precision_8: 0.9243\n",
      "Epoch 226/500\n",
      "190/190 [==============================] - 1s 7ms/step - loss: 0.0288 - accuracy: 0.9328 - recall_8: 0.9317 - precision_8: 0.9344 - val_loss: 0.3654 - val_accuracy: 0.9255 - val_recall_8: 0.9240 - val_precision_8: 0.9268\n",
      "Epoch 227/500\n",
      "190/190 [==============================] - 1s 7ms/step - loss: 0.0289 - accuracy: 0.9330 - recall_8: 0.9316 - precision_8: 0.9347 - val_loss: 0.3663 - val_accuracy: 0.9195 - val_recall_8: 0.9190 - val_precision_8: 0.9208\n",
      "Epoch 228/500\n",
      "190/190 [==============================] - 1s 8ms/step - loss: 0.0286 - accuracy: 0.9333 - recall_8: 0.9319 - precision_8: 0.9347 - val_loss: 0.3512 - val_accuracy: 0.9195 - val_recall_8: 0.9170 - val_precision_8: 0.9198\n",
      "Epoch 229/500\n",
      "190/190 [==============================] - 1s 8ms/step - loss: 0.0284 - accuracy: 0.9339 - recall_8: 0.9326 - precision_8: 0.9354 - val_loss: 0.3724 - val_accuracy: 0.9195 - val_recall_8: 0.9170 - val_precision_8: 0.9202\n",
      "Epoch 230/500\n",
      "190/190 [==============================] - 1s 8ms/step - loss: 0.0282 - accuracy: 0.9335 - recall_8: 0.9327 - precision_8: 0.9351 - val_loss: 0.3566 - val_accuracy: 0.9170 - val_recall_8: 0.9170 - val_precision_8: 0.9184\n",
      "Epoch 231/500\n",
      "190/190 [==============================] - 1s 8ms/step - loss: 0.0279 - accuracy: 0.9347 - recall_8: 0.9334 - precision_8: 0.9360 - val_loss: 0.3930 - val_accuracy: 0.9220 - val_recall_8: 0.9210 - val_precision_8: 0.9233\n",
      "Epoch 232/500\n",
      "190/190 [==============================] - 1s 7ms/step - loss: 0.0279 - accuracy: 0.9347 - recall_8: 0.9336 - precision_8: 0.9363 - val_loss: 0.3653 - val_accuracy: 0.9190 - val_recall_8: 0.9160 - val_precision_8: 0.9188\n",
      "Epoch 233/500\n",
      "190/190 [==============================] - 1s 8ms/step - loss: 0.0281 - accuracy: 0.9350 - recall_8: 0.9340 - precision_8: 0.9367 - val_loss: 0.3949 - val_accuracy: 0.9170 - val_recall_8: 0.9160 - val_precision_8: 0.9188\n",
      "Epoch 234/500\n",
      "190/190 [==============================] - 1s 7ms/step - loss: 0.0282 - accuracy: 0.9350 - recall_8: 0.9341 - precision_8: 0.9363 - val_loss: 0.3626 - val_accuracy: 0.9225 - val_recall_8: 0.9220 - val_precision_8: 0.9243\n",
      "Epoch 235/500\n",
      "190/190 [==============================] - 1s 7ms/step - loss: 0.0278 - accuracy: 0.9356 - recall_8: 0.9343 - precision_8: 0.9368 - val_loss: 0.3723 - val_accuracy: 0.9195 - val_recall_8: 0.9190 - val_precision_8: 0.9213\n",
      "Epoch 236/500\n",
      "190/190 [==============================] - 1s 7ms/step - loss: 0.0287 - accuracy: 0.9336 - recall_8: 0.9327 - precision_8: 0.9353 - val_loss: 0.3869 - val_accuracy: 0.9170 - val_recall_8: 0.9165 - val_precision_8: 0.9179\n",
      "Epoch 237/500\n",
      "190/190 [==============================] - 1s 7ms/step - loss: 0.0291 - accuracy: 0.9328 - recall_8: 0.9317 - precision_8: 0.9339 - val_loss: 0.3214 - val_accuracy: 0.9230 - val_recall_8: 0.9215 - val_precision_8: 0.9233\n",
      "Epoch 238/500\n",
      "190/190 [==============================] - 1s 7ms/step - loss: 0.0283 - accuracy: 0.9344 - recall_8: 0.9334 - precision_8: 0.9360 - val_loss: 0.3625 - val_accuracy: 0.9230 - val_recall_8: 0.9220 - val_precision_8: 0.9229\n",
      "Epoch 239/500\n",
      "190/190 [==============================] - 1s 7ms/step - loss: 0.0272 - accuracy: 0.9379 - recall_8: 0.9368 - precision_8: 0.9391 - val_loss: 0.3386 - val_accuracy: 0.9250 - val_recall_8: 0.9230 - val_precision_8: 0.9262\n",
      "Epoch 240/500\n",
      "190/190 [==============================] - 1s 7ms/step - loss: 0.0285 - accuracy: 0.9354 - recall_8: 0.9345 - precision_8: 0.9366 - val_loss: 0.3899 - val_accuracy: 0.9145 - val_recall_8: 0.9115 - val_precision_8: 0.9147\n",
      "Epoch 241/500\n",
      "190/190 [==============================] - 1s 8ms/step - loss: 0.0279 - accuracy: 0.9348 - recall_8: 0.9334 - precision_8: 0.9360 - val_loss: 0.4005 - val_accuracy: 0.9185 - val_recall_8: 0.9180 - val_precision_8: 0.9203\n",
      "Epoch 242/500\n",
      "190/190 [==============================] - 1s 7ms/step - loss: 0.0283 - accuracy: 0.9349 - recall_8: 0.9336 - precision_8: 0.9361 - val_loss: 0.3722 - val_accuracy: 0.9195 - val_recall_8: 0.9175 - val_precision_8: 0.9198\n",
      "Epoch 243/500\n",
      "190/190 [==============================] - 1s 7ms/step - loss: 0.0280 - accuracy: 0.9354 - recall_8: 0.9341 - precision_8: 0.9368 - val_loss: 0.3592 - val_accuracy: 0.9180 - val_recall_8: 0.9170 - val_precision_8: 0.9193\n",
      "Epoch 244/500\n",
      "190/190 [==============================] - 1s 7ms/step - loss: 0.0272 - accuracy: 0.9366 - recall_8: 0.9352 - precision_8: 0.9381 - val_loss: 0.3786 - val_accuracy: 0.9225 - val_recall_8: 0.9215 - val_precision_8: 0.9229\n",
      "Epoch 245/500\n",
      "190/190 [==============================] - 1s 7ms/step - loss: 0.0282 - accuracy: 0.9339 - recall_8: 0.9326 - precision_8: 0.9352 - val_loss: 0.3758 - val_accuracy: 0.9220 - val_recall_8: 0.9195 - val_precision_8: 0.9223\n"
     ]
    },
    {
     "name": "stdout",
     "output_type": "stream",
     "text": [
      "Epoch 246/500\n",
      "190/190 [==============================] - 1s 7ms/step - loss: 0.0277 - accuracy: 0.9360 - recall_8: 0.9351 - precision_8: 0.9376 - val_loss: 0.3547 - val_accuracy: 0.9210 - val_recall_8: 0.9190 - val_precision_8: 0.9222\n",
      "Epoch 247/500\n",
      "190/190 [==============================] - 1s 7ms/step - loss: 0.0274 - accuracy: 0.9365 - recall_8: 0.9353 - precision_8: 0.9377 - val_loss: 0.3338 - val_accuracy: 0.9170 - val_recall_8: 0.9155 - val_precision_8: 0.9187\n",
      "Epoch 248/500\n",
      "190/190 [==============================] - 2s 8ms/step - loss: 0.0278 - accuracy: 0.9357 - recall_8: 0.9350 - precision_8: 0.9369 - val_loss: 0.3934 - val_accuracy: 0.9170 - val_recall_8: 0.9155 - val_precision_8: 0.9183\n",
      "Epoch 249/500\n",
      "190/190 [==============================] - 1s 7ms/step - loss: 0.0282 - accuracy: 0.9350 - recall_8: 0.9340 - precision_8: 0.9364 - val_loss: 0.4481 - val_accuracy: 0.9170 - val_recall_8: 0.9165 - val_precision_8: 0.9183\n",
      "Epoch 250/500\n",
      "190/190 [==============================] - 2s 8ms/step - loss: 0.0275 - accuracy: 0.9359 - recall_8: 0.9348 - precision_8: 0.9372 - val_loss: 0.3558 - val_accuracy: 0.9200 - val_recall_8: 0.9195 - val_precision_8: 0.9227\n",
      "Epoch 251/500\n",
      "190/190 [==============================] - 1s 7ms/step - loss: 0.0275 - accuracy: 0.9359 - recall_8: 0.9348 - precision_8: 0.9370 - val_loss: 0.3914 - val_accuracy: 0.9220 - val_recall_8: 0.9205 - val_precision_8: 0.9233\n",
      "Epoch 252/500\n",
      "190/190 [==============================] - 1s 8ms/step - loss: 0.0284 - accuracy: 0.9343 - recall_8: 0.9333 - precision_8: 0.9356 - val_loss: 0.4459 - val_accuracy: 0.9205 - val_recall_8: 0.9190 - val_precision_8: 0.9213\n",
      "Epoch 253/500\n",
      "190/190 [==============================] - 1s 7ms/step - loss: 0.0285 - accuracy: 0.9351 - recall_8: 0.9344 - precision_8: 0.9365 - val_loss: 0.4186 - val_accuracy: 0.9135 - val_recall_8: 0.9125 - val_precision_8: 0.9143\n",
      "Epoch 254/500\n",
      "190/190 [==============================] - 2s 8ms/step - loss: 0.0277 - accuracy: 0.9339 - recall_8: 0.9330 - precision_8: 0.9355 - val_loss: 0.3985 - val_accuracy: 0.9200 - val_recall_8: 0.9195 - val_precision_8: 0.9209\n",
      "Epoch 255/500\n",
      "190/190 [==============================] - 1s 8ms/step - loss: 0.0284 - accuracy: 0.9348 - recall_8: 0.9339 - precision_8: 0.9364 - val_loss: 0.3915 - val_accuracy: 0.9200 - val_recall_8: 0.9175 - val_precision_8: 0.9216\n",
      "Epoch 256/500\n",
      "190/190 [==============================] - 2s 8ms/step - loss: 0.0274 - accuracy: 0.9363 - recall_8: 0.9351 - precision_8: 0.9378 - val_loss: 0.4041 - val_accuracy: 0.9220 - val_recall_8: 0.9205 - val_precision_8: 0.9233\n",
      "Epoch 257/500\n",
      "190/190 [==============================] - 1s 8ms/step - loss: 0.0275 - accuracy: 0.9363 - recall_8: 0.9357 - precision_8: 0.9377 - val_loss: 0.3656 - val_accuracy: 0.9190 - val_recall_8: 0.9180 - val_precision_8: 0.9203\n",
      "Epoch 258/500\n",
      "190/190 [==============================] - 2s 8ms/step - loss: 0.0283 - accuracy: 0.9338 - recall_8: 0.9325 - precision_8: 0.9349 - val_loss: 0.3718 - val_accuracy: 0.9205 - val_recall_8: 0.9190 - val_precision_8: 0.9222\n",
      "Epoch 259/500\n",
      "190/190 [==============================] - 1s 8ms/step - loss: 0.0277 - accuracy: 0.9354 - recall_8: 0.9346 - precision_8: 0.9369 - val_loss: 0.3774 - val_accuracy: 0.9220 - val_recall_8: 0.9205 - val_precision_8: 0.9228\n"
     ]
    }
   ],
   "source": [
    "callback = tf.keras.callbacks.EarlyStopping(monitor='loss', patience=20)\n",
    "history = model.fit(X_train,y_train,batch_size=200,epochs=500,\n",
    "                    validation_split=0.05,class_weight=weights,\n",
    "                    use_multiprocessing=True,workers=8,callbacks=[callback])"
   ]
  },
  {
   "cell_type": "code",
   "execution_count": 42,
   "id": "20a63c86",
   "metadata": {
    "ExecuteTime": {
     "end_time": "2021-12-26T12:42:21.194805Z",
     "start_time": "2021-12-26T12:42:20.518194Z"
    }
   },
   "outputs": [
    {
     "name": "stdout",
     "output_type": "stream",
     "text": [
      "              precision    recall  f1-score   support\n",
      "\n",
      "           0       0.91      0.99      0.95      6620\n",
      "           1       0.93      0.77      0.84      1463\n",
      "           2       0.91      0.81      0.86       474\n",
      "           3       0.98      0.83      0.90      1443\n",
      "\n",
      "    accuracy                           0.92     10000\n",
      "   macro avg       0.93      0.85      0.89     10000\n",
      "weighted avg       0.93      0.92      0.92     10000\n",
      "\n"
     ]
    }
   ],
   "source": [
    "from sklearn.metrics import classification_report\n",
    "y_pred = model.predict(X_test)\n",
    "print(classification_report(y_test.argmax(axis=1),y_pred.argmax(axis=1)))"
   ]
  },
  {
   "cell_type": "markdown",
   "id": "8f5ca191",
   "metadata": {},
   "source": [
    "## Charcter based tokinizer with LSTM"
   ]
  },
  {
   "cell_type": "code",
   "execution_count": 3,
   "id": "8c8e4881",
   "metadata": {
    "ExecuteTime": {
     "end_time": "2021-12-29T17:48:16.224837Z",
     "start_time": "2021-12-29T17:48:15.460455Z"
    }
   },
   "outputs": [],
   "source": [
    "df = pd.read_csv(\"Data/malicious_phish.csv\")"
   ]
  },
  {
   "cell_type": "code",
   "execution_count": 10,
   "id": "c06eb912",
   "metadata": {
    "ExecuteTime": {
     "end_time": "2021-12-29T17:52:12.681279Z",
     "start_time": "2021-12-29T17:52:12.621528Z"
    }
   },
   "outputs": [],
   "source": [
    "df[\"type\"] = pd.Categorical(df[\"type\"]).codes"
   ]
  },
  {
   "cell_type": "code",
   "execution_count": 44,
   "id": "56fc602c",
   "metadata": {
    "ExecuteTime": {
     "end_time": "2021-12-29T18:16:02.102114Z",
     "start_time": "2021-12-29T18:16:02.087785Z"
    }
   },
   "outputs": [],
   "source": [
    "X = df[\"url\"]\n",
    "y = df[\"type\"]"
   ]
  },
  {
   "cell_type": "code",
   "execution_count": 29,
   "id": "d069aa34",
   "metadata": {
    "ExecuteTime": {
     "end_time": "2021-12-29T18:05:51.781073Z",
     "start_time": "2021-12-29T18:05:48.114967Z"
    }
   },
   "outputs": [
    {
     "data": {
      "application/vnd.jupyter.widget-view+json": {
       "model_id": "012796b5f5154491ae672ebb6b73da9b",
       "version_major": 2,
       "version_minor": 0
      },
      "text/plain": [
       "Pandas Apply:   0%|          | 0/651191 [00:00<?, ?it/s]"
      ]
     },
     "metadata": {},
     "output_type": "display_data"
    },
    {
     "name": "stdout",
     "output_type": "stream",
     "text": [
      "count    651191.000000\n",
      "mean         60.156831\n",
      "std          44.753902\n",
      "min           1.000000\n",
      "25%          32.000000\n",
      "50%          47.000000\n",
      "75%          77.000000\n",
      "max        2175.000000\n",
      "Name: url, dtype: float64\n"
     ]
    },
    {
     "data": {
      "text/plain": [
       "<matplotlib.collections.PathCollection at 0x1cf223d10a0>"
      ]
     },
     "execution_count": 29,
     "metadata": {},
     "output_type": "execute_result"
    },
    {
     "data": {
      "image/png": "[encoded data removed]",
      "text/plain": [
       "<Figure size 432x288 with 1 Axes>"
      ]
     },
     "metadata": {
      "needs_background": "light"
     },
     "output_type": "display_data"
    }
   ],
   "source": [
    "lens = df[\"url\"].swifter.apply(len)\n",
    "print(lens.describe())\n",
    "plt.scatter(list(lens.index),lens.values)"
   ]
  },
  {
   "cell_type": "code",
   "execution_count": 43,
   "id": "82576d3f",
   "metadata": {
    "ExecuteTime": {
     "end_time": "2021-12-29T18:15:06.841503Z",
     "start_time": "2021-12-29T18:15:06.817924Z"
    }
   },
   "outputs": [
    {
     "data": {
      "text/plain": [
       "-1.0761875616299628e-05"
      ]
     },
     "execution_count": 43,
     "metadata": {},
     "output_type": "execute_result"
    }
   ],
   "source": [
    "# df[\"type\"][lens > 77].value_counts().plot(kind=\"bar\")\n",
    "df_type = df[\"type\"][lens > 77].reset_index()[\"type\"]\n",
    "bin_label = pd.Series(np.zeros(df_type.size))\n",
    "bin_label[df_type!=0] = 1\n",
    "bin_label.corr(lens)"
   ]
  },
  {
   "cell_type": "code",
   "execution_count": 47,
   "id": "9920650f",
   "metadata": {
    "ExecuteTime": {
     "end_time": "2021-12-29T18:18:09.256989Z",
     "start_time": "2021-12-29T18:18:09.183963Z"
    }
   },
   "outputs": [
    {
     "data": {
      "text/plain": [
       "((520952,), (130239,), (520952,), (130239,))"
      ]
     },
     "execution_count": 47,
     "metadata": {},
     "output_type": "execute_result"
    }
   ],
   "source": [
    "X_train,X_test,y_train,y_test = train_test_split(X.values,y.values,test_size=0.2,random_state=42)\n",
    "X_train.shape,X_test.shape,y_train.shape,y_test.shape"
   ]
  },
  {
   "cell_type": "code",
   "execution_count": 48,
   "id": "529379f7",
   "metadata": {
    "ExecuteTime": {
     "end_time": "2021-12-29T18:18:53.603768Z",
     "start_time": "2021-12-29T18:18:37.143561Z"
    }
   },
   "outputs": [],
   "source": [
    "from tensorflow.keras.preprocessing.text import Tokenizer\n",
    "from tensorflow.keras.preprocessing.sequence import pad_sequences\n",
    "toknizer = Tokenizer(char_level=True, oov_token='@',num_words=None)\n",
    "toknizer.fit_on_texts(X_train)\n",
    "seq = toknizer.texts_to_sequences(X_train)\n",
    "seq = pad_sequences(seq,maxlen=77,padding='post')"
   ]
  },
  {
   "cell_type": "code",
   "execution_count": 68,
   "id": "0ee960e5",
   "metadata": {
    "ExecuteTime": {
     "end_time": "2021-12-29T18:33:43.228506Z",
     "start_time": "2021-12-29T18:33:43.214310Z"
    }
   },
   "outputs": [
    {
     "data": {
      "text/plain": [
       "(520952, 77)"
      ]
     },
     "execution_count": 68,
     "metadata": {},
     "output_type": "execute_result"
    }
   ],
   "source": [
    "X_train = seq\n",
    "X_train.shape"
   ]
  },
  {
   "cell_type": "markdown",
   "id": "9ff87283",
   "metadata": {},
   "source": [
    "### Model"
   ]
  },
  {
   "cell_type": "code",
   "execution_count": 78,
   "id": "dbeb6af6",
   "metadata": {
    "ExecuteTime": {
     "end_time": "2021-12-29T18:39:42.249233Z",
     "start_time": "2021-12-29T18:39:42.115299Z"
    }
   },
   "outputs": [
    {
     "name": "stdout",
     "output_type": "stream",
     "text": [
      "Model: \"sequential_6\"\n",
      "_________________________________________________________________\n",
      "Layer (type)                 Output Shape              Param #   \n",
      "=================================================================\n",
      "lstm_6 (LSTM)                (None, 70)                20160     \n",
      "_________________________________________________________________\n",
      "dense_14 (Dense)             (None, 60)                4260      \n",
      "_________________________________________________________________\n",
      "dense_15 (Dense)             (None, 30)                1830      \n",
      "_________________________________________________________________\n",
      "dense_16 (Dense)             (None, 10)                310       \n",
      "_________________________________________________________________\n",
      "dense_17 (Dense)             (None, 4)                 44        \n",
      "=================================================================\n",
      "Total params: 26,604\n",
      "Trainable params: 26,604\n",
      "Non-trainable params: 0\n",
      "_________________________________________________________________\n"
     ]
    }
   ],
   "source": [
    "model = Sequential()\n",
    "model.add(LSTM(70,input_shape=(77,1),recurrent_dropout=0.2))\n",
    "model.add(Dense(60, activation=\"relu\"))\n",
    "model.add(Dense(30, activation=\"relu\"))\n",
    "model.add(Dense(10, activation=\"relu\"))\n",
    "model.add(Dense(4, activation=\"softmax\"))\n",
    "model.compile(loss=tf.keras.losses.CategoricalCrossentropy(from_logits=False), optimizer='adam',metrics=[\"accuracy\"])\n",
    "model.summary()"
   ]
  },
  {
   "cell_type": "code",
   "execution_count": 79,
   "id": "393ebe4f",
   "metadata": {
    "ExecuteTime": {
     "end_time": "2021-12-29T18:39:43.287102Z",
     "start_time": "2021-12-29T18:39:43.263036Z"
    }
   },
   "outputs": [
    {
     "data": {
      "text/plain": [
       "{0: 0.34258458731769936,\n",
       " 1: 0.8518760240850994,\n",
       " 3: 0.8554786537283224,\n",
       " 2: 0.9500607348688788}"
      ]
     },
     "execution_count": 79,
     "metadata": {},
     "output_type": "execute_result"
    }
   ],
   "source": [
    "weights = 1 - y.value_counts()/y.size\n",
    "weights = weights.to_dict()\n",
    "weights"
   ]
  },
  {
   "cell_type": "code",
   "execution_count": 76,
   "id": "991f17a8",
   "metadata": {
    "ExecuteTime": {
     "end_time": "2021-12-29T18:39:06.274939Z",
     "start_time": "2021-12-29T18:39:06.257903Z"
    }
   },
   "outputs": [],
   "source": [
    "y_train = tf.keras.utils.to_categorical(y_train, num_classes=4)\n",
    "X_train = np.expand_dims(X_train,axis=-1)"
   ]
  },
  {
   "cell_type": "code",
   "execution_count": 80,
   "id": "3643efd1",
   "metadata": {
    "ExecuteTime": {
     "end_time": "2021-12-31T03:55:42.525735Z",
     "start_time": "2021-12-29T18:39:48.115693Z"
    }
   },
   "outputs": [
    {
     "name": "stdout",
     "output_type": "stream",
     "text": [
      "Epoch 1/2000\n",
      "2475/2475 [==============================] - 253s 101ms/step - loss: 0.3801 - accuracy: 0.7420 - val_loss: 0.4769 - val_accuracy: 0.8240\n",
      "Epoch 2/2000\n",
      "2475/2475 [==============================] - 252s 102ms/step - loss: 0.2667 - accuracy: 0.8354 - val_loss: 0.4090 - val_accuracy: 0.8576\n",
      "Epoch 3/2000\n",
      "2475/2475 [==============================] - 252s 102ms/step - loss: 0.2307 - accuracy: 0.8668 - val_loss: 0.3341 - val_accuracy: 0.8847\n",
      "Epoch 4/2000\n",
      "2475/2475 [==============================] - 252s 102ms/step - loss: 0.2112 - accuracy: 0.8792 - val_loss: 0.3197 - val_accuracy: 0.8924\n",
      "Epoch 5/2000\n",
      "2475/2475 [==============================] - 256s 103ms/step - loss: 0.1981 - accuracy: 0.8862 - val_loss: 0.2890 - val_accuracy: 0.8978\n",
      "Epoch 6/2000\n",
      "2475/2475 [==============================] - 262s 106ms/step - loss: 0.1865 - accuracy: 0.8913 - val_loss: 0.2865 - val_accuracy: 0.9012\n",
      "Epoch 7/2000\n",
      "2475/2475 [==============================] - 271s 109ms/step - loss: 0.1783 - accuracy: 0.8958 - val_loss: 0.2692 - val_accuracy: 0.9041\n",
      "Epoch 8/2000\n",
      "2475/2475 [==============================] - 269s 109ms/step - loss: 0.1706 - accuracy: 0.8995 - val_loss: 0.2582 - val_accuracy: 0.9109\n",
      "Epoch 9/2000\n",
      "2475/2475 [==============================] - 260s 105ms/step - loss: 0.1635 - accuracy: 0.9032 - val_loss: 0.2494 - val_accuracy: 0.9163\n",
      "Epoch 10/2000\n",
      "2475/2475 [==============================] - 261s 106ms/step - loss: 0.1589 - accuracy: 0.9058 - val_loss: 0.2451 - val_accuracy: 0.9147\n",
      "Epoch 11/2000\n",
      "2475/2475 [==============================] - 268s 108ms/step - loss: 0.1543 - accuracy: 0.9087 - val_loss: 0.2409 - val_accuracy: 0.9167\n",
      "Epoch 12/2000\n",
      "2475/2475 [==============================] - 270s 109ms/step - loss: 0.1502 - accuracy: 0.9114 - val_loss: 0.2251 - val_accuracy: 0.9228\n",
      "Epoch 13/2000\n",
      "2475/2475 [==============================] - 269s 109ms/step - loss: 0.1468 - accuracy: 0.9134 - val_loss: 0.2391 - val_accuracy: 0.9165\n",
      "Epoch 14/2000\n",
      "2475/2475 [==============================] - 261s 105ms/step - loss: 0.1437 - accuracy: 0.9155 - val_loss: 0.2094 - val_accuracy: 0.9297\n",
      "Epoch 15/2000\n",
      "2475/2475 [==============================] - 261s 105ms/step - loss: 0.1402 - accuracy: 0.9178 - val_loss: 0.2048 - val_accuracy: 0.9310\n",
      "Epoch 16/2000\n",
      "2475/2475 [==============================] - 262s 106ms/step - loss: 0.1380 - accuracy: 0.9194 - val_loss: 0.2001 - val_accuracy: 0.9321\n",
      "Epoch 17/2000\n",
      "2475/2475 [==============================] - 264s 107ms/step - loss: 0.1362 - accuracy: 0.9204 - val_loss: 0.2106 - val_accuracy: 0.9269\n",
      "Epoch 18/2000\n",
      "2475/2475 [==============================] - 265s 107ms/step - loss: 0.1340 - accuracy: 0.9213 - val_loss: 0.2253 - val_accuracy: 0.9211\n",
      "Epoch 19/2000\n",
      "2475/2475 [==============================] - 266s 107ms/step - loss: 0.1319 - accuracy: 0.9231 - val_loss: 0.1952 - val_accuracy: 0.9360\n",
      "Epoch 20/2000\n",
      "2475/2475 [==============================] - 267s 108ms/step - loss: 0.1308 - accuracy: 0.9239 - val_loss: 0.1852 - val_accuracy: 0.9376\n",
      "Epoch 21/2000\n",
      "2475/2475 [==============================] - 265s 107ms/step - loss: 0.1291 - accuracy: 0.9248 - val_loss: 0.1870 - val_accuracy: 0.9371\n",
      "Epoch 22/2000\n",
      "2475/2475 [==============================] - 264s 107ms/step - loss: 0.1275 - accuracy: 0.9258 - val_loss: 0.1990 - val_accuracy: 0.9334\n",
      "Epoch 23/2000\n",
      "2475/2475 [==============================] - 263s 106ms/step - loss: 0.1263 - accuracy: 0.9263 - val_loss: 0.1964 - val_accuracy: 0.9317\n",
      "Epoch 24/2000\n",
      "2475/2475 [==============================] - 263s 106ms/step - loss: 0.1248 - accuracy: 0.9268 - val_loss: 0.1826 - val_accuracy: 0.9396\n",
      "Epoch 25/2000\n",
      "2475/2475 [==============================] - 265s 107ms/step - loss: 0.1241 - accuracy: 0.9277 - val_loss: 0.1821 - val_accuracy: 0.9380\n",
      "Epoch 26/2000\n",
      "2475/2475 [==============================] - 264s 107ms/step - loss: 0.1228 - accuracy: 0.9283 - val_loss: 0.1770 - val_accuracy: 0.9416\n",
      "Epoch 27/2000\n",
      "2475/2475 [==============================] - 263s 106ms/step - loss: 0.1212 - accuracy: 0.9289 - val_loss: 0.1800 - val_accuracy: 0.9393\n",
      "Epoch 28/2000\n",
      "2475/2475 [==============================] - 264s 107ms/step - loss: 0.1205 - accuracy: 0.9297 - val_loss: 0.1839 - val_accuracy: 0.9378\n",
      "Epoch 29/2000\n",
      "2475/2475 [==============================] - 265s 107ms/step - loss: 0.1193 - accuracy: 0.9303 - val_loss: 0.1750 - val_accuracy: 0.9404\n",
      "Epoch 30/2000\n",
      "2475/2475 [==============================] - 265s 107ms/step - loss: 0.1184 - accuracy: 0.9309 - val_loss: 0.1776 - val_accuracy: 0.9405\n",
      "Epoch 31/2000\n",
      "2475/2475 [==============================] - 264s 107ms/step - loss: 0.1173 - accuracy: 0.9316 - val_loss: 0.1927 - val_accuracy: 0.9343\n",
      "Epoch 32/2000\n",
      "2475/2475 [==============================] - 266s 108ms/step - loss: 0.1165 - accuracy: 0.9320 - val_loss: 0.1796 - val_accuracy: 0.9390\n",
      "Epoch 33/2000\n",
      "2475/2475 [==============================] - 266s 108ms/step - loss: 0.1157 - accuracy: 0.9322 - val_loss: 0.1784 - val_accuracy: 0.9390\n",
      "Epoch 34/2000\n",
      "2475/2475 [==============================] - 266s 107ms/step - loss: 0.1149 - accuracy: 0.9325 - val_loss: 0.1911 - val_accuracy: 0.9359\n",
      "Epoch 35/2000\n",
      "2475/2475 [==============================] - 266s 107ms/step - loss: 0.1147 - accuracy: 0.9333 - val_loss: 0.1736 - val_accuracy: 0.9400\n",
      "Epoch 36/2000\n",
      "2475/2475 [==============================] - 262s 106ms/step - loss: 0.1129 - accuracy: 0.9343 - val_loss: 0.1666 - val_accuracy: 0.9439\n",
      "Epoch 37/2000\n",
      "2475/2475 [==============================] - 255s 103ms/step - loss: 0.1129 - accuracy: 0.9340 - val_loss: 0.1759 - val_accuracy: 0.9413\n",
      "Epoch 38/2000\n",
      "2475/2475 [==============================] - 255s 103ms/step - loss: 0.1118 - accuracy: 0.9348 - val_loss: 0.1652 - val_accuracy: 0.9450\n",
      "Epoch 39/2000\n",
      "2475/2475 [==============================] - 254s 103ms/step - loss: 0.1109 - accuracy: 0.9355 - val_loss: 0.1571 - val_accuracy: 0.9467\n",
      "Epoch 40/2000\n",
      "2475/2475 [==============================] - 255s 103ms/step - loss: 0.1109 - accuracy: 0.9357 - val_loss: 0.1645 - val_accuracy: 0.9433\n",
      "Epoch 41/2000\n",
      "2475/2475 [==============================] - 255s 103ms/step - loss: 0.1097 - accuracy: 0.9357 - val_loss: 0.1694 - val_accuracy: 0.9435\n",
      "Epoch 42/2000\n",
      "2475/2475 [==============================] - 269s 109ms/step - loss: 0.1092 - accuracy: 0.9363 - val_loss: 0.1742 - val_accuracy: 0.9410\n",
      "Epoch 43/2000\n",
      "2475/2475 [==============================] - 263s 106ms/step - loss: 0.1088 - accuracy: 0.9367 - val_loss: 0.1668 - val_accuracy: 0.9426\n",
      "Epoch 44/2000\n",
      "2475/2475 [==============================] - 264s 107ms/step - loss: 0.1081 - accuracy: 0.9368 - val_loss: 0.1601 - val_accuracy: 0.9465\n",
      "Epoch 45/2000\n",
      "2475/2475 [==============================] - 261s 106ms/step - loss: 0.1076 - accuracy: 0.9369 - val_loss: 0.1742 - val_accuracy: 0.9394\n",
      "Epoch 46/2000\n",
      "2475/2475 [==============================] - 259s 105ms/step - loss: 0.1070 - accuracy: 0.9377 - val_loss: 0.1561 - val_accuracy: 0.9473\n",
      "Epoch 47/2000\n",
      "2475/2475 [==============================] - 259s 105ms/step - loss: 0.1066 - accuracy: 0.9377 - val_loss: 0.1715 - val_accuracy: 0.9420\n",
      "Epoch 48/2000\n",
      "2475/2475 [==============================] - 261s 105ms/step - loss: 0.1060 - accuracy: 0.9383 - val_loss: 0.1579 - val_accuracy: 0.9448\n",
      "Epoch 49/2000\n",
      "2475/2475 [==============================] - 260s 105ms/step - loss: 0.1053 - accuracy: 0.9389 - val_loss: 0.1592 - val_accuracy: 0.9465\n",
      "Epoch 50/2000\n",
      "2475/2475 [==============================] - 262s 106ms/step - loss: 0.1049 - accuracy: 0.9390 - val_loss: 0.1708 - val_accuracy: 0.9410\n",
      "Epoch 51/2000\n",
      "2475/2475 [==============================] - 262s 106ms/step - loss: 0.1041 - accuracy: 0.9390 - val_loss: 0.1501 - val_accuracy: 0.9498\n",
      "Epoch 52/2000\n",
      "2475/2475 [==============================] - 262s 106ms/step - loss: 0.1034 - accuracy: 0.9396 - val_loss: 0.1637 - val_accuracy: 0.9438\n",
      "Epoch 53/2000\n",
      "2475/2475 [==============================] - 260s 105ms/step - loss: 0.1035 - accuracy: 0.9396 - val_loss: 0.1563 - val_accuracy: 0.9481\n",
      "Epoch 54/2000\n",
      "2475/2475 [==============================] - 260s 105ms/step - loss: 0.1025 - accuracy: 0.9403 - val_loss: 0.1532 - val_accuracy: 0.9478\n",
      "Epoch 55/2000\n",
      "2475/2475 [==============================] - 263s 106ms/step - loss: 0.1024 - accuracy: 0.9405 - val_loss: 0.1534 - val_accuracy: 0.9482\n",
      "Epoch 56/2000\n",
      "2475/2475 [==============================] - 262s 106ms/step - loss: 0.1020 - accuracy: 0.9406 - val_loss: 0.1653 - val_accuracy: 0.9449\n",
      "Epoch 57/2000\n",
      "2475/2475 [==============================] - 262s 106ms/step - loss: 0.1014 - accuracy: 0.9408 - val_loss: 0.1589 - val_accuracy: 0.9475\n",
      "Epoch 58/2000\n",
      "2475/2475 [==============================] - 263s 106ms/step - loss: 0.1012 - accuracy: 0.9412 - val_loss: 0.1589 - val_accuracy: 0.9473\n",
      "Epoch 59/2000\n",
      "2475/2475 [==============================] - 264s 107ms/step - loss: 0.1006 - accuracy: 0.9413 - val_loss: 0.1535 - val_accuracy: 0.9471\n",
      "Epoch 60/2000\n",
      "2475/2475 [==============================] - 263s 106ms/step - loss: 0.1003 - accuracy: 0.9418 - val_loss: 0.1486 - val_accuracy: 0.9503\n",
      "Epoch 61/2000\n",
      "2475/2475 [==============================] - 263s 106ms/step - loss: 0.0998 - accuracy: 0.9420 - val_loss: 0.1549 - val_accuracy: 0.9471\n",
      "Epoch 62/2000\n",
      "2475/2475 [==============================] - 265s 107ms/step - loss: 0.0992 - accuracy: 0.9419 - val_loss: 0.1568 - val_accuracy: 0.9479\n",
      "Epoch 63/2000\n",
      "2475/2475 [==============================] - 264s 107ms/step - loss: 0.0991 - accuracy: 0.9417 - val_loss: 0.1482 - val_accuracy: 0.9512\n",
      "Epoch 64/2000\n",
      "2475/2475 [==============================] - 263s 106ms/step - loss: 0.0989 - accuracy: 0.9424 - val_loss: 0.1509 - val_accuracy: 0.9489\n",
      "Epoch 65/2000\n",
      "2475/2475 [==============================] - 265s 107ms/step - loss: 0.0984 - accuracy: 0.9426 - val_loss: 0.1552 - val_accuracy: 0.9471\n",
      "Epoch 66/2000\n",
      "2475/2475 [==============================] - 263s 106ms/step - loss: 0.0981 - accuracy: 0.9431 - val_loss: 0.1538 - val_accuracy: 0.9474\n",
      "Epoch 67/2000\n",
      "2475/2475 [==============================] - 252s 102ms/step - loss: 0.0977 - accuracy: 0.9431 - val_loss: 0.1441 - val_accuracy: 0.9507\n",
      "Epoch 68/2000\n",
      "2475/2475 [==============================] - 252s 102ms/step - loss: 0.0974 - accuracy: 0.9430 - val_loss: 0.1495 - val_accuracy: 0.9497\n",
      "Epoch 69/2000\n",
      "2475/2475 [==============================] - 252s 102ms/step - loss: 0.0972 - accuracy: 0.9436 - val_loss: 0.1455 - val_accuracy: 0.9521\n",
      "Epoch 70/2000\n",
      "2475/2475 [==============================] - 252s 102ms/step - loss: 0.0963 - accuracy: 0.9440 - val_loss: 0.1536 - val_accuracy: 0.9475\n",
      "Epoch 71/2000\n",
      "2475/2475 [==============================] - 252s 102ms/step - loss: 0.0962 - accuracy: 0.9441 - val_loss: 0.1439 - val_accuracy: 0.9528\n",
      "Epoch 72/2000\n",
      "2475/2475 [==============================] - 252s 102ms/step - loss: 0.0962 - accuracy: 0.9442 - val_loss: 0.1558 - val_accuracy: 0.9485\n",
      "Epoch 73/2000\n",
      "2475/2475 [==============================] - 252s 102ms/step - loss: 0.0959 - accuracy: 0.9443 - val_loss: 0.1420 - val_accuracy: 0.9527\n",
      "Epoch 74/2000\n",
      "2475/2475 [==============================] - 252s 102ms/step - loss: 0.0955 - accuracy: 0.9447 - val_loss: 0.1441 - val_accuracy: 0.9530\n",
      "Epoch 75/2000\n",
      "2475/2475 [==============================] - 253s 102ms/step - loss: 0.0952 - accuracy: 0.9445 - val_loss: 0.1417 - val_accuracy: 0.9535\n",
      "Epoch 76/2000\n",
      "2475/2475 [==============================] - 252s 102ms/step - loss: 0.0950 - accuracy: 0.9446 - val_loss: 0.1373 - val_accuracy: 0.9544\n",
      "Epoch 77/2000\n",
      "2475/2475 [==============================] - 251s 102ms/step - loss: 0.0949 - accuracy: 0.9445 - val_loss: 0.1434 - val_accuracy: 0.9519\n",
      "Epoch 78/2000\n",
      "2475/2475 [==============================] - 251s 102ms/step - loss: 0.0939 - accuracy: 0.9456 - val_loss: 0.1538 - val_accuracy: 0.9497\n",
      "Epoch 79/2000\n",
      "2475/2475 [==============================] - 249s 101ms/step - loss: 0.0939 - accuracy: 0.9454 - val_loss: 0.1583 - val_accuracy: 0.9464\n",
      "Epoch 80/2000\n",
      "2475/2475 [==============================] - 249s 100ms/step - loss: 0.0937 - accuracy: 0.9454 - val_loss: 0.1471 - val_accuracy: 0.9516\n",
      "Epoch 81/2000\n",
      "2475/2475 [==============================] - 249s 100ms/step - loss: 0.0940 - accuracy: 0.9451 - val_loss: 0.1426 - val_accuracy: 0.9528\n",
      "Epoch 82/2000\n",
      "2475/2475 [==============================] - 248s 100ms/step - loss: 0.0929 - accuracy: 0.9458 - val_loss: 0.1440 - val_accuracy: 0.9519\n",
      "Epoch 83/2000\n",
      "2475/2475 [==============================] - 249s 101ms/step - loss: 0.0930 - accuracy: 0.9459 - val_loss: 0.1458 - val_accuracy: 0.9513\n",
      "Epoch 84/2000\n",
      "2475/2475 [==============================] - 249s 101ms/step - loss: 0.0929 - accuracy: 0.9461 - val_loss: 0.1515 - val_accuracy: 0.9496\n",
      "Epoch 85/2000\n",
      "2475/2475 [==============================] - 248s 100ms/step - loss: 0.0925 - accuracy: 0.9464 - val_loss: 0.1624 - val_accuracy: 0.9453\n",
      "Epoch 86/2000\n",
      "2475/2475 [==============================] - 249s 101ms/step - loss: 0.0921 - accuracy: 0.9467 - val_loss: 0.1388 - val_accuracy: 0.9542\n",
      "Epoch 87/2000\n",
      "2475/2475 [==============================] - 249s 101ms/step - loss: 0.0922 - accuracy: 0.9466 - val_loss: 0.1372 - val_accuracy: 0.9550\n",
      "Epoch 88/2000\n",
      "2475/2475 [==============================] - 249s 100ms/step - loss: 0.0916 - accuracy: 0.9462 - val_loss: 0.1524 - val_accuracy: 0.9487\n",
      "Epoch 89/2000\n",
      "2475/2475 [==============================] - 248s 100ms/step - loss: 0.0913 - accuracy: 0.9471 - val_loss: 0.1490 - val_accuracy: 0.9512\n",
      "Epoch 90/2000\n",
      "2475/2475 [==============================] - 248s 100ms/step - loss: 0.0912 - accuracy: 0.9471 - val_loss: 0.1424 - val_accuracy: 0.9530\n",
      "Epoch 91/2000\n",
      "2475/2475 [==============================] - 249s 100ms/step - loss: 0.0908 - accuracy: 0.9473 - val_loss: 0.1452 - val_accuracy: 0.9531\n",
      "Epoch 92/2000\n",
      "2475/2475 [==============================] - 249s 100ms/step - loss: 0.0908 - accuracy: 0.9473 - val_loss: 0.1388 - val_accuracy: 0.9544\n",
      "Epoch 93/2000\n",
      "2475/2475 [==============================] - 248s 100ms/step - loss: 0.0906 - accuracy: 0.9473 - val_loss: 0.1367 - val_accuracy: 0.9550\n",
      "Epoch 94/2000\n",
      "2475/2475 [==============================] - 248s 100ms/step - loss: 0.0902 - accuracy: 0.9470 - val_loss: 0.1358 - val_accuracy: 0.9557\n",
      "Epoch 95/2000\n",
      "2475/2475 [==============================] - 249s 101ms/step - loss: 0.0904 - accuracy: 0.9475 - val_loss: 0.1340 - val_accuracy: 0.9558\n",
      "Epoch 96/2000\n",
      "2475/2475 [==============================] - 249s 101ms/step - loss: 0.0899 - accuracy: 0.9481 - val_loss: 0.1498 - val_accuracy: 0.9500\n",
      "Epoch 97/2000\n",
      "2475/2475 [==============================] - 249s 101ms/step - loss: 0.0898 - accuracy: 0.9480 - val_loss: 0.1511 - val_accuracy: 0.9491\n",
      "Epoch 98/2000\n",
      "2475/2475 [==============================] - 249s 101ms/step - loss: 0.0892 - accuracy: 0.9486 - val_loss: 0.1379 - val_accuracy: 0.9539\n",
      "Epoch 99/2000\n",
      "2475/2475 [==============================] - 250s 101ms/step - loss: 0.0893 - accuracy: 0.9482 - val_loss: 0.1393 - val_accuracy: 0.9540\n",
      "Epoch 100/2000\n",
      "2475/2475 [==============================] - 249s 100ms/step - loss: 0.0891 - accuracy: 0.9486 - val_loss: 0.1321 - val_accuracy: 0.9570\n",
      "Epoch 101/2000\n",
      "2475/2475 [==============================] - 249s 101ms/step - loss: 0.0892 - accuracy: 0.9481 - val_loss: 0.1292 - val_accuracy: 0.9570\n",
      "Epoch 102/2000\n",
      "2475/2475 [==============================] - 250s 101ms/step - loss: 0.0886 - accuracy: 0.9485 - val_loss: 0.1412 - val_accuracy: 0.9516\n",
      "Epoch 103/2000\n",
      "2475/2475 [==============================] - 249s 101ms/step - loss: 0.0885 - accuracy: 0.9488 - val_loss: 0.1354 - val_accuracy: 0.9545\n",
      "Epoch 104/2000\n",
      "2475/2475 [==============================] - 250s 101ms/step - loss: 0.0884 - accuracy: 0.9487 - val_loss: 0.1344 - val_accuracy: 0.9541\n",
      "Epoch 105/2000\n",
      "2475/2475 [==============================] - 252s 102ms/step - loss: 0.0886 - accuracy: 0.9488 - val_loss: 0.1440 - val_accuracy: 0.9527\n",
      "Epoch 106/2000\n",
      "2475/2475 [==============================] - 249s 101ms/step - loss: 0.0879 - accuracy: 0.9487 - val_loss: 0.1338 - val_accuracy: 0.9547\n",
      "Epoch 107/2000\n",
      "2475/2475 [==============================] - 250s 101ms/step - loss: 0.0883 - accuracy: 0.9487 - val_loss: 0.1322 - val_accuracy: 0.9569\n",
      "Epoch 108/2000\n",
      "2475/2475 [==============================] - 250s 101ms/step - loss: 0.0876 - accuracy: 0.9492 - val_loss: 0.1337 - val_accuracy: 0.9557\n",
      "Epoch 109/2000\n"
     ]
    },
    {
     "name": "stdout",
     "output_type": "stream",
     "text": [
      "2475/2475 [==============================] - 250s 101ms/step - loss: 0.0874 - accuracy: 0.9493 - val_loss: 0.1350 - val_accuracy: 0.9563\n",
      "Epoch 110/2000\n",
      "2475/2475 [==============================] - 250s 101ms/step - loss: 0.0874 - accuracy: 0.9496 - val_loss: 0.1323 - val_accuracy: 0.9570\n",
      "Epoch 111/2000\n",
      "2475/2475 [==============================] - 250s 101ms/step - loss: 0.0873 - accuracy: 0.9495 - val_loss: 0.1355 - val_accuracy: 0.9546\n",
      "Epoch 112/2000\n",
      "2475/2475 [==============================] - 251s 101ms/step - loss: 0.0867 - accuracy: 0.9498 - val_loss: 0.1315 - val_accuracy: 0.9557\n",
      "Epoch 113/2000\n",
      "2475/2475 [==============================] - 251s 101ms/step - loss: 0.0866 - accuracy: 0.9498 - val_loss: 0.1405 - val_accuracy: 0.9539\n",
      "Epoch 114/2000\n",
      "2475/2475 [==============================] - 250s 101ms/step - loss: 0.0867 - accuracy: 0.9496 - val_loss: 0.1267 - val_accuracy: 0.9595\n",
      "Epoch 115/2000\n",
      "2475/2475 [==============================] - 251s 101ms/step - loss: 0.0866 - accuracy: 0.9498 - val_loss: 0.1363 - val_accuracy: 0.9555\n",
      "Epoch 116/2000\n",
      "2475/2475 [==============================] - 251s 101ms/step - loss: 0.0859 - accuracy: 0.9505 - val_loss: 0.1252 - val_accuracy: 0.9581\n",
      "Epoch 117/2000\n",
      "2475/2475 [==============================] - 251s 101ms/step - loss: 0.0864 - accuracy: 0.9503 - val_loss: 0.1318 - val_accuracy: 0.9564\n",
      "Epoch 118/2000\n",
      "2475/2475 [==============================] - 250s 101ms/step - loss: 0.0860 - accuracy: 0.9504 - val_loss: 0.1410 - val_accuracy: 0.9532\n",
      "Epoch 119/2000\n",
      "2475/2475 [==============================] - 251s 101ms/step - loss: 0.0856 - accuracy: 0.9506 - val_loss: 0.1395 - val_accuracy: 0.9541\n",
      "Epoch 120/2000\n",
      "2475/2475 [==============================] - 251s 102ms/step - loss: 0.0855 - accuracy: 0.9505 - val_loss: 0.1344 - val_accuracy: 0.9559\n",
      "Epoch 121/2000\n",
      "2475/2475 [==============================] - 252s 102ms/step - loss: 0.0853 - accuracy: 0.9505 - val_loss: 0.1288 - val_accuracy: 0.9575\n",
      "Epoch 122/2000\n",
      "2475/2475 [==============================] - 250s 101ms/step - loss: 0.0852 - accuracy: 0.9507 - val_loss: 0.1347 - val_accuracy: 0.9565\n",
      "Epoch 123/2000\n",
      "2475/2475 [==============================] - 250s 101ms/step - loss: 0.0858 - accuracy: 0.9503 - val_loss: 0.1341 - val_accuracy: 0.9559\n",
      "Epoch 124/2000\n",
      "2475/2475 [==============================] - 251s 101ms/step - loss: 0.0846 - accuracy: 0.9509 - val_loss: 0.1444 - val_accuracy: 0.9526\n",
      "Epoch 125/2000\n",
      "2475/2475 [==============================] - 251s 101ms/step - loss: 0.0853 - accuracy: 0.9505 - val_loss: 0.1255 - val_accuracy: 0.9597\n",
      "Epoch 126/2000\n",
      "2475/2475 [==============================] - 251s 101ms/step - loss: 0.0849 - accuracy: 0.9506 - val_loss: 0.1301 - val_accuracy: 0.9571\n",
      "Epoch 127/2000\n",
      "2475/2475 [==============================] - 252s 102ms/step - loss: 0.0844 - accuracy: 0.9510 - val_loss: 0.1353 - val_accuracy: 0.9545\n",
      "Epoch 128/2000\n",
      "2475/2475 [==============================] - 253s 102ms/step - loss: 0.0846 - accuracy: 0.9509 - val_loss: 0.1281 - val_accuracy: 0.9582\n",
      "Epoch 129/2000\n",
      "2475/2475 [==============================] - 251s 102ms/step - loss: 0.0844 - accuracy: 0.9511 - val_loss: 0.1334 - val_accuracy: 0.9562\n",
      "Epoch 130/2000\n",
      "2475/2475 [==============================] - 252s 102ms/step - loss: 0.0841 - accuracy: 0.9513 - val_loss: 0.1285 - val_accuracy: 0.9578\n",
      "Epoch 131/2000\n",
      "2475/2475 [==============================] - 253s 102ms/step - loss: 0.0840 - accuracy: 0.9516 - val_loss: 0.1291 - val_accuracy: 0.9573\n",
      "Epoch 132/2000\n",
      "2475/2475 [==============================] - 252s 102ms/step - loss: 0.0838 - accuracy: 0.9517 - val_loss: 0.1287 - val_accuracy: 0.9571\n",
      "Epoch 133/2000\n",
      "2475/2475 [==============================] - 253s 102ms/step - loss: 0.0837 - accuracy: 0.9516 - val_loss: 0.1370 - val_accuracy: 0.9560\n",
      "Epoch 134/2000\n",
      "2475/2475 [==============================] - 252s 102ms/step - loss: 0.0836 - accuracy: 0.9516 - val_loss: 0.1257 - val_accuracy: 0.9595\n",
      "Epoch 135/2000\n",
      "2475/2475 [==============================] - 253s 102ms/step - loss: 0.0837 - accuracy: 0.9518 - val_loss: 0.1305 - val_accuracy: 0.9578\n",
      "Epoch 136/2000\n",
      "2475/2475 [==============================] - 252s 102ms/step - loss: 0.0832 - accuracy: 0.9519 - val_loss: 0.1287 - val_accuracy: 0.9585\n",
      "Epoch 137/2000\n",
      "2475/2475 [==============================] - 252s 102ms/step - loss: 0.0832 - accuracy: 0.9519 - val_loss: 0.1272 - val_accuracy: 0.9574\n",
      "Epoch 138/2000\n",
      "2475/2475 [==============================] - 252s 102ms/step - loss: 0.0831 - accuracy: 0.9520 - val_loss: 0.1252 - val_accuracy: 0.9585\n",
      "Epoch 139/2000\n",
      "2475/2475 [==============================] - 252s 102ms/step - loss: 0.0833 - accuracy: 0.9521 - val_loss: 0.1305 - val_accuracy: 0.9573\n",
      "Epoch 140/2000\n",
      "2475/2475 [==============================] - 253s 102ms/step - loss: 0.0826 - accuracy: 0.9521 - val_loss: 0.1204 - val_accuracy: 0.9604\n",
      "Epoch 141/2000\n",
      "2475/2475 [==============================] - 252s 102ms/step - loss: 0.0825 - accuracy: 0.9525 - val_loss: 0.1233 - val_accuracy: 0.9595\n",
      "Epoch 142/2000\n",
      "2475/2475 [==============================] - 253s 102ms/step - loss: 0.0829 - accuracy: 0.9522 - val_loss: 0.1336 - val_accuracy: 0.9572\n",
      "Epoch 143/2000\n",
      "2475/2475 [==============================] - 252s 102ms/step - loss: 0.0823 - accuracy: 0.9526 - val_loss: 0.1260 - val_accuracy: 0.9602\n",
      "Epoch 144/2000\n",
      "2475/2475 [==============================] - 252s 102ms/step - loss: 0.0824 - accuracy: 0.9525 - val_loss: 0.1232 - val_accuracy: 0.9591\n",
      "Epoch 145/2000\n",
      "2475/2475 [==============================] - 252s 102ms/step - loss: 0.0826 - accuracy: 0.9523 - val_loss: 0.1212 - val_accuracy: 0.9606\n",
      "Epoch 146/2000\n",
      "2475/2475 [==============================] - 252s 102ms/step - loss: 0.0824 - accuracy: 0.9525 - val_loss: 0.1306 - val_accuracy: 0.9577\n",
      "Epoch 147/2000\n",
      "2475/2475 [==============================] - 252s 102ms/step - loss: 0.0815 - accuracy: 0.9531 - val_loss: 0.1282 - val_accuracy: 0.9582\n",
      "Epoch 148/2000\n",
      "2475/2475 [==============================] - 253s 102ms/step - loss: 0.0821 - accuracy: 0.9523 - val_loss: 0.1281 - val_accuracy: 0.9585\n",
      "Epoch 149/2000\n",
      "2475/2475 [==============================] - 252s 102ms/step - loss: 0.0817 - accuracy: 0.9526 - val_loss: 0.1192 - val_accuracy: 0.9610\n",
      "Epoch 150/2000\n",
      "2475/2475 [==============================] - 252s 102ms/step - loss: 0.0820 - accuracy: 0.9527 - val_loss: 0.1286 - val_accuracy: 0.9587\n",
      "Epoch 151/2000\n",
      "2475/2475 [==============================] - 251s 102ms/step - loss: 0.0818 - accuracy: 0.9526 - val_loss: 0.1246 - val_accuracy: 0.9598\n",
      "Epoch 152/2000\n",
      "2475/2475 [==============================] - 253s 102ms/step - loss: 0.0813 - accuracy: 0.9532 - val_loss: 0.1365 - val_accuracy: 0.9550\n",
      "Epoch 153/2000\n",
      "2475/2475 [==============================] - 255s 103ms/step - loss: 0.0816 - accuracy: 0.9529 - val_loss: 0.1259 - val_accuracy: 0.9592\n",
      "Epoch 154/2000\n",
      "2475/2475 [==============================] - 261s 105ms/step - loss: 0.0813 - accuracy: 0.9530 - val_loss: 0.1178 - val_accuracy: 0.9622\n",
      "Epoch 155/2000\n",
      "2475/2475 [==============================] - 254s 102ms/step - loss: 0.0820 - accuracy: 0.9527 - val_loss: 0.1200 - val_accuracy: 0.9606\n",
      "Epoch 156/2000\n",
      "2475/2475 [==============================] - 255s 103ms/step - loss: 0.0806 - accuracy: 0.9532 - val_loss: 0.1296 - val_accuracy: 0.9577\n",
      "Epoch 157/2000\n",
      "2475/2475 [==============================] - 253s 102ms/step - loss: 0.0808 - accuracy: 0.9532 - val_loss: 0.1222 - val_accuracy: 0.9602\n",
      "Epoch 158/2000\n",
      "2475/2475 [==============================] - 253s 102ms/step - loss: 0.0810 - accuracy: 0.9531 - val_loss: 0.1252 - val_accuracy: 0.9596\n",
      "Epoch 159/2000\n",
      "2475/2475 [==============================] - 252s 102ms/step - loss: 0.0807 - accuracy: 0.9535 - val_loss: 0.1284 - val_accuracy: 0.9586\n",
      "Epoch 160/2000\n",
      "2475/2475 [==============================] - 252s 102ms/step - loss: 0.0806 - accuracy: 0.9535 - val_loss: 0.1225 - val_accuracy: 0.9605\n",
      "Epoch 161/2000\n",
      "2475/2475 [==============================] - 254s 102ms/step - loss: 0.0805 - accuracy: 0.9532 - val_loss: 0.1258 - val_accuracy: 0.9589\n",
      "Epoch 162/2000\n",
      "2475/2475 [==============================] - 254s 103ms/step - loss: 0.0806 - accuracy: 0.9534 - val_loss: 0.1189 - val_accuracy: 0.9621\n"
     ]
    },
    {
     "name": "stdout",
     "output_type": "stream",
     "text": [
      "Epoch 163/2000\n",
      "2475/2475 [==============================] - 253s 102ms/step - loss: 0.0810 - accuracy: 0.9531 - val_loss: 0.1265 - val_accuracy: 0.9598\n",
      "Epoch 164/2000\n",
      "2475/2475 [==============================] - 253s 102ms/step - loss: 0.0806 - accuracy: 0.9536 - val_loss: 0.1206 - val_accuracy: 0.9611\n",
      "Epoch 165/2000\n",
      "2475/2475 [==============================] - 254s 102ms/step - loss: 0.0806 - accuracy: 0.9534 - val_loss: 0.1191 - val_accuracy: 0.9617\n",
      "Epoch 166/2000\n",
      "2475/2475 [==============================] - 253s 102ms/step - loss: 0.0801 - accuracy: 0.9536 - val_loss: 0.1183 - val_accuracy: 0.9615\n",
      "Epoch 167/2000\n",
      "2475/2475 [==============================] - 253s 102ms/step - loss: 0.0801 - accuracy: 0.9536 - val_loss: 0.1296 - val_accuracy: 0.9586\n",
      "Epoch 168/2000\n",
      "2475/2475 [==============================] - 253s 102ms/step - loss: 0.0803 - accuracy: 0.9537 - val_loss: 0.1309 - val_accuracy: 0.9573\n",
      "Epoch 169/2000\n",
      "2475/2475 [==============================] - 252s 102ms/step - loss: 0.0796 - accuracy: 0.9541 - val_loss: 0.1212 - val_accuracy: 0.9614\n",
      "Epoch 170/2000\n",
      "2475/2475 [==============================] - 253s 102ms/step - loss: 0.0800 - accuracy: 0.9539 - val_loss: 0.1238 - val_accuracy: 0.9600\n",
      "Epoch 171/2000\n",
      "2475/2475 [==============================] - 252s 102ms/step - loss: 0.0794 - accuracy: 0.9541 - val_loss: 0.1257 - val_accuracy: 0.9587\n",
      "Epoch 172/2000\n",
      "2475/2475 [==============================] - 253s 102ms/step - loss: 0.0799 - accuracy: 0.9536 - val_loss: 0.1268 - val_accuracy: 0.9590\n",
      "Epoch 173/2000\n",
      "2475/2475 [==============================] - 253s 102ms/step - loss: 0.0794 - accuracy: 0.9541 - val_loss: 0.1261 - val_accuracy: 0.9591\n",
      "Epoch 174/2000\n",
      "2475/2475 [==============================] - 253s 102ms/step - loss: 0.0794 - accuracy: 0.9537 - val_loss: 0.1208 - val_accuracy: 0.9603\n",
      "Epoch 175/2000\n",
      "2475/2475 [==============================] - 253s 102ms/step - loss: 0.0794 - accuracy: 0.9538 - val_loss: 0.1238 - val_accuracy: 0.9591\n",
      "Epoch 176/2000\n",
      "2475/2475 [==============================] - 252s 102ms/step - loss: 0.0794 - accuracy: 0.9539 - val_loss: 0.1235 - val_accuracy: 0.9602\n",
      "Epoch 177/2000\n",
      "2475/2475 [==============================] - 252s 102ms/step - loss: 0.0794 - accuracy: 0.9539 - val_loss: 0.1184 - val_accuracy: 0.9622\n",
      "Epoch 178/2000\n",
      "2475/2475 [==============================] - 253s 102ms/step - loss: 0.0791 - accuracy: 0.9541 - val_loss: 0.1186 - val_accuracy: 0.9611\n",
      "Epoch 179/2000\n",
      "2475/2475 [==============================] - 253s 102ms/step - loss: 0.0789 - accuracy: 0.9540 - val_loss: 0.1222 - val_accuracy: 0.9606\n",
      "Epoch 180/2000\n",
      "2475/2475 [==============================] - 253s 102ms/step - loss: 0.0788 - accuracy: 0.9545 - val_loss: 0.1173 - val_accuracy: 0.9620\n",
      "Epoch 181/2000\n",
      "2475/2475 [==============================] - 254s 103ms/step - loss: 0.0786 - accuracy: 0.9542 - val_loss: 0.1307 - val_accuracy: 0.9589\n",
      "Epoch 182/2000\n",
      "2475/2475 [==============================] - 251s 102ms/step - loss: 0.0786 - accuracy: 0.9543 - val_loss: 0.1221 - val_accuracy: 0.9613\n",
      "Epoch 183/2000\n",
      "2475/2475 [==============================] - 250s 101ms/step - loss: 0.0785 - accuracy: 0.9545 - val_loss: 0.1209 - val_accuracy: 0.9612\n",
      "Epoch 184/2000\n",
      "2475/2475 [==============================] - 250s 101ms/step - loss: 0.0787 - accuracy: 0.9543 - val_loss: 0.1185 - val_accuracy: 0.9622\n",
      "Epoch 185/2000\n",
      "2475/2475 [==============================] - 251s 101ms/step - loss: 0.0784 - accuracy: 0.9547 - val_loss: 0.1283 - val_accuracy: 0.9588\n",
      "Epoch 186/2000\n",
      "2475/2475 [==============================] - 251s 101ms/step - loss: 0.0787 - accuracy: 0.9547 - val_loss: 0.1175 - val_accuracy: 0.9623\n",
      "Epoch 187/2000\n",
      "2475/2475 [==============================] - 251s 101ms/step - loss: 0.0784 - accuracy: 0.9546 - val_loss: 0.1244 - val_accuracy: 0.9602\n",
      "Epoch 188/2000\n",
      "2475/2475 [==============================] - 251s 102ms/step - loss: 0.0786 - accuracy: 0.9547 - val_loss: 0.1203 - val_accuracy: 0.9611\n",
      "Epoch 189/2000\n",
      "2475/2475 [==============================] - 251s 101ms/step - loss: 0.0781 - accuracy: 0.9549 - val_loss: 0.1208 - val_accuracy: 0.9610\n",
      "Epoch 190/2000\n",
      "2475/2475 [==============================] - 251s 101ms/step - loss: 0.0784 - accuracy: 0.9545 - val_loss: 0.1201 - val_accuracy: 0.9617\n",
      "Epoch 191/2000\n",
      "2475/2475 [==============================] - 251s 101ms/step - loss: 0.0776 - accuracy: 0.9551 - val_loss: 0.1163 - val_accuracy: 0.9635\n",
      "Epoch 192/2000\n",
      "2475/2475 [==============================] - 251s 101ms/step - loss: 0.0778 - accuracy: 0.9549 - val_loss: 0.1203 - val_accuracy: 0.9616\n",
      "Epoch 193/2000\n",
      "2475/2475 [==============================] - 250s 101ms/step - loss: 0.0780 - accuracy: 0.9549 - val_loss: 0.1186 - val_accuracy: 0.9632\n",
      "Epoch 194/2000\n",
      "2475/2475 [==============================] - 251s 101ms/step - loss: 0.0778 - accuracy: 0.9550 - val_loss: 0.1216 - val_accuracy: 0.9608\n",
      "Epoch 195/2000\n",
      "2475/2475 [==============================] - 253s 102ms/step - loss: 0.0781 - accuracy: 0.9548 - val_loss: 0.1218 - val_accuracy: 0.9599\n",
      "Epoch 196/2000\n",
      "2475/2475 [==============================] - 254s 103ms/step - loss: 0.0775 - accuracy: 0.9550 - val_loss: 0.1172 - val_accuracy: 0.9633\n",
      "Epoch 197/2000\n",
      "2475/2475 [==============================] - 254s 103ms/step - loss: 0.0776 - accuracy: 0.9551 - val_loss: 0.1276 - val_accuracy: 0.9601\n",
      "Epoch 198/2000\n",
      "2475/2475 [==============================] - 254s 103ms/step - loss: 0.0776 - accuracy: 0.9552 - val_loss: 0.1203 - val_accuracy: 0.9615\n",
      "Epoch 199/2000\n",
      "2475/2475 [==============================] - 254s 103ms/step - loss: 0.0777 - accuracy: 0.9550 - val_loss: 0.1196 - val_accuracy: 0.9625\n",
      "Epoch 200/2000\n",
      "2475/2475 [==============================] - 254s 103ms/step - loss: 0.0776 - accuracy: 0.9550 - val_loss: 0.1190 - val_accuracy: 0.9623\n",
      "Epoch 201/2000\n",
      "2475/2475 [==============================] - 254s 103ms/step - loss: 0.0777 - accuracy: 0.9550 - val_loss: 0.1236 - val_accuracy: 0.9596\n",
      "Epoch 202/2000\n",
      "2475/2475 [==============================] - 254s 103ms/step - loss: 0.0773 - accuracy: 0.9551 - val_loss: 0.1173 - val_accuracy: 0.9622\n",
      "Epoch 203/2000\n",
      "2475/2475 [==============================] - 254s 103ms/step - loss: 0.0775 - accuracy: 0.9548 - val_loss: 0.1144 - val_accuracy: 0.9628\n",
      "Epoch 204/2000\n",
      "2475/2475 [==============================] - 254s 103ms/step - loss: 0.0773 - accuracy: 0.9552 - val_loss: 0.1228 - val_accuracy: 0.9605\n",
      "Epoch 205/2000\n",
      "2475/2475 [==============================] - 255s 103ms/step - loss: 0.0773 - accuracy: 0.9552 - val_loss: 0.1182 - val_accuracy: 0.9627\n",
      "Epoch 206/2000\n",
      "2475/2475 [==============================] - 256s 103ms/step - loss: 0.0769 - accuracy: 0.9558 - val_loss: 0.1271 - val_accuracy: 0.9582\n",
      "Epoch 207/2000\n",
      "2475/2475 [==============================] - 262s 106ms/step - loss: 0.0769 - accuracy: 0.9553 - val_loss: 0.1148 - val_accuracy: 0.9636\n",
      "Epoch 208/2000\n",
      "2475/2475 [==============================] - 256s 103ms/step - loss: 0.0772 - accuracy: 0.9555 - val_loss: 0.1230 - val_accuracy: 0.9605\n",
      "Epoch 209/2000\n",
      "2475/2475 [==============================] - 254s 103ms/step - loss: 0.0769 - accuracy: 0.9555 - val_loss: 0.1118 - val_accuracy: 0.9642\n",
      "Epoch 210/2000\n",
      "2475/2475 [==============================] - 251s 102ms/step - loss: 0.0770 - accuracy: 0.9555 - val_loss: 0.1180 - val_accuracy: 0.9617\n",
      "Epoch 211/2000\n",
      "2475/2475 [==============================] - 251s 101ms/step - loss: 0.0762 - accuracy: 0.9558 - val_loss: 0.1228 - val_accuracy: 0.9606\n",
      "Epoch 212/2000\n",
      "2475/2475 [==============================] - 251s 101ms/step - loss: 0.0764 - accuracy: 0.9556 - val_loss: 0.1139 - val_accuracy: 0.9633\n",
      "Epoch 213/2000\n",
      "2475/2475 [==============================] - 252s 102ms/step - loss: 0.0768 - accuracy: 0.9556 - val_loss: 0.1185 - val_accuracy: 0.9621\n",
      "Epoch 214/2000\n",
      "2475/2475 [==============================] - 251s 102ms/step - loss: 0.0766 - accuracy: 0.9553 - val_loss: 0.1255 - val_accuracy: 0.9602\n",
      "Epoch 215/2000\n",
      "2475/2475 [==============================] - 251s 102ms/step - loss: 0.0765 - accuracy: 0.9561 - val_loss: 0.1126 - val_accuracy: 0.9637\n",
      "Epoch 216/2000\n",
      "2475/2475 [==============================] - 251s 101ms/step - loss: 0.0763 - accuracy: 0.9558 - val_loss: 0.1187 - val_accuracy: 0.9621\n",
      "Epoch 217/2000\n",
      "2475/2475 [==============================] - 251s 101ms/step - loss: 0.0762 - accuracy: 0.9555 - val_loss: 0.1125 - val_accuracy: 0.9638\n",
      "Epoch 218/2000\n",
      "2475/2475 [==============================] - 251s 101ms/step - loss: 0.0762 - accuracy: 0.9557 - val_loss: 0.1209 - val_accuracy: 0.9603\n",
      "Epoch 219/2000\n",
      "2475/2475 [==============================] - 251s 102ms/step - loss: 0.0766 - accuracy: 0.9554 - val_loss: 0.1185 - val_accuracy: 0.9625\n",
      "Epoch 220/2000\n",
      "2475/2475 [==============================] - 251s 101ms/step - loss: 0.0759 - accuracy: 0.9560 - val_loss: 0.1104 - val_accuracy: 0.9643\n",
      "Epoch 221/2000\n",
      "2475/2475 [==============================] - 251s 102ms/step - loss: 0.0761 - accuracy: 0.9558 - val_loss: 0.1143 - val_accuracy: 0.9633\n",
      "Epoch 222/2000\n",
      "2475/2475 [==============================] - 251s 102ms/step - loss: 0.0758 - accuracy: 0.9561 - val_loss: 0.1122 - val_accuracy: 0.9640\n",
      "Epoch 223/2000\n",
      "2475/2475 [==============================] - 251s 101ms/step - loss: 0.0758 - accuracy: 0.9563 - val_loss: 0.1125 - val_accuracy: 0.9639\n",
      "Epoch 224/2000\n",
      "2475/2475 [==============================] - 252s 102ms/step - loss: 0.0759 - accuracy: 0.9562 - val_loss: 0.1134 - val_accuracy: 0.9632\n",
      "Epoch 225/2000\n",
      "2475/2475 [==============================] - 252s 102ms/step - loss: 0.0759 - accuracy: 0.9562 - val_loss: 0.1176 - val_accuracy: 0.9627\n",
      "Epoch 226/2000\n",
      "2475/2475 [==============================] - 251s 102ms/step - loss: 0.0758 - accuracy: 0.9561 - val_loss: 0.1119 - val_accuracy: 0.9643\n",
      "Epoch 227/2000\n",
      "2475/2475 [==============================] - 252s 102ms/step - loss: 0.0754 - accuracy: 0.9563 - val_loss: 0.1218 - val_accuracy: 0.9615\n",
      "Epoch 228/2000\n",
      "2475/2475 [==============================] - 252s 102ms/step - loss: 0.0757 - accuracy: 0.9563 - val_loss: 0.1259 - val_accuracy: 0.9592\n",
      "Epoch 229/2000\n",
      "2475/2475 [==============================] - 252s 102ms/step - loss: 0.0756 - accuracy: 0.9563 - val_loss: 0.1210 - val_accuracy: 0.9602\n",
      "Epoch 230/2000\n",
      "2475/2475 [==============================] - 252s 102ms/step - loss: 0.0756 - accuracy: 0.9562 - val_loss: 0.1201 - val_accuracy: 0.9612\n",
      "Epoch 231/2000\n",
      "2475/2475 [==============================] - 252s 102ms/step - loss: 0.0753 - accuracy: 0.9563 - val_loss: 0.1271 - val_accuracy: 0.9579\n",
      "Epoch 232/2000\n",
      "2475/2475 [==============================] - 252s 102ms/step - loss: 0.0755 - accuracy: 0.9562 - val_loss: 0.1139 - val_accuracy: 0.9633\n",
      "Epoch 233/2000\n",
      "2475/2475 [==============================] - 252s 102ms/step - loss: 0.0750 - accuracy: 0.9564 - val_loss: 0.1148 - val_accuracy: 0.9636\n",
      "Epoch 234/2000\n",
      "2475/2475 [==============================] - 252s 102ms/step - loss: 0.0749 - accuracy: 0.9568 - val_loss: 0.1180 - val_accuracy: 0.9616\n",
      "Epoch 235/2000\n",
      "2475/2475 [==============================] - 252s 102ms/step - loss: 0.0750 - accuracy: 0.9566 - val_loss: 0.1236 - val_accuracy: 0.9604\n",
      "Epoch 236/2000\n",
      "2475/2475 [==============================] - 252s 102ms/step - loss: 0.0753 - accuracy: 0.9564 - val_loss: 0.1200 - val_accuracy: 0.9607\n",
      "Epoch 237/2000\n",
      "2475/2475 [==============================] - 252s 102ms/step - loss: 0.0756 - accuracy: 0.9559 - val_loss: 0.1237 - val_accuracy: 0.9600\n",
      "Epoch 238/2000\n",
      "2475/2475 [==============================] - 252s 102ms/step - loss: 0.0747 - accuracy: 0.9568 - val_loss: 0.1205 - val_accuracy: 0.9608\n",
      "Epoch 239/2000\n",
      "2475/2475 [==============================] - 252s 102ms/step - loss: 0.0749 - accuracy: 0.9563 - val_loss: 0.1191 - val_accuracy: 0.9614\n",
      "Epoch 240/2000\n",
      "2475/2475 [==============================] - 252s 102ms/step - loss: 0.0749 - accuracy: 0.9567 - val_loss: 0.1158 - val_accuracy: 0.9634\n",
      "Epoch 241/2000\n",
      "2475/2475 [==============================] - 252s 102ms/step - loss: 0.0747 - accuracy: 0.9566 - val_loss: 0.1189 - val_accuracy: 0.9611\n",
      "Epoch 242/2000\n",
      "2475/2475 [==============================] - 252s 102ms/step - loss: 0.0746 - accuracy: 0.9566 - val_loss: 0.1239 - val_accuracy: 0.9593\n",
      "Epoch 243/2000\n",
      "2475/2475 [==============================] - 252s 102ms/step - loss: 0.0748 - accuracy: 0.9563 - val_loss: 0.1201 - val_accuracy: 0.9612\n",
      "Epoch 244/2000\n",
      "2475/2475 [==============================] - 252s 102ms/step - loss: 0.0747 - accuracy: 0.9565 - val_loss: 0.1094 - val_accuracy: 0.9647\n",
      "Epoch 245/2000\n",
      "2475/2475 [==============================] - 252s 102ms/step - loss: 0.0749 - accuracy: 0.9566 - val_loss: 0.1154 - val_accuracy: 0.9619\n",
      "Epoch 246/2000\n",
      "2475/2475 [==============================] - 252s 102ms/step - loss: 0.0745 - accuracy: 0.9566 - val_loss: 0.1177 - val_accuracy: 0.9628\n",
      "Epoch 247/2000\n",
      "2475/2475 [==============================] - 252s 102ms/step - loss: 0.0747 - accuracy: 0.9568 - val_loss: 0.1185 - val_accuracy: 0.9619\n",
      "Epoch 248/2000\n",
      "2475/2475 [==============================] - 252s 102ms/step - loss: 0.0744 - accuracy: 0.9570 - val_loss: 0.1201 - val_accuracy: 0.9620\n",
      "Epoch 249/2000\n",
      "2475/2475 [==============================] - 252s 102ms/step - loss: 0.0742 - accuracy: 0.9568 - val_loss: 0.1170 - val_accuracy: 0.9620\n",
      "Epoch 250/2000\n",
      "2475/2475 [==============================] - 252s 102ms/step - loss: 0.0743 - accuracy: 0.9564 - val_loss: 0.1103 - val_accuracy: 0.9651\n",
      "Epoch 251/2000\n",
      "2475/2475 [==============================] - 254s 102ms/step - loss: 0.0743 - accuracy: 0.9567 - val_loss: 0.1311 - val_accuracy: 0.9573\n",
      "Epoch 252/2000\n",
      "2475/2475 [==============================] - 255s 103ms/step - loss: 0.0743 - accuracy: 0.9568 - val_loss: 0.1199 - val_accuracy: 0.9606\n",
      "Epoch 253/2000\n",
      "2475/2475 [==============================] - 255s 103ms/step - loss: 0.0741 - accuracy: 0.9568 - val_loss: 0.1143 - val_accuracy: 0.9633\n",
      "Epoch 254/2000\n",
      "2475/2475 [==============================] - 255s 103ms/step - loss: 0.0740 - accuracy: 0.9573 - val_loss: 0.1144 - val_accuracy: 0.9636\n",
      "Epoch 255/2000\n",
      "2475/2475 [==============================] - 255s 103ms/step - loss: 0.0741 - accuracy: 0.9571 - val_loss: 0.1102 - val_accuracy: 0.9645\n",
      "Epoch 256/2000\n",
      "2475/2475 [==============================] - 256s 103ms/step - loss: 0.0747 - accuracy: 0.9566 - val_loss: 0.1170 - val_accuracy: 0.9624\n",
      "Epoch 257/2000\n",
      "2475/2475 [==============================] - 256s 103ms/step - loss: 0.0740 - accuracy: 0.9571 - val_loss: 0.1134 - val_accuracy: 0.9631\n",
      "Epoch 258/2000\n",
      "2475/2475 [==============================] - 255s 103ms/step - loss: 0.0741 - accuracy: 0.9568 - val_loss: 0.1163 - val_accuracy: 0.9621\n",
      "Epoch 259/2000\n",
      "2475/2475 [==============================] - 255s 103ms/step - loss: 0.0740 - accuracy: 0.9570 - val_loss: 0.1144 - val_accuracy: 0.9628\n",
      "Epoch 260/2000\n",
      "2475/2475 [==============================] - 255s 103ms/step - loss: 0.0739 - accuracy: 0.9572 - val_loss: 0.1195 - val_accuracy: 0.9609\n",
      "Epoch 261/2000\n",
      "2475/2475 [==============================] - 255s 103ms/step - loss: 0.0738 - accuracy: 0.9572 - val_loss: 0.1144 - val_accuracy: 0.9622\n",
      "Epoch 262/2000\n",
      "2475/2475 [==============================] - 255s 103ms/step - loss: 0.0739 - accuracy: 0.9568 - val_loss: 0.1126 - val_accuracy: 0.9635\n",
      "Epoch 263/2000\n",
      "2475/2475 [==============================] - 255s 103ms/step - loss: 0.0738 - accuracy: 0.9571 - val_loss: 0.1160 - val_accuracy: 0.9625\n",
      "Epoch 264/2000\n",
      "2475/2475 [==============================] - 255s 103ms/step - loss: 0.0742 - accuracy: 0.9571 - val_loss: 0.1176 - val_accuracy: 0.9624\n",
      "Epoch 265/2000\n",
      "2475/2475 [==============================] - 255s 103ms/step - loss: 0.0750 - accuracy: 0.9564 - val_loss: 0.1144 - val_accuracy: 0.9628\n",
      "Epoch 266/2000\n",
      "2475/2475 [==============================] - 255s 103ms/step - loss: 0.0739 - accuracy: 0.9574 - val_loss: 0.1203 - val_accuracy: 0.9616\n",
      "Epoch 267/2000\n",
      "2475/2475 [==============================] - 255s 103ms/step - loss: 0.0731 - accuracy: 0.9572 - val_loss: 0.1150 - val_accuracy: 0.9624\n",
      "Epoch 268/2000\n",
      "2475/2475 [==============================] - 255s 103ms/step - loss: 0.0736 - accuracy: 0.9574 - val_loss: 0.1143 - val_accuracy: 0.9634\n",
      "Epoch 269/2000\n",
      "2475/2475 [==============================] - 256s 103ms/step - loss: 0.0733 - accuracy: 0.9575 - val_loss: 0.1194 - val_accuracy: 0.9610\n"
     ]
    },
    {
     "name": "stdout",
     "output_type": "stream",
     "text": [
      "Epoch 270/2000\n",
      "2475/2475 [==============================] - 255s 103ms/step - loss: 0.0735 - accuracy: 0.9575 - val_loss: 0.1155 - val_accuracy: 0.9622\n",
      "Epoch 271/2000\n",
      "2475/2475 [==============================] - 254s 103ms/step - loss: 0.0730 - accuracy: 0.9576 - val_loss: 0.1259 - val_accuracy: 0.9591\n",
      "Epoch 272/2000\n",
      "2475/2475 [==============================] - 254s 103ms/step - loss: 0.0737 - accuracy: 0.9571 - val_loss: 0.1163 - val_accuracy: 0.9628\n",
      "Epoch 273/2000\n",
      "2475/2475 [==============================] - 254s 103ms/step - loss: 0.0734 - accuracy: 0.9573 - val_loss: 0.1135 - val_accuracy: 0.9634\n",
      "Epoch 274/2000\n",
      "2475/2475 [==============================] - 254s 103ms/step - loss: 0.0732 - accuracy: 0.9577 - val_loss: 0.1200 - val_accuracy: 0.9621\n",
      "Epoch 275/2000\n",
      "2475/2475 [==============================] - 254s 103ms/step - loss: 0.0732 - accuracy: 0.9572 - val_loss: 0.1113 - val_accuracy: 0.9630\n",
      "Epoch 276/2000\n",
      "2475/2475 [==============================] - 254s 103ms/step - loss: 0.0729 - accuracy: 0.9574 - val_loss: 0.1159 - val_accuracy: 0.9621\n",
      "Epoch 277/2000\n",
      "2475/2475 [==============================] - 254s 103ms/step - loss: 0.0731 - accuracy: 0.9575 - val_loss: 0.1256 - val_accuracy: 0.9599\n",
      "Epoch 278/2000\n",
      "2475/2475 [==============================] - 254s 103ms/step - loss: 0.0729 - accuracy: 0.9575 - val_loss: 0.1154 - val_accuracy: 0.9625\n",
      "Epoch 279/2000\n",
      "2475/2475 [==============================] - 255s 103ms/step - loss: 0.0730 - accuracy: 0.9576 - val_loss: 0.1275 - val_accuracy: 0.9596\n",
      "Epoch 280/2000\n",
      "2475/2475 [==============================] - 254s 103ms/step - loss: 0.0732 - accuracy: 0.9574 - val_loss: 0.1149 - val_accuracy: 0.9626\n",
      "Epoch 281/2000\n",
      "2475/2475 [==============================] - 255s 103ms/step - loss: 0.0731 - accuracy: 0.9572 - val_loss: 0.1170 - val_accuracy: 0.9627\n",
      "Epoch 282/2000\n",
      "2475/2475 [==============================] - 255s 103ms/step - loss: 0.0733 - accuracy: 0.9572 - val_loss: 0.1130 - val_accuracy: 0.9634\n",
      "Epoch 283/2000\n",
      "2475/2475 [==============================] - 255s 103ms/step - loss: 0.0731 - accuracy: 0.9576 - val_loss: 0.1156 - val_accuracy: 0.9619\n",
      "Epoch 284/2000\n",
      "2475/2475 [==============================] - 256s 103ms/step - loss: 0.0724 - accuracy: 0.9577 - val_loss: 0.1181 - val_accuracy: 0.9621\n",
      "Epoch 285/2000\n",
      "2475/2475 [==============================] - 255s 103ms/step - loss: 0.0727 - accuracy: 0.9576 - val_loss: 0.1108 - val_accuracy: 0.9635\n",
      "Epoch 286/2000\n",
      "2475/2475 [==============================] - 255s 103ms/step - loss: 0.0728 - accuracy: 0.9576 - val_loss: 0.1266 - val_accuracy: 0.9598\n",
      "Epoch 287/2000\n",
      "2475/2475 [==============================] - 255s 103ms/step - loss: 0.0732 - accuracy: 0.9573 - val_loss: 0.1140 - val_accuracy: 0.9628\n",
      "Epoch 288/2000\n",
      "2475/2475 [==============================] - 255s 103ms/step - loss: 0.0724 - accuracy: 0.9581 - val_loss: 0.1066 - val_accuracy: 0.9656\n",
      "Epoch 289/2000\n",
      "2475/2475 [==============================] - 255s 103ms/step - loss: 0.0731 - accuracy: 0.9576 - val_loss: 0.1173 - val_accuracy: 0.9620\n",
      "Epoch 290/2000\n",
      "2475/2475 [==============================] - 255s 103ms/step - loss: 0.0725 - accuracy: 0.9579 - val_loss: 0.1101 - val_accuracy: 0.9637\n",
      "Epoch 291/2000\n",
      "2475/2475 [==============================] - 256s 103ms/step - loss: 0.0727 - accuracy: 0.9579 - val_loss: 0.1126 - val_accuracy: 0.9639\n",
      "Epoch 292/2000\n",
      "2475/2475 [==============================] - 255s 103ms/step - loss: 0.0726 - accuracy: 0.9579 - val_loss: 0.1145 - val_accuracy: 0.9629\n",
      "Epoch 293/2000\n",
      "2475/2475 [==============================] - 255s 103ms/step - loss: 0.0727 - accuracy: 0.9576 - val_loss: 0.1225 - val_accuracy: 0.9594\n",
      "Epoch 294/2000\n",
      "2475/2475 [==============================] - 255s 103ms/step - loss: 0.0726 - accuracy: 0.9579 - val_loss: 0.1202 - val_accuracy: 0.9611\n",
      "Epoch 295/2000\n",
      "2475/2475 [==============================] - 255s 103ms/step - loss: 0.0725 - accuracy: 0.9579 - val_loss: 0.1165 - val_accuracy: 0.9621\n",
      "Epoch 296/2000\n",
      "2475/2475 [==============================] - 255s 103ms/step - loss: 0.0727 - accuracy: 0.9577 - val_loss: 0.1145 - val_accuracy: 0.9628\n",
      "Epoch 297/2000\n",
      "2475/2475 [==============================] - 255s 103ms/step - loss: 0.0724 - accuracy: 0.9580 - val_loss: 0.1161 - val_accuracy: 0.9623\n",
      "Epoch 298/2000\n",
      "2475/2475 [==============================] - 255s 103ms/step - loss: 0.0721 - accuracy: 0.9581 - val_loss: 0.1135 - val_accuracy: 0.9642\n",
      "Epoch 299/2000\n",
      "2475/2475 [==============================] - 256s 103ms/step - loss: 0.0723 - accuracy: 0.9577 - val_loss: 0.1083 - val_accuracy: 0.9650\n",
      "Epoch 300/2000\n",
      "2475/2475 [==============================] - 256s 103ms/step - loss: 0.0719 - accuracy: 0.9578 - val_loss: 0.1119 - val_accuracy: 0.9645\n",
      "Epoch 301/2000\n",
      "2475/2475 [==============================] - 256s 103ms/step - loss: 0.0721 - accuracy: 0.9578 - val_loss: 0.1113 - val_accuracy: 0.9639\n",
      "Epoch 302/2000\n",
      "2475/2475 [==============================] - 255s 103ms/step - loss: 0.0724 - accuracy: 0.9577 - val_loss: 0.1089 - val_accuracy: 0.9647\n",
      "Epoch 303/2000\n",
      "2475/2475 [==============================] - 255s 103ms/step - loss: 0.0722 - accuracy: 0.9579 - val_loss: 0.1118 - val_accuracy: 0.9642\n",
      "Epoch 304/2000\n",
      "2475/2475 [==============================] - 255s 103ms/step - loss: 0.0723 - accuracy: 0.9579 - val_loss: 0.1162 - val_accuracy: 0.9627\n",
      "Epoch 305/2000\n",
      "2475/2475 [==============================] - 255s 103ms/step - loss: 0.0722 - accuracy: 0.9578 - val_loss: 0.1086 - val_accuracy: 0.9651\n",
      "Epoch 306/2000\n",
      "2475/2475 [==============================] - 255s 103ms/step - loss: 0.0720 - accuracy: 0.9581 - val_loss: 0.1111 - val_accuracy: 0.9636\n",
      "Epoch 307/2000\n",
      "2475/2475 [==============================] - 255s 103ms/step - loss: 0.0722 - accuracy: 0.9582 - val_loss: 0.1103 - val_accuracy: 0.9639\n",
      "Epoch 308/2000\n",
      "2475/2475 [==============================] - 266s 108ms/step - loss: 0.0723 - accuracy: 0.9577 - val_loss: 0.1096 - val_accuracy: 0.9643\n",
      "Epoch 309/2000\n",
      "2475/2475 [==============================] - 434s 175ms/step - loss: 0.0721 - accuracy: 0.9581 - val_loss: 0.1131 - val_accuracy: 0.9639\n",
      "Epoch 310/2000\n",
      "2475/2475 [==============================] - 450s 182ms/step - loss: 0.0719 - accuracy: 0.9582 - val_loss: 0.1165 - val_accuracy: 0.9621\n",
      "Epoch 311/2000\n",
      "2475/2475 [==============================] - 451s 182ms/step - loss: 0.0718 - accuracy: 0.9581 - val_loss: 0.1129 - val_accuracy: 0.9637\n",
      "Epoch 312/2000\n",
      "2475/2475 [==============================] - 451s 182ms/step - loss: 0.0721 - accuracy: 0.9577 - val_loss: 0.1127 - val_accuracy: 0.9626\n",
      "Epoch 313/2000\n",
      "2475/2475 [==============================] - 451s 182ms/step - loss: 0.0719 - accuracy: 0.9582 - val_loss: 0.1176 - val_accuracy: 0.9605\n",
      "Epoch 314/2000\n",
      "2475/2475 [==============================] - 451s 182ms/step - loss: 0.0716 - accuracy: 0.9582 - val_loss: 0.1118 - val_accuracy: 0.9633\n",
      "Epoch 315/2000\n",
      "2475/2475 [==============================] - 450s 182ms/step - loss: 0.0716 - accuracy: 0.9587 - val_loss: 0.1186 - val_accuracy: 0.9622\n",
      "Epoch 316/2000\n",
      "2475/2475 [==============================] - 449s 181ms/step - loss: 0.0719 - accuracy: 0.9586 - val_loss: 0.1220 - val_accuracy: 0.9601\n",
      "Epoch 317/2000\n",
      "2475/2475 [==============================] - 449s 181ms/step - loss: 0.0720 - accuracy: 0.9581 - val_loss: 0.1104 - val_accuracy: 0.9641\n",
      "Epoch 318/2000\n",
      "2475/2475 [==============================] - 449s 182ms/step - loss: 0.0718 - accuracy: 0.9579 - val_loss: 0.1153 - val_accuracy: 0.9622\n",
      "Epoch 319/2000\n",
      "2475/2475 [==============================] - 449s 181ms/step - loss: 0.0713 - accuracy: 0.9584 - val_loss: 0.1103 - val_accuracy: 0.9648\n",
      "Epoch 320/2000\n",
      "2475/2475 [==============================] - 449s 181ms/step - loss: 0.0715 - accuracy: 0.9581 - val_loss: 0.1106 - val_accuracy: 0.9638\n",
      "Epoch 321/2000\n",
      "2475/2475 [==============================] - 449s 181ms/step - loss: 0.0716 - accuracy: 0.9584 - val_loss: 0.1135 - val_accuracy: 0.9633\n",
      "Epoch 322/2000\n",
      "2475/2475 [==============================] - 449s 181ms/step - loss: 0.0717 - accuracy: 0.9579 - val_loss: 0.1109 - val_accuracy: 0.9650\n",
      "Epoch 323/2000\n",
      "2475/2475 [==============================] - 448s 181ms/step - loss: 0.0711 - accuracy: 0.9585 - val_loss: 0.1139 - val_accuracy: 0.9638\n"
     ]
    },
    {
     "name": "stdout",
     "output_type": "stream",
     "text": [
      "Epoch 324/2000\n",
      "2475/2475 [==============================] - 448s 181ms/step - loss: 0.0715 - accuracy: 0.9583 - val_loss: 0.1074 - val_accuracy: 0.9666\n",
      "Epoch 325/2000\n",
      "2475/2475 [==============================] - 448s 181ms/step - loss: 0.0714 - accuracy: 0.9583 - val_loss: 0.1133 - val_accuracy: 0.9637\n",
      "Epoch 326/2000\n",
      "2475/2475 [==============================] - 449s 181ms/step - loss: 0.0726 - accuracy: 0.9576 - val_loss: 0.1203 - val_accuracy: 0.9607\n",
      "Epoch 327/2000\n",
      "2475/2475 [==============================] - 361s 146ms/step - loss: 0.0711 - accuracy: 0.9585 - val_loss: 0.1263 - val_accuracy: 0.9598\n",
      "Epoch 328/2000\n",
      "2475/2475 [==============================] - 242s 98ms/step - loss: 0.0716 - accuracy: 0.9583 - val_loss: 0.1212 - val_accuracy: 0.9610\n",
      "Epoch 329/2000\n",
      "2475/2475 [==============================] - 251s 101ms/step - loss: 0.0713 - accuracy: 0.9583 - val_loss: 0.1213 - val_accuracy: 0.9612\n",
      "Epoch 330/2000\n",
      "2475/2475 [==============================] - 251s 101ms/step - loss: 0.0711 - accuracy: 0.9586 - val_loss: 0.1135 - val_accuracy: 0.9630\n",
      "Epoch 331/2000\n",
      "2475/2475 [==============================] - 251s 101ms/step - loss: 0.0714 - accuracy: 0.9584 - val_loss: 0.1120 - val_accuracy: 0.9642\n",
      "Epoch 332/2000\n",
      "2475/2475 [==============================] - 253s 102ms/step - loss: 0.0714 - accuracy: 0.9584 - val_loss: 0.1121 - val_accuracy: 0.9639\n",
      "Epoch 333/2000\n",
      "2475/2475 [==============================] - 254s 103ms/step - loss: 0.0710 - accuracy: 0.9586 - val_loss: 0.1224 - val_accuracy: 0.9606\n",
      "Epoch 334/2000\n",
      "2475/2475 [==============================] - 254s 103ms/step - loss: 0.0711 - accuracy: 0.9586 - val_loss: 0.1138 - val_accuracy: 0.9635\n",
      "Epoch 335/2000\n",
      "2475/2475 [==============================] - 254s 103ms/step - loss: 0.0714 - accuracy: 0.9586 - val_loss: 0.1150 - val_accuracy: 0.9632\n",
      "Epoch 336/2000\n",
      "2475/2475 [==============================] - 254s 103ms/step - loss: 0.0712 - accuracy: 0.9587 - val_loss: 0.1170 - val_accuracy: 0.9619\n",
      "Epoch 337/2000\n",
      "2475/2475 [==============================] - 254s 103ms/step - loss: 0.0713 - accuracy: 0.9585 - val_loss: 0.1106 - val_accuracy: 0.9648\n",
      "Epoch 338/2000\n",
      "2475/2475 [==============================] - 254s 103ms/step - loss: 0.0712 - accuracy: 0.9587 - val_loss: 0.1049 - val_accuracy: 0.9665\n",
      "Epoch 339/2000\n",
      "2475/2475 [==============================] - 254s 103ms/step - loss: 0.0709 - accuracy: 0.9586 - val_loss: 0.1144 - val_accuracy: 0.9637\n",
      "Epoch 340/2000\n",
      "2475/2475 [==============================] - 254s 103ms/step - loss: 0.0711 - accuracy: 0.9588 - val_loss: 0.1237 - val_accuracy: 0.9596\n",
      "Epoch 341/2000\n",
      "2475/2475 [==============================] - 256s 103ms/step - loss: 0.0705 - accuracy: 0.9588 - val_loss: 0.1092 - val_accuracy: 0.9646\n",
      "Epoch 342/2000\n",
      "2475/2475 [==============================] - 263s 106ms/step - loss: 0.0709 - accuracy: 0.9587 - val_loss: 0.1148 - val_accuracy: 0.9628\n",
      "Epoch 343/2000\n",
      "2475/2475 [==============================] - 258s 104ms/step - loss: 0.0709 - accuracy: 0.9587 - val_loss: 0.1120 - val_accuracy: 0.9621\n",
      "Epoch 344/2000\n",
      "2475/2475 [==============================] - 261s 105ms/step - loss: 0.0708 - accuracy: 0.9585 - val_loss: 0.1117 - val_accuracy: 0.9640\n",
      "Epoch 345/2000\n",
      "2475/2475 [==============================] - 255s 103ms/step - loss: 0.0707 - accuracy: 0.9587 - val_loss: 0.1090 - val_accuracy: 0.9654\n",
      "Epoch 346/2000\n",
      "2475/2475 [==============================] - 255s 103ms/step - loss: 0.0709 - accuracy: 0.9589 - val_loss: 0.1126 - val_accuracy: 0.9648\n",
      "Epoch 347/2000\n",
      "2475/2475 [==============================] - 266s 108ms/step - loss: 0.0711 - accuracy: 0.9583 - val_loss: 0.1114 - val_accuracy: 0.9644\n",
      "Epoch 348/2000\n",
      "2475/2475 [==============================] - 258s 104ms/step - loss: 0.0707 - accuracy: 0.9586 - val_loss: 0.1073 - val_accuracy: 0.9649\n",
      "Epoch 349/2000\n",
      "2475/2475 [==============================] - 256s 103ms/step - loss: 0.0706 - accuracy: 0.9586 - val_loss: 0.1075 - val_accuracy: 0.9655\n",
      "Epoch 350/2000\n",
      "2475/2475 [==============================] - 254s 103ms/step - loss: 0.0706 - accuracy: 0.9588 - val_loss: 0.1189 - val_accuracy: 0.9615\n",
      "Epoch 351/2000\n",
      "2475/2475 [==============================] - 255s 103ms/step - loss: 0.0708 - accuracy: 0.9587 - val_loss: 0.1148 - val_accuracy: 0.9624\n",
      "Epoch 352/2000\n",
      "2475/2475 [==============================] - 255s 103ms/step - loss: 0.0708 - accuracy: 0.9588 - val_loss: 0.1119 - val_accuracy: 0.9633\n",
      "Epoch 353/2000\n",
      "2475/2475 [==============================] - 256s 103ms/step - loss: 0.0707 - accuracy: 0.9587 - val_loss: 0.1251 - val_accuracy: 0.9589\n",
      "Epoch 354/2000\n",
      "2475/2475 [==============================] - 267s 108ms/step - loss: 0.0708 - accuracy: 0.9589 - val_loss: 0.1132 - val_accuracy: 0.9632\n",
      "Epoch 355/2000\n",
      "2475/2475 [==============================] - 261s 105ms/step - loss: 0.0704 - accuracy: 0.9588 - val_loss: 0.1153 - val_accuracy: 0.9639\n",
      "Epoch 356/2000\n",
      "2475/2475 [==============================] - 260s 105ms/step - loss: 0.0706 - accuracy: 0.9587 - val_loss: 0.1099 - val_accuracy: 0.9649\n",
      "Epoch 357/2000\n",
      "2475/2475 [==============================] - 257s 104ms/step - loss: 0.0706 - accuracy: 0.9588 - val_loss: 0.1125 - val_accuracy: 0.9632\n",
      "Epoch 358/2000\n",
      "2475/2475 [==============================] - 260s 105ms/step - loss: 0.0711 - accuracy: 0.9587 - val_loss: 0.1118 - val_accuracy: 0.9635\n",
      "Epoch 359/2000\n",
      "2475/2475 [==============================] - 257s 104ms/step - loss: 0.0701 - accuracy: 0.9590 - val_loss: 0.1067 - val_accuracy: 0.9659\n",
      "Epoch 360/2000\n",
      "2475/2475 [==============================] - 258s 104ms/step - loss: 0.0702 - accuracy: 0.9589 - val_loss: 0.1087 - val_accuracy: 0.9651\n",
      "Epoch 361/2000\n",
      "2475/2475 [==============================] - 258s 104ms/step - loss: 0.0705 - accuracy: 0.9587 - val_loss: 0.1128 - val_accuracy: 0.9638\n",
      "Epoch 362/2000\n",
      "2475/2475 [==============================] - 261s 105ms/step - loss: 0.0705 - accuracy: 0.9589 - val_loss: 0.1091 - val_accuracy: 0.9650\n",
      "Epoch 363/2000\n",
      "2475/2475 [==============================] - 258s 104ms/step - loss: 0.0704 - accuracy: 0.9587 - val_loss: 0.1056 - val_accuracy: 0.9653\n",
      "Epoch 364/2000\n",
      "2475/2475 [==============================] - 262s 106ms/step - loss: 0.0705 - accuracy: 0.9588 - val_loss: 0.1158 - val_accuracy: 0.9625\n",
      "Epoch 365/2000\n",
      "2475/2475 [==============================] - 258s 104ms/step - loss: 0.0703 - accuracy: 0.9593 - val_loss: 0.1104 - val_accuracy: 0.9650\n",
      "Epoch 366/2000\n",
      "2475/2475 [==============================] - 260s 105ms/step - loss: 0.0703 - accuracy: 0.9590 - val_loss: 0.1116 - val_accuracy: 0.9649\n",
      "Epoch 367/2000\n",
      "2475/2475 [==============================] - 262s 106ms/step - loss: 0.0707 - accuracy: 0.9589 - val_loss: 0.1114 - val_accuracy: 0.9632\n",
      "Epoch 368/2000\n",
      "2475/2475 [==============================] - 260s 105ms/step - loss: 0.0703 - accuracy: 0.9588 - val_loss: 0.1098 - val_accuracy: 0.9648\n",
      "Epoch 369/2000\n",
      "2475/2475 [==============================] - 263s 106ms/step - loss: 0.0701 - accuracy: 0.9589 - val_loss: 0.1088 - val_accuracy: 0.9651\n",
      "Epoch 370/2000\n",
      "2475/2475 [==============================] - 257s 104ms/step - loss: 0.0700 - accuracy: 0.9590 - val_loss: 0.1134 - val_accuracy: 0.9634\n",
      "Epoch 371/2000\n",
      "2475/2475 [==============================] - 261s 105ms/step - loss: 0.0701 - accuracy: 0.9588 - val_loss: 0.1065 - val_accuracy: 0.9651\n",
      "Epoch 372/2000\n",
      "2475/2475 [==============================] - 267s 108ms/step - loss: 0.0700 - accuracy: 0.9589 - val_loss: 0.1162 - val_accuracy: 0.9621\n",
      "Epoch 373/2000\n",
      "2475/2475 [==============================] - 259s 105ms/step - loss: 0.0701 - accuracy: 0.9590 - val_loss: 0.1137 - val_accuracy: 0.9628\n",
      "Epoch 374/2000\n",
      "2475/2475 [==============================] - 257s 104ms/step - loss: 0.0700 - accuracy: 0.9591 - val_loss: 0.1138 - val_accuracy: 0.9618\n",
      "Epoch 375/2000\n",
      "2475/2475 [==============================] - 257s 104ms/step - loss: 0.0701 - accuracy: 0.9591 - val_loss: 0.1127 - val_accuracy: 0.9640\n",
      "Epoch 376/2000\n",
      "2475/2475 [==============================] - 258s 104ms/step - loss: 0.0702 - accuracy: 0.9588 - val_loss: 0.1077 - val_accuracy: 0.9649\n",
      "Epoch 377/2000\n",
      "2475/2475 [==============================] - 260s 105ms/step - loss: 0.0699 - accuracy: 0.9593 - val_loss: 0.1165 - val_accuracy: 0.9620\n"
     ]
    },
    {
     "name": "stdout",
     "output_type": "stream",
     "text": [
      "Epoch 378/2000\n",
      "2475/2475 [==============================] - 261s 106ms/step - loss: 0.0702 - accuracy: 0.9588 - val_loss: 0.1169 - val_accuracy: 0.9625\n",
      "Epoch 379/2000\n",
      "2475/2475 [==============================] - 266s 107ms/step - loss: 0.0698 - accuracy: 0.9589 - val_loss: 0.1164 - val_accuracy: 0.9620\n",
      "Epoch 380/2000\n",
      "2475/2475 [==============================] - 272s 110ms/step - loss: 0.0700 - accuracy: 0.9592 - val_loss: 0.1158 - val_accuracy: 0.9627\n",
      "Epoch 381/2000\n",
      "2475/2475 [==============================] - 275s 111ms/step - loss: 0.0702 - accuracy: 0.9592 - val_loss: 0.1065 - val_accuracy: 0.9651\n",
      "Epoch 382/2000\n",
      "2475/2475 [==============================] - 274s 111ms/step - loss: 0.0699 - accuracy: 0.9590 - val_loss: 0.1085 - val_accuracy: 0.9652\n",
      "Epoch 383/2000\n",
      "2475/2475 [==============================] - 264s 107ms/step - loss: 0.0701 - accuracy: 0.9590 - val_loss: 0.1115 - val_accuracy: 0.9644\n",
      "Epoch 384/2000\n",
      "2475/2475 [==============================] - 253s 102ms/step - loss: 0.0702 - accuracy: 0.9591 - val_loss: 0.1109 - val_accuracy: 0.9649\n",
      "Epoch 385/2000\n",
      "2475/2475 [==============================] - 252s 102ms/step - loss: 0.0699 - accuracy: 0.9591 - val_loss: 0.1206 - val_accuracy: 0.9605\n",
      "Epoch 386/2000\n",
      "2475/2475 [==============================] - 252s 102ms/step - loss: 0.0696 - accuracy: 0.9594 - val_loss: 0.1159 - val_accuracy: 0.9630\n",
      "Epoch 387/2000\n",
      "2475/2475 [==============================] - 252s 102ms/step - loss: 0.0698 - accuracy: 0.9589 - val_loss: 0.1053 - val_accuracy: 0.9661\n",
      "Epoch 388/2000\n",
      "2475/2475 [==============================] - 252s 102ms/step - loss: 0.0700 - accuracy: 0.9591 - val_loss: 0.1094 - val_accuracy: 0.9651\n",
      "Epoch 389/2000\n",
      "2475/2475 [==============================] - 252s 102ms/step - loss: 0.0697 - accuracy: 0.9593 - val_loss: 0.1141 - val_accuracy: 0.9641\n",
      "Epoch 390/2000\n",
      "2475/2475 [==============================] - 252s 102ms/step - loss: 0.0702 - accuracy: 0.9589 - val_loss: 0.1164 - val_accuracy: 0.9634\n",
      "Epoch 391/2000\n",
      "2475/2475 [==============================] - 252s 102ms/step - loss: 0.0698 - accuracy: 0.9590 - val_loss: 0.1092 - val_accuracy: 0.9648\n",
      "Epoch 392/2000\n",
      "2475/2475 [==============================] - 252s 102ms/step - loss: 0.0696 - accuracy: 0.9594 - val_loss: 0.1122 - val_accuracy: 0.9643\n",
      "Epoch 393/2000\n",
      "2475/2475 [==============================] - 252s 102ms/step - loss: 0.0696 - accuracy: 0.9595 - val_loss: 0.1060 - val_accuracy: 0.9657\n",
      "Epoch 394/2000\n",
      "2475/2475 [==============================] - 251s 101ms/step - loss: 0.0697 - accuracy: 0.9591 - val_loss: 0.1118 - val_accuracy: 0.9647\n",
      "Epoch 395/2000\n",
      "2475/2475 [==============================] - 252s 102ms/step - loss: 0.0694 - accuracy: 0.9594 - val_loss: 0.1069 - val_accuracy: 0.9669\n",
      "Epoch 396/2000\n",
      "2475/2475 [==============================] - 252s 102ms/step - loss: 0.0695 - accuracy: 0.9597 - val_loss: 0.1171 - val_accuracy: 0.9611\n",
      "Epoch 397/2000\n",
      "2475/2475 [==============================] - 253s 102ms/step - loss: 0.0696 - accuracy: 0.9594 - val_loss: 0.1076 - val_accuracy: 0.9653\n",
      "Epoch 398/2000\n",
      "2475/2475 [==============================] - 252s 102ms/step - loss: 0.0695 - accuracy: 0.9594 - val_loss: 0.1070 - val_accuracy: 0.9654\n",
      "Epoch 399/2000\n",
      "2475/2475 [==============================] - 252s 102ms/step - loss: 0.0697 - accuracy: 0.9592 - val_loss: 0.1105 - val_accuracy: 0.9637\n",
      "Epoch 400/2000\n",
      "2475/2475 [==============================] - 252s 102ms/step - loss: 0.0693 - accuracy: 0.9596 - val_loss: 0.1100 - val_accuracy: 0.9646\n",
      "Epoch 401/2000\n",
      "2475/2475 [==============================] - 253s 102ms/step - loss: 0.0697 - accuracy: 0.9594 - val_loss: 0.1117 - val_accuracy: 0.9643\n",
      "Epoch 402/2000\n",
      "2475/2475 [==============================] - 252s 102ms/step - loss: 0.0698 - accuracy: 0.9594 - val_loss: 0.1245 - val_accuracy: 0.9592\n",
      "Epoch 403/2000\n",
      "2475/2475 [==============================] - 252s 102ms/step - loss: 0.0698 - accuracy: 0.9596 - val_loss: 0.1141 - val_accuracy: 0.9647\n",
      "Epoch 404/2000\n",
      "2475/2475 [==============================] - 252s 102ms/step - loss: 0.0695 - accuracy: 0.9592 - val_loss: 0.1070 - val_accuracy: 0.9656\n",
      "Epoch 405/2000\n",
      "2475/2475 [==============================] - 252s 102ms/step - loss: 0.0697 - accuracy: 0.9593 - val_loss: 0.1096 - val_accuracy: 0.9646\n",
      "Epoch 406/2000\n",
      "2475/2475 [==============================] - 252s 102ms/step - loss: 0.0692 - accuracy: 0.9595 - val_loss: 0.1110 - val_accuracy: 0.9649\n",
      "Epoch 407/2000\n",
      "2475/2475 [==============================] - 252s 102ms/step - loss: 0.0693 - accuracy: 0.9596 - val_loss: 0.1137 - val_accuracy: 0.9631\n",
      "Epoch 408/2000\n",
      "2475/2475 [==============================] - 252s 102ms/step - loss: 0.0691 - accuracy: 0.9595 - val_loss: 0.1059 - val_accuracy: 0.9664\n",
      "Epoch 409/2000\n",
      "2475/2475 [==============================] - 252s 102ms/step - loss: 0.0695 - accuracy: 0.9596 - val_loss: 0.1116 - val_accuracy: 0.9647\n",
      "Epoch 410/2000\n",
      "2475/2475 [==============================] - 252s 102ms/step - loss: 0.0695 - accuracy: 0.9592 - val_loss: 0.1157 - val_accuracy: 0.9631\n",
      "Epoch 411/2000\n",
      "2475/2475 [==============================] - 253s 102ms/step - loss: 0.0693 - accuracy: 0.9598 - val_loss: 0.1139 - val_accuracy: 0.9621\n",
      "Epoch 412/2000\n",
      "2475/2475 [==============================] - 253s 102ms/step - loss: 0.0690 - accuracy: 0.9599 - val_loss: 0.1101 - val_accuracy: 0.9648\n",
      "Epoch 413/2000\n",
      "2475/2475 [==============================] - 252s 102ms/step - loss: 0.0693 - accuracy: 0.9595 - val_loss: 0.1215 - val_accuracy: 0.9596\n",
      "Epoch 414/2000\n",
      "2475/2475 [==============================] - 252s 102ms/step - loss: 0.0691 - accuracy: 0.9596 - val_loss: 0.1073 - val_accuracy: 0.9653\n",
      "Epoch 415/2000\n",
      "2475/2475 [==============================] - 252s 102ms/step - loss: 0.0690 - accuracy: 0.9596 - val_loss: 0.1121 - val_accuracy: 0.9641\n",
      "Epoch 416/2000\n",
      "2475/2475 [==============================] - 259s 105ms/step - loss: 0.0695 - accuracy: 0.9596 - val_loss: 0.1136 - val_accuracy: 0.9640\n",
      "Epoch 417/2000\n",
      "2475/2475 [==============================] - 252s 102ms/step - loss: 0.0693 - accuracy: 0.9597 - val_loss: 0.1172 - val_accuracy: 0.9625\n",
      "Epoch 418/2000\n",
      "2475/2475 [==============================] - 252s 102ms/step - loss: 0.0696 - accuracy: 0.9596 - val_loss: 0.1085 - val_accuracy: 0.9640\n",
      "Epoch 419/2000\n",
      "2475/2475 [==============================] - 252s 102ms/step - loss: 0.0690 - accuracy: 0.9603 - val_loss: 0.1176 - val_accuracy: 0.9618\n",
      "Epoch 420/2000\n",
      "2475/2475 [==============================] - 252s 102ms/step - loss: 0.0690 - accuracy: 0.9598 - val_loss: 0.1088 - val_accuracy: 0.9654\n",
      "Epoch 421/2000\n",
      "2475/2475 [==============================] - 252s 102ms/step - loss: 0.0693 - accuracy: 0.9596 - val_loss: 0.1068 - val_accuracy: 0.9656\n",
      "Epoch 422/2000\n",
      "2475/2475 [==============================] - 252s 102ms/step - loss: 0.0689 - accuracy: 0.9595 - val_loss: 0.1117 - val_accuracy: 0.9639\n",
      "Epoch 423/2000\n",
      "2475/2475 [==============================] - 252s 102ms/step - loss: 0.0691 - accuracy: 0.9598 - val_loss: 0.1069 - val_accuracy: 0.9654\n",
      "Epoch 424/2000\n",
      "2475/2475 [==============================] - 252s 102ms/step - loss: 0.0688 - accuracy: 0.9597 - val_loss: 0.1128 - val_accuracy: 0.9633\n",
      "Epoch 425/2000\n",
      "2475/2475 [==============================] - 252s 102ms/step - loss: 0.0691 - accuracy: 0.9597 - val_loss: 0.1125 - val_accuracy: 0.9644\n",
      "Epoch 426/2000\n",
      "2475/2475 [==============================] - 252s 102ms/step - loss: 0.0687 - accuracy: 0.9602 - val_loss: 0.1167 - val_accuracy: 0.9620\n",
      "Epoch 427/2000\n",
      "2475/2475 [==============================] - 252s 102ms/step - loss: 0.0695 - accuracy: 0.9592 - val_loss: 0.1101 - val_accuracy: 0.9638\n",
      "Epoch 428/2000\n",
      "2475/2475 [==============================] - 252s 102ms/step - loss: 0.0689 - accuracy: 0.9601 - val_loss: 0.1136 - val_accuracy: 0.9636\n",
      "Epoch 429/2000\n",
      "2475/2475 [==============================] - 252s 102ms/step - loss: 0.0691 - accuracy: 0.9597 - val_loss: 0.1186 - val_accuracy: 0.9620\n",
      "Epoch 430/2000\n",
      "2475/2475 [==============================] - 252s 102ms/step - loss: 0.0686 - accuracy: 0.9598 - val_loss: 0.1119 - val_accuracy: 0.9644\n",
      "Epoch 431/2000\n",
      "2475/2475 [==============================] - 252s 102ms/step - loss: 0.0690 - accuracy: 0.9598 - val_loss: 0.1054 - val_accuracy: 0.9664\n"
     ]
    },
    {
     "name": "stdout",
     "output_type": "stream",
     "text": [
      "Epoch 432/2000\n",
      "2475/2475 [==============================] - 252s 102ms/step - loss: 0.0690 - accuracy: 0.9597 - val_loss: 0.1076 - val_accuracy: 0.9656\n",
      "Epoch 433/2000\n",
      "2475/2475 [==============================] - 252s 102ms/step - loss: 0.0687 - accuracy: 0.9598 - val_loss: 0.1099 - val_accuracy: 0.9658\n",
      "Epoch 434/2000\n",
      "2475/2475 [==============================] - 252s 102ms/step - loss: 0.0691 - accuracy: 0.9596 - val_loss: 0.1120 - val_accuracy: 0.9646\n",
      "Epoch 435/2000\n",
      "2475/2475 [==============================] - 252s 102ms/step - loss: 0.0692 - accuracy: 0.9596 - val_loss: 0.1085 - val_accuracy: 0.9649\n",
      "Epoch 436/2000\n",
      "2475/2475 [==============================] - 252s 102ms/step - loss: 0.0683 - accuracy: 0.9601 - val_loss: 0.1186 - val_accuracy: 0.9614\n",
      "Epoch 437/2000\n",
      "2475/2475 [==============================] - 252s 102ms/step - loss: 0.0686 - accuracy: 0.9600 - val_loss: 0.1174 - val_accuracy: 0.9612\n",
      "Epoch 438/2000\n",
      "2475/2475 [==============================] - 252s 102ms/step - loss: 0.0689 - accuracy: 0.9599 - val_loss: 0.1140 - val_accuracy: 0.9625\n",
      "Epoch 439/2000\n",
      "2475/2475 [==============================] - 253s 102ms/step - loss: 0.0687 - accuracy: 0.9599 - val_loss: 0.1134 - val_accuracy: 0.9633\n",
      "Epoch 440/2000\n",
      "2475/2475 [==============================] - 252s 102ms/step - loss: 0.0687 - accuracy: 0.9599 - val_loss: 0.1200 - val_accuracy: 0.9610\n",
      "Epoch 441/2000\n",
      "2475/2475 [==============================] - 252s 102ms/step - loss: 0.0687 - accuracy: 0.9599 - val_loss: 0.1180 - val_accuracy: 0.9611\n",
      "Epoch 442/2000\n",
      "2475/2475 [==============================] - 252s 102ms/step - loss: 0.0683 - accuracy: 0.9603 - val_loss: 0.1152 - val_accuracy: 0.9614\n",
      "Epoch 443/2000\n",
      "2475/2475 [==============================] - 252s 102ms/step - loss: 0.0686 - accuracy: 0.9598 - val_loss: 0.1060 - val_accuracy: 0.9661\n",
      "Epoch 444/2000\n",
      "2475/2475 [==============================] - 252s 102ms/step - loss: 0.0683 - accuracy: 0.9599 - val_loss: 0.1178 - val_accuracy: 0.9608\n",
      "Epoch 445/2000\n",
      "2475/2475 [==============================] - 252s 102ms/step - loss: 0.0687 - accuracy: 0.9595 - val_loss: 0.1127 - val_accuracy: 0.9642\n",
      "Epoch 446/2000\n",
      "2475/2475 [==============================] - 252s 102ms/step - loss: 0.0685 - accuracy: 0.9602 - val_loss: 0.1113 - val_accuracy: 0.9639\n",
      "Epoch 447/2000\n",
      "2475/2475 [==============================] - 252s 102ms/step - loss: 0.0683 - accuracy: 0.9601 - val_loss: 0.1153 - val_accuracy: 0.9616\n",
      "Epoch 448/2000\n",
      "2475/2475 [==============================] - 253s 102ms/step - loss: 0.0684 - accuracy: 0.9599 - val_loss: 0.1178 - val_accuracy: 0.9622\n",
      "Epoch 449/2000\n",
      "2475/2475 [==============================] - 252s 102ms/step - loss: 0.0685 - accuracy: 0.9600 - val_loss: 0.1070 - val_accuracy: 0.9654\n",
      "Epoch 450/2000\n",
      "2475/2475 [==============================] - 252s 102ms/step - loss: 0.0685 - accuracy: 0.9599 - val_loss: 0.1129 - val_accuracy: 0.9643\n",
      "Epoch 451/2000\n",
      "2475/2475 [==============================] - 252s 102ms/step - loss: 0.0684 - accuracy: 0.9601 - val_loss: 0.1173 - val_accuracy: 0.9625\n",
      "Epoch 452/2000\n",
      "2475/2475 [==============================] - 252s 102ms/step - loss: 0.0683 - accuracy: 0.9601 - val_loss: 0.1111 - val_accuracy: 0.9644\n",
      "Epoch 453/2000\n",
      "2475/2475 [==============================] - 252s 102ms/step - loss: 0.0687 - accuracy: 0.9600 - val_loss: 0.1085 - val_accuracy: 0.9651\n",
      "Epoch 454/2000\n",
      "2475/2475 [==============================] - 252s 102ms/step - loss: 0.0685 - accuracy: 0.9597 - val_loss: 0.1034 - val_accuracy: 0.9665\n",
      "Epoch 455/2000\n",
      "2475/2475 [==============================] - 252s 102ms/step - loss: 0.0686 - accuracy: 0.9599 - val_loss: 0.1114 - val_accuracy: 0.9638\n",
      "Epoch 456/2000\n",
      "2475/2475 [==============================] - 252s 102ms/step - loss: 0.0683 - accuracy: 0.9602 - val_loss: 0.1152 - val_accuracy: 0.9632\n"
     ]
    }
   ],
   "source": [
    "callback = tf.keras.callbacks.EarlyStopping(monitor='loss', patience=20)\n",
    "# time_stopping_callback = tfa.callbacks.TimeStopping(seconds=60*58, verbose=1) #58min\n",
    "history = model.fit(X_train,y_train,batch_size=200,epochs=2000,\n",
    "                    validation_split=0.05,class_weight=weights,\n",
    "                    use_multiprocessing=True,workers=8,callbacks=[callback])"
   ]
  },
  {
   "cell_type": "code",
   "execution_count": 81,
   "id": "6b8b3453",
   "metadata": {
    "ExecuteTime": {
     "end_time": "2021-12-31T03:55:43.049969Z",
     "start_time": "2021-12-31T03:55:42.677716Z"
    },
    "scrolled": true
   },
   "outputs": [
    {
     "data": {
      "image/png": "[encoded data removed]",
      "text/plain": [
       "<Figure size 432x288 with 1 Axes>"
      ]
     },
     "metadata": {
      "needs_background": "light"
     },
     "output_type": "display_data"
    }
   ],
   "source": [
    "plt.plot(history.history['accuracy'])\n",
    "plt.plot(history.history['val_accuracy'])\n",
    "plt.plot(history.history['loss'])\n",
    "plt.plot(history.history['val_loss'])\n",
    "plt.title('Model Train Metrics')\n",
    "plt.ylabel('Metric')\n",
    "plt.xlabel('Epoch')\n",
    "plt.legend(['Train', 'Validation'])\n",
    "plt.show()"
   ]
  },
  {
   "cell_type": "code",
   "execution_count": 82,
   "id": "0cc7356e",
   "metadata": {
    "ExecuteTime": {
     "end_time": "2021-12-31T03:55:50.010034Z",
     "start_time": "2021-12-31T03:55:43.755130Z"
    }
   },
   "outputs": [
    {
     "name": "stdout",
     "output_type": "stream",
     "text": [
      "INFO:tensorflow:Assets written to: lstm_char_embedding\\assets\n"
     ]
    }
   ],
   "source": [
    "model.save(\"lstm_char_embedding\")"
   ]
  },
  {
   "cell_type": "code",
   "execution_count": 87,
   "id": "ff6d970a",
   "metadata": {
    "ExecuteTime": {
     "end_time": "2021-12-31T05:42:15.481509Z",
     "start_time": "2021-12-31T05:42:13.534018Z"
    }
   },
   "outputs": [
    {
     "data": {
      "text/plain": [
       "(130239, 77)"
      ]
     },
     "execution_count": 87,
     "metadata": {},
     "output_type": "execute_result"
    }
   ],
   "source": [
    "# X_train.shape,np.expand_dims(X_test,axis=-1).shape\n",
    "seq = toknizer.texts_to_sequences(X_test)\n",
    "seq = pad_sequences(seq,maxlen=77,padding='post')\n",
    "seq.shape"
   ]
  },
  {
   "cell_type": "code",
   "execution_count": 88,
   "id": "6c71d6d1",
   "metadata": {
    "ExecuteTime": {
     "end_time": "2021-12-31T05:42:58.505779Z",
     "start_time": "2021-12-31T05:42:58.495792Z"
    }
   },
   "outputs": [],
   "source": [
    "X_test = np.expand_dims(seq,axis=-1)"
   ]
  },
  {
   "cell_type": "code",
   "execution_count": 103,
   "id": "bd9e7421",
   "metadata": {
    "ExecuteTime": {
     "end_time": "2021-12-31T06:22:52.036093Z",
     "start_time": "2021-12-31T06:22:23.948366Z"
    }
   },
   "outputs": [
    {
     "name": "stdout",
     "output_type": "stream",
     "text": [
      "              precision    recall  f1-score   support\n",
      "\n",
      "           0       0.98      0.97      0.97     85778\n",
      "           1       0.97      0.99      0.98     19104\n",
      "           2       0.97      0.95      0.96      6521\n",
      "           3       0.87      0.91      0.89     18836\n",
      "\n",
      "    accuracy                           0.96    130239\n",
      "   macro avg       0.95      0.95      0.95    130239\n",
      "weighted avg       0.96      0.96      0.96    130239\n",
      "\n"
     ]
    }
   ],
   "source": [
    "from sklearn.metrics import classification_report\n",
    "y_pred_test = model.predict(X_test)\n",
    "print(classification_report(y_test,y_pred_test.argmax(axis=1)))"
   ]
  },
  {
   "cell_type": "code",
   "execution_count": 95,
   "id": "8702253a",
   "metadata": {
    "ExecuteTime": {
     "end_time": "2021-12-31T06:08:36.883358Z",
     "start_time": "2021-12-31T06:06:48.325594Z"
    }
   },
   "outputs": [
    {
     "name": "stdout",
     "output_type": "stream",
     "text": [
      "              precision    recall  f1-score   support\n",
      "\n",
      "           0       0.98      0.97      0.98    342325\n",
      "           1       0.98      0.99      0.98     77353\n",
      "           2       0.98      0.96      0.97     25999\n",
      "           3       0.88      0.92      0.90     75275\n",
      "\n",
      "    accuracy                           0.97    520952\n",
      "   macro avg       0.96      0.96      0.96    520952\n",
      "weighted avg       0.97      0.97      0.97    520952\n",
      "\n"
     ]
    }
   ],
   "source": [
    "from sklearn.metrics import classification_report\n",
    "y_pred_train = model.predict(X_train)\n",
    "print(classification_report(y_train.argmax(axis=1),y_pred_train.argmax(axis=1)))"
   ]
  },
  {
   "cell_type": "code",
   "execution_count": 105,
   "id": "b7d4b689",
   "metadata": {
    "ExecuteTime": {
     "end_time": "2021-12-31T06:24:10.447432Z",
     "start_time": "2021-12-31T06:24:10.428421Z"
    }
   },
   "outputs": [
    {
     "data": {
      "text/plain": [
       "(130239,)"
      ]
     },
     "execution_count": 105,
     "metadata": {},
     "output_type": "execute_result"
    }
   ],
   "source": [
    "mask = y_pred_test.argmax(axis=1) != y_test\n",
    "mask.shape"
   ]
  },
  {
   "cell_type": "code",
   "execution_count": 116,
   "id": "66ba37f6",
   "metadata": {
    "ExecuteTime": {
     "end_time": "2021-12-31T07:00:56.328244Z",
     "start_time": "2021-12-31T07:00:55.063914Z"
    }
   },
   "outputs": [
    {
     "data": {
      "image/png": "[encoded data removed]",
      "text/plain": [
       "<Figure size 1200x1200 with 1 Axes>"
      ]
     },
     "metadata": {},
     "output_type": "display_data"
    }
   ],
   "source": [
    "import seaborn as sns\n",
    "sns.set_theme()\n",
    "plt.figure(figsize=(15, 15), dpi=80)\n",
    "mistakes = X_test[mask,:,:]\n",
    "y_pred_mistakes = model.predict(mistakes)\n",
    "counts = (y_pred_mistakes.max(axis=1) * 100).astype(int)\n",
    "uniques,counts = np.unique(counts,return_counts=True)\n",
    "plt.bar(uniques,counts)\n",
    "plt.title(\"Confidence over mistakes\")\n",
    "plt.xlabel(\"Confidence Precentege\")\n",
    "plt.ylabel(\"Instance Count\")\n",
    "plt.show()"
   ]
  },
  {
   "cell_type": "markdown",
   "id": "73885e33",
   "metadata": {},
   "source": [
    "## Preformace"
   ]
  },
  {
   "cell_type": "code",
   "execution_count": 94,
   "id": "a5e9b9c4",
   "metadata": {
    "ExecuteTime": {
     "end_time": "2021-12-31T06:01:27.610581Z",
     "start_time": "2021-12-31T06:01:27.554686Z"
    }
   },
   "outputs": [],
   "source": [
    "instance = X.values[0]\n",
    "seq = toknizer.texts_to_sequences(instance)\n",
    "seq = pad_sequences(seq,maxlen=77,padding='post')\n",
    "seq = np.expand_dims(seq,axis=-1)\n",
    "y_pred = model.predict(seq)"
   ]
  },
  {
   "cell_type": "code",
   "execution_count": null,
   "id": "80007c16",
   "metadata": {},
   "outputs": [],
   "source": []
  }
 ],
 "metadata": {
  "kernelspec": {
   "display_name": "Python 3 (ipykernel)",
   "language": "python",
   "name": "python3"
  },
  "language_info": {
   "codemirror_mode": {
    "name": "ipython",
    "version": 3
   },
   "file_extension": ".py",
   "mimetype": "text/x-python",
   "name": "python",
   "nbconvert_exporter": "python",
   "pygments_lexer": "ipython3",
   "version": "3.9.7"
  },
  "toc": {
   "base_numbering": 1,
   "nav_menu": {},
   "number_sections": true,
   "sideBar": true,
   "skip_h1_title": false,
   "title_cell": "Table of Contents",
   "title_sidebar": "Contents",
   "toc_cell": false,
   "toc_position": {},
   "toc_section_display": true,
   "toc_window_display": false
  },
  "varInspector": {
   "cols": {
    "lenName": 16,
    "lenType": 16,
    "lenVar": 40
   },
   "kernels_config": {
    "python": {
     "delete_cmd_postfix": "",
     "delete_cmd_prefix": "del ",
     "library": "var_list.py",
     "varRefreshCmd": "print(var_dic_list())"
    },
    "r": {
     "delete_cmd_postfix": ") ",
     "delete_cmd_prefix": "rm(",
     "library": "var_list.r",
     "varRefreshCmd": "cat(var_dic_list()) "
    }
   },
   "types_to_exclude": [
    "module",
    "function",
    "builtin_function_or_method",
    "instance",
    "_Feature"
   ],
   "window_display": false
  }
 },
 "nbformat": 4,
 "nbformat_minor": 5
}
